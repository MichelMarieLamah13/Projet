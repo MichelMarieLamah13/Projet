{
 "cells": [
  {
   "cell_type": "code",
   "execution_count": 1,
   "metadata": {
    "ExecuteTime": {
     "end_time": "2024-02-24T17:29:17.983114Z",
     "start_time": "2024-02-24T17:29:13.592018Z"
    }
   },
   "outputs": [],
   "source": [
    "import pandas as pd\n",
    "import numpy as np\n",
    "import matplotlib.pyplot as plt"
   ]
  },
  {
   "cell_type": "code",
   "execution_count": 2,
   "metadata": {
    "ExecuteTime": {
     "end_time": "2024-02-24T15:16:43.617298Z",
     "start_time": "2024-02-24T15:16:43.332893Z"
    },
    "collapsed": false,
    "jupyter": {
     "outputs_hidden": false
    }
   },
   "outputs": [],
   "source": [
    "agents = pd.read_csv('data/Agents.csv')"
   ]
  },
  {
   "cell_type": "code",
   "execution_count": 3,
   "metadata": {
    "collapsed": false,
    "jupyter": {
     "outputs_hidden": false
    }
   },
   "outputs": [
    {
     "name": "stderr",
     "output_type": "stream",
     "text": [
      "/var/folders/5g/rv1sr1bn4sjbl7ydq7b4jthm0000gn/T/ipykernel_30804/2415491140.py:1: DtypeWarning: Columns (10,14,16,20,23) have mixed types. Specify dtype option on import or set low_memory=False.\n",
      "  lots = pd.read_csv('data/Lots.csv')\n"
     ]
    }
   ],
   "source": [
    "lots = pd.read_csv('data/Lots.csv')"
   ]
  },
  {
   "cell_type": "code",
   "execution_count": 4,
   "metadata": {
    "collapsed": false,
    "jupyter": {
     "outputs_hidden": false
    }
   },
   "outputs": [],
   "source": [
    "criterion = pd.read_csv('data/Criteria.csv')"
   ]
  },
  {
   "cell_type": "code",
   "execution_count": 5,
   "metadata": {
    "collapsed": false,
    "jupyter": {
     "outputs_hidden": false
    }
   },
   "outputs": [],
   "source": [
    "lotBuyers = pd.read_csv('data/LotBuyers.csv')"
   ]
  },
  {
   "cell_type": "code",
   "execution_count": 6,
   "metadata": {
    "collapsed": false,
    "jupyter": {
     "outputs_hidden": false
    }
   },
   "outputs": [],
   "source": [
    "lotSuppliers = pd.read_csv('data/LotSuppliers.csv')"
   ]
  },
  {
   "cell_type": "markdown",
   "metadata": {},
   "source": [
    "# Information about lots table"
   ]
  },
  {
   "cell_type": "code",
   "execution_count": 7,
   "metadata": {
    "collapsed": false,
    "jupyter": {
     "outputs_hidden": false
    }
   },
   "outputs": [
    {
     "name": "stdout",
     "output_type": "stream",
     "text": [
      "<class 'pandas.core.frame.DataFrame'>\n",
      "RangeIndex: 1380965 entries, 0 to 1380964\n",
      "Data columns (total 26 columns):\n",
      " #   Column               Non-Null Count    Dtype  \n",
      "---  ------               --------------    -----  \n",
      " 0   lotId                1380965 non-null  int64  \n",
      " 1   tedCanId             1380965 non-null  int64  \n",
      " 2   correctionsNb        1380965 non-null  int64  \n",
      " 3   cancelled            1380965 non-null  int64  \n",
      " 4   awardDate            1194294 non-null  object \n",
      " 5   awardEstimatedPrice  189613 non-null   float64\n",
      " 6   awardPrice           954642 non-null   float64\n",
      " 7   cpv                  1380894 non-null  float64\n",
      " 8   numberTenders        956866 non-null   float64\n",
      " 9   onBehalf             1098422 non-null  object \n",
      " 10  jointProcurement     538755 non-null   object \n",
      " 11  fraAgreement         1380965 non-null  object \n",
      " 12  fraEstimated         238710 non-null   object \n",
      " 13  lotsNumber           1085537 non-null  object \n",
      " 14  accelerated          2555 non-null     object \n",
      " 15  outOfDirectives      1380965 non-null  int64  \n",
      " 16  contractorSme        445532 non-null   object \n",
      " 17  numberTendersSme     44026 non-null    float64\n",
      " 18  subContracted        699720 non-null   object \n",
      " 19  gpa                  1085626 non-null  object \n",
      " 20  multipleCae          541249 non-null   object \n",
      " 21  typeOfContract       1380965 non-null  object \n",
      " 22  topType              1380774 non-null  object \n",
      " 23  renewal              717128 non-null   object \n",
      " 24  contractDuration     842768 non-null   float64\n",
      " 25  publicityDuration    1035374 non-null  float64\n",
      "dtypes: float64(7), int64(5), object(14)\n",
      "memory usage: 273.9+ MB\n"
     ]
    }
   ],
   "source": [
    "lots.info()"
   ]
  },
  {
   "cell_type": "markdown",
   "metadata": {},
   "source": [
    "We can clearly see that, we have:\n",
    "\n",
    "- **Nb Columns**: 26\n",
    "- **Nb Rows**: 1.380.965\n",
    "\n",
    "A lot is a part of buyer's need = Step 2 of awarding procedure\n",
    "\n",
    "The number of criteria used to award a lot is not predefined, and can range from one to any number. Therefore, there is a **many-to-many**\r",
    "relationship between **lots** and **criteria**. In our base, the concept of criterion is just an enumerated value, though, so there is no need for a specific table to represent the criteria themselves. Instead, we need an association table modeling the association between a lot\r",
    "and its criteria.\n",
    "\n",
    "This means that the criteria table represents the relationship between the lots and criterion => Each **lotId** in the criteria table must be present in lots table\n",
    "\n",
    "Several economic agents acting as **buyers** and/or **winners** for a single lot => This means we have a **many-to-many** relationship betwen **agents** (LotBuyers, LotSuppliers) and **lots** => each idLot present in any of these table must be present in lots table\n"
   ]
  },
  {
   "cell_type": "markdown",
   "metadata": {},
   "source": [
    "## lotId column"
   ]
  },
  {
   "cell_type": "markdown",
   "metadata": {},
   "source": [
    "This field represents the unique id of a lot"
   ]
  },
  {
   "cell_type": "code",
   "execution_count": 8,
   "metadata": {},
   "outputs": [],
   "source": [
    "lotId = lots['lotId']"
   ]
  },
  {
   "cell_type": "markdown",
   "metadata": {},
   "source": [
    "### Type"
   ]
  },
  {
   "cell_type": "code",
   "execution_count": 9,
   "metadata": {},
   "outputs": [
    {
     "data": {
      "text/plain": [
       "dtype('int64')"
      ]
     },
     "execution_count": 9,
     "metadata": {},
     "output_type": "execute_result"
    }
   ],
   "source": [
    "lotId.dtype"
   ]
  },
  {
   "cell_type": "code",
   "execution_count": 10,
   "metadata": {},
   "outputs": [
    {
     "data": {
      "text/plain": [
       "2147483647"
      ]
     },
     "execution_count": 10,
     "metadata": {},
     "output_type": "execute_result"
    }
   ],
   "source": [
    "np.iinfo(np.int32).max"
   ]
  },
  {
   "cell_type": "code",
   "execution_count": 11,
   "metadata": {},
   "outputs": [
    {
     "data": {
      "text/plain": [
       "9223372036854775807"
      ]
     },
     "execution_count": 11,
     "metadata": {},
     "output_type": "execute_result"
    }
   ],
   "source": [
    "np.iinfo(np.int64).max"
   ]
  },
  {
   "cell_type": "code",
   "execution_count": 12,
   "metadata": {},
   "outputs": [
    {
     "data": {
      "text/plain": [
       "0                0\n",
       "1                1\n",
       "2                2\n",
       "3                3\n",
       "4                4\n",
       "            ...   \n",
       "1380960    1380960\n",
       "1380961    1380961\n",
       "1380962    1380962\n",
       "1380963    1380963\n",
       "1380964    1380964\n",
       "Name: lotId, Length: 1380965, dtype: int64"
      ]
     },
     "execution_count": 12,
     "metadata": {},
     "output_type": "execute_result"
    }
   ],
   "source": [
    "lotId"
   ]
  },
  {
   "cell_type": "markdown",
   "metadata": {},
   "source": [
    "We can see that it's a **numeric** field encoded as a integer of **64 bits**\n",
    "\n",
    "The choice of a numeric type for this field is an appropriate choice because for an id field it's better to have an incrementale value to ensure the uniqueness of each value.\n",
    "\n",
    "For the choice of **64 bits** instead of **32 bits** it can be discussed:\n",
    "\n",
    "The max value for an integer of 32 bits is: 2^{31} - 1 = 2.147.483.647\n",
    "\n",
    "The max value for an integer of 64 bits is: 2^{63} - 1 = 9.223.372.036.854.775.807\n",
    "\n",
    "We have 1.380.965 lots => what means even an int on 32 bits would be sufficient"
   ]
  },
  {
   "cell_type": "markdown",
   "metadata": {},
   "source": [
    "### Missing values"
   ]
  },
  {
   "cell_type": "code",
   "execution_count": 13,
   "metadata": {},
   "outputs": [
    {
     "data": {
      "text/plain": [
       "0"
      ]
     },
     "execution_count": 13,
     "metadata": {},
     "output_type": "execute_result"
    }
   ],
   "source": [
    "lotId.isna().sum()"
   ]
  },
  {
   "cell_type": "markdown",
   "metadata": {},
   "source": [
    "We can see that we don't have missing values for this columns"
   ]
  },
  {
   "cell_type": "markdown",
   "metadata": {},
   "source": [
    "### Duplicated values"
   ]
  },
  {
   "cell_type": "code",
   "execution_count": 14,
   "metadata": {},
   "outputs": [
    {
     "data": {
      "text/html": [
       "<div>\n",
       "<style scoped>\n",
       "    .dataframe tbody tr th:only-of-type {\n",
       "        vertical-align: middle;\n",
       "    }\n",
       "\n",
       "    .dataframe tbody tr th {\n",
       "        vertical-align: top;\n",
       "    }\n",
       "\n",
       "    .dataframe thead th {\n",
       "        text-align: right;\n",
       "    }\n",
       "</style>\n",
       "<table border=\"1\" class=\"dataframe\">\n",
       "  <thead>\n",
       "    <tr style=\"text-align: right;\">\n",
       "      <th></th>\n",
       "      <th>lotId</th>\n",
       "      <th>tedCanId</th>\n",
       "      <th>correctionsNb</th>\n",
       "      <th>cancelled</th>\n",
       "      <th>awardDate</th>\n",
       "      <th>awardEstimatedPrice</th>\n",
       "      <th>awardPrice</th>\n",
       "      <th>cpv</th>\n",
       "      <th>numberTenders</th>\n",
       "      <th>onBehalf</th>\n",
       "      <th>...</th>\n",
       "      <th>contractorSme</th>\n",
       "      <th>numberTendersSme</th>\n",
       "      <th>subContracted</th>\n",
       "      <th>gpa</th>\n",
       "      <th>multipleCae</th>\n",
       "      <th>typeOfContract</th>\n",
       "      <th>topType</th>\n",
       "      <th>renewal</th>\n",
       "      <th>contractDuration</th>\n",
       "      <th>publicityDuration</th>\n",
       "    </tr>\n",
       "  </thead>\n",
       "  <tbody>\n",
       "  </tbody>\n",
       "</table>\n",
       "<p>0 rows × 26 columns</p>\n",
       "</div>"
      ],
      "text/plain": [
       "Empty DataFrame\n",
       "Columns: [lotId, tedCanId, correctionsNb, cancelled, awardDate, awardEstimatedPrice, awardPrice, cpv, numberTenders, onBehalf, jointProcurement, fraAgreement, fraEstimated, lotsNumber, accelerated, outOfDirectives, contractorSme, numberTendersSme, subContracted, gpa, multipleCae, typeOfContract, topType, renewal, contractDuration, publicityDuration]\n",
       "Index: []\n",
       "\n",
       "[0 rows x 26 columns]"
      ]
     },
     "execution_count": 14,
     "metadata": {},
     "output_type": "execute_result"
    }
   ],
   "source": [
    "lots[lots.duplicated(subset=['lotId'], keep=False)]"
   ]
  },
  {
   "cell_type": "code",
   "execution_count": 15,
   "metadata": {},
   "outputs": [
    {
     "data": {
      "text/plain": [
       "Series([], Name: count, dtype: int64)"
      ]
     },
     "execution_count": 15,
     "metadata": {},
     "output_type": "execute_result"
    }
   ],
   "source": [
    "lotIdCountsByValue = lotId.value_counts()\n",
    "lotIdCountsByValue[lotIdCountsByValue>1]"
   ]
  },
  {
   "cell_type": "markdown",
   "metadata": {},
   "source": [
    "He can see that we don't have any duplicated value for this column this ensure that they are all unique"
   ]
  },
  {
   "cell_type": "markdown",
   "metadata": {},
   "source": [
    "## tedCanId column"
   ]
  },
  {
   "cell_type": "markdown",
   "metadata": {},
   "source": [
    "TED identifier of the contract award notice."
   ]
  },
  {
   "cell_type": "code",
   "execution_count": 16,
   "metadata": {},
   "outputs": [],
   "source": [
    "tedCanId = lots['tedCanId']"
   ]
  },
  {
   "cell_type": "markdown",
   "metadata": {},
   "source": [
    "### Type"
   ]
  },
  {
   "cell_type": "code",
   "execution_count": 17,
   "metadata": {},
   "outputs": [
    {
     "data": {
      "text/plain": [
       "dtype('int64')"
      ]
     },
     "execution_count": 17,
     "metadata": {},
     "output_type": "execute_result"
    }
   ],
   "source": [
    "tedCanId.dtype"
   ]
  },
  {
   "cell_type": "code",
   "execution_count": 18,
   "metadata": {},
   "outputs": [
    {
     "data": {
      "text/plain": [
       "0             2010142\n",
       "1             2010142\n",
       "2             2010142\n",
       "3             2010143\n",
       "4             2010144\n",
       "              ...    \n",
       "1380960    2020643360\n",
       "1380961    2020643361\n",
       "1380962    2020643362\n",
       "1380963    2020643363\n",
       "1380964    2020643364\n",
       "Name: tedCanId, Length: 1380965, dtype: int64"
      ]
     },
     "execution_count": 18,
     "metadata": {},
     "output_type": "execute_result"
    }
   ],
   "source": [
    "tedCanId"
   ]
  },
  {
   "cell_type": "markdown",
   "metadata": {},
   "source": [
    "We can clearly see that this column is a numeric attribute encoded as 64 bits integer\n",
    "\n",
    "The choice of a integer is a good choice for an identifier field\n",
    "\n",
    "For the 64 bits, it's also a good choice as we can see we are not starting from zero and we also have huge value"
   ]
  },
  {
   "cell_type": "markdown",
   "metadata": {},
   "source": [
    "### Missing values"
   ]
  },
  {
   "cell_type": "code",
   "execution_count": 19,
   "metadata": {},
   "outputs": [
    {
     "data": {
      "text/plain": [
       "0"
      ]
     },
     "execution_count": 19,
     "metadata": {},
     "output_type": "execute_result"
    }
   ],
   "source": [
    "tedCanId.isna().sum()"
   ]
  },
  {
   "cell_type": "markdown",
   "metadata": {},
   "source": [
    "As we can see we don't have missing values for this"
   ]
  },
  {
   "cell_type": "markdown",
   "metadata": {},
   "source": [
    "### Duplicated values"
   ]
  },
  {
   "cell_type": "code",
   "execution_count": 20,
   "metadata": {},
   "outputs": [],
   "source": [
    "tedCanIdCountsByValue = tedCanId.value_counts()"
   ]
  },
  {
   "cell_type": "code",
   "execution_count": 21,
   "metadata": {},
   "outputs": [],
   "source": [
    "duplicatedTedCanId = tedCanIdCountsByValue[tedCanIdCountsByValue>1]"
   ]
  },
  {
   "cell_type": "code",
   "execution_count": 22,
   "metadata": {},
   "outputs": [],
   "source": [
    "notDuplicatedTedCanId = tedCanIdCountsByValue[tedCanIdCountsByValue==1]"
   ]
  },
  {
   "cell_type": "code",
   "execution_count": 23,
   "metadata": {},
   "outputs": [],
   "source": [
    "uniquetedCanId = tedCanId.unique()"
   ]
  },
  {
   "cell_type": "code",
   "execution_count": 24,
   "metadata": {},
   "outputs": [
    {
     "data": {
      "text/plain": [
       "array([   2010142,    2010143,    2010144, ..., 2020643362, 2020643363,\n",
       "       2020643364])"
      ]
     },
     "execution_count": 24,
     "metadata": {},
     "output_type": "execute_result"
    }
   ],
   "source": [
    "uniquetedCanId"
   ]
  },
  {
   "cell_type": "code",
   "execution_count": 25,
   "metadata": {},
   "outputs": [
    {
     "data": {
      "text/plain": [
       "410283"
      ]
     },
     "execution_count": 25,
     "metadata": {},
     "output_type": "execute_result"
    }
   ],
   "source": [
    "len(uniquetedCanId)"
   ]
  },
  {
   "cell_type": "code",
   "execution_count": 26,
   "metadata": {},
   "outputs": [
    {
     "data": {
      "text/plain": [
       "tedCanId\n",
       "2014304772    883\n",
       "2012153095    878\n",
       "2019505633    868\n",
       "2015214049    867\n",
       "2011362866    787\n",
       "             ... \n",
       "2016105419      2\n",
       "2012238024      2\n",
       "2018443872      2\n",
       "2012331340      2\n",
       "2013225047      2\n",
       "Name: count, Length: 170107, dtype: int64"
      ]
     },
     "execution_count": 26,
     "metadata": {},
     "output_type": "execute_result"
    }
   ],
   "source": [
    "duplicatedTedCanId"
   ]
  },
  {
   "cell_type": "code",
   "execution_count": 27,
   "metadata": {},
   "outputs": [
    {
     "data": {
      "text/plain": [
       "41.46089406580336"
      ]
     },
     "execution_count": 27,
     "metadata": {},
     "output_type": "execute_result"
    }
   ],
   "source": [
    "(len(duplicatedTedCanId)/ len(uniquetedCanId))*100"
   ]
  },
  {
   "cell_type": "code",
   "execution_count": 28,
   "metadata": {},
   "outputs": [
    {
     "data": {
      "text/plain": [
       "tedCanId\n",
       "2016454998    1\n",
       "2020237750    1\n",
       "2020626464    1\n",
       "2016410172    1\n",
       "2020639504    1\n",
       "             ..\n",
       "2014177392    1\n",
       "2014177391    1\n",
       "2014177390    1\n",
       "2014177370    1\n",
       "2020643364    1\n",
       "Name: count, Length: 240176, dtype: int64"
      ]
     },
     "execution_count": 28,
     "metadata": {},
     "output_type": "execute_result"
    }
   ],
   "source": [
    "notDuplicatedTedCanId"
   ]
  },
  {
   "cell_type": "code",
   "execution_count": 29,
   "metadata": {},
   "outputs": [
    {
     "data": {
      "text/plain": [
       "58.53910593419664"
      ]
     },
     "execution_count": 29,
     "metadata": {},
     "output_type": "execute_result"
    }
   ],
   "source": [
    "(len(notDuplicatedTedCanId) / len(uniquetedCanId)) * 100"
   ]
  },
  {
   "cell_type": "code",
   "execution_count": 30,
   "metadata": {},
   "outputs": [
    {
     "data": {
      "text/plain": [
       "883"
      ]
     },
     "execution_count": 30,
     "metadata": {},
     "output_type": "execute_result"
    }
   ],
   "source": [
    "tedCanIdCountsByValue.max()"
   ]
  },
  {
   "cell_type": "code",
   "execution_count": 31,
   "metadata": {},
   "outputs": [
    {
     "data": {
      "text/plain": [
       "1"
      ]
     },
     "execution_count": 31,
     "metadata": {},
     "output_type": "execute_result"
    }
   ],
   "source": [
    "tedCanIdCountsByValue.min()"
   ]
  },
  {
   "cell_type": "code",
   "execution_count": null,
   "metadata": {},
   "outputs": [],
   "source": []
  },
  {
   "cell_type": "markdown",
   "metadata": {},
   "source": [
    "We can also see that we only have **410,283** different **tedCanId** values \n",
    "\n",
    "From those ids, **170,107** are duplicated, that means **41%** are duplicated and **240,176** are not, what is **59%**\n",
    "\n",
    "There is a lot of lots with a single winner than the ones with one winner"
   ]
  },
  {
   "cell_type": "markdown",
   "metadata": {},
   "source": [
    "**What a duplicated tedCanId means?**\n",
    "\n",
    "Its means that there are many winner for the lot"
   ]
  },
  {
   "cell_type": "code",
   "execution_count": 32,
   "metadata": {},
   "outputs": [],
   "source": [
    "def plot_duplicated(data):\n",
    "    # Creating the bar plot\n",
    "    plt.figure(figsize=(8, 6))\n",
    "    plt.bar(data.keys(), data.values(), color='skyblue')\n",
    "    \n",
    "    # Adding titles and labels\n",
    "    plt.title('Sample Bar Plot')\n",
    "    plt.xlabel('Categories')\n",
    "    plt.ylabel('Values')\n",
    "    plt.show()"
   ]
  },
  {
   "cell_type": "code",
   "execution_count": 33,
   "metadata": {},
   "outputs": [
    {
     "data": {
      "image/png": "[encoded data removed]",
      "text/plain": [
       "<Figure size 800x600 with 1 Axes>"
      ]
     },
     "metadata": {},
     "output_type": "display_data"
    }
   ],
   "source": [
    "data = {}\n",
    "data['duplicated'] = len(duplicatedTedCanId)\n",
    "data['unique'] = len(notDuplicatedTedCanId)\n",
    "plot_duplicated(data)"
   ]
  },
  {
   "cell_type": "code",
   "execution_count": 34,
   "metadata": {},
   "outputs": [],
   "source": [
    "def plot_value_count_hist(value_counts, field):\n",
    "    if len(value_counts) > 0:\n",
    "        # Plotting using matplotlib\n",
    "        plt.figure(figsize=(10, 6))  # Adjust the figure size if needed\n",
    "        value_counts.plot(kind='bar')\n",
    "        plt.title(f'Value Counts of {field}')\n",
    "        plt.xlabel('Unique Values')\n",
    "        plt.ylabel('Counts')\n",
    "        plt.show()\n",
    "    else:\n",
    "        print(\"Empty counts\")"
   ]
  },
  {
   "cell_type": "code",
   "execution_count": 35,
   "metadata": {},
   "outputs": [
    {
     "data": {
      "text/plain": [
       "array([883, 878, 868, 867, 787, 746, 707, 675, 674, 617, 613, 587, 576,\n",
       "       557, 530, 529, 527, 519, 511, 501, 490, 489, 486, 485, 485, 469,\n",
       "       463, 431, 422, 416, 405, 382, 344, 334, 334, 332, 325, 324, 314,\n",
       "       305, 304, 304, 303, 301, 300, 298, 294, 292, 288, 283, 283, 280,\n",
       "       276, 276, 275, 275, 274, 272, 266, 265, 261, 260, 258, 255, 255,\n",
       "       251, 249, 249, 248, 244, 244, 244, 243, 242, 242, 238, 236, 236,\n",
       "       233, 232, 232, 231, 231, 227, 225, 225, 224, 223, 222, 222, 221,\n",
       "       219, 218, 217, 215, 215, 214, 212, 212, 211, 211, 210, 206, 205,\n",
       "       204, 202, 202, 202, 201])"
      ]
     },
     "execution_count": 35,
     "metadata": {},
     "output_type": "execute_result"
    }
   ],
   "source": [
    "tedCanIdCountsByValue[tedCanIdCountsByValue>200].values"
   ]
  },
  {
   "cell_type": "code",
   "execution_count": 36,
   "metadata": {},
   "outputs": [
    {
     "data": {
      "image/png": "[encoded data removed]",
      "text/plain": [
       "<Figure size 1000x600 with 1 Axes>"
      ]
     },
     "metadata": {},
     "output_type": "display_data"
    }
   ],
   "source": [
    "plot_value_count_hist(tedCanIdCountsByValue[tedCanIdCountsByValue > 800], 'tedCanId')"
   ]
  },
  {
   "cell_type": "code",
   "execution_count": null,
   "metadata": {},
   "outputs": [],
   "source": []
  },
  {
   "cell_type": "markdown",
   "metadata": {},
   "source": [
    "## correctionsNb Column "
   ]
  },
  {
   "cell_type": "markdown",
   "metadata": {},
   "source": [
    "Number of correction notices published for the lot."
   ]
  },
  {
   "cell_type": "code",
   "execution_count": 37,
   "metadata": {},
   "outputs": [],
   "source": [
    "correctionsNB = lots['correctionsNb']"
   ]
  },
  {
   "cell_type": "markdown",
   "metadata": {},
   "source": [
    "### types"
   ]
  },
  {
   "cell_type": "code",
   "execution_count": 38,
   "metadata": {},
   "outputs": [
    {
     "data": {
      "text/plain": [
       "dtype('int64')"
      ]
     },
     "execution_count": 38,
     "metadata": {},
     "output_type": "execute_result"
    }
   ],
   "source": [
    "correctionsNB.dtype"
   ]
  },
  {
   "cell_type": "code",
   "execution_count": 39,
   "metadata": {},
   "outputs": [
    {
     "data": {
      "text/plain": [
       "0          0\n",
       "1          0\n",
       "2          0\n",
       "3          0\n",
       "4          0\n",
       "          ..\n",
       "1380960    0\n",
       "1380961    0\n",
       "1380962    0\n",
       "1380963    0\n",
       "1380964    0\n",
       "Name: correctionsNb, Length: 1380965, dtype: int64"
      ]
     },
     "execution_count": 39,
     "metadata": {},
     "output_type": "execute_result"
    }
   ],
   "source": [
    "correctionsNB"
   ]
  },
  {
   "cell_type": "code",
   "execution_count": 40,
   "metadata": {},
   "outputs": [
    {
     "data": {
      "text/plain": [
       "correctionsNb\n",
       "0    1375786\n",
       "1       5089\n",
       "2         90\n",
       "Name: count, dtype: int64"
      ]
     },
     "execution_count": 40,
     "metadata": {},
     "output_type": "execute_result"
    }
   ],
   "source": [
    "correctionsNB.value_counts()"
   ]
  },
  {
   "cell_type": "markdown",
   "metadata": {},
   "source": [
    "We can see that this column is a **numerical** field encoded as **64 bits integer**\n",
    "\n",
    "We can see that the values for correctionsNB are ranging from **0-2** so there is really no need to really use 64 bits for this, 32 bits will be sufficient\n",
    "\n",
    "But the choice of a numerical field for a counter is a good choice"
   ]
  },
  {
   "cell_type": "markdown",
   "metadata": {},
   "source": [
    "### Missing values"
   ]
  },
  {
   "cell_type": "code",
   "execution_count": 41,
   "metadata": {},
   "outputs": [
    {
     "data": {
      "text/plain": [
       "0"
      ]
     },
     "execution_count": 41,
     "metadata": {},
     "output_type": "execute_result"
    }
   ],
   "source": [
    "correctionsNB.isna().sum()"
   ]
  },
  {
   "cell_type": "markdown",
   "metadata": {},
   "source": [
    "We can see that we do not have missing values for this field"
   ]
  },
  {
   "cell_type": "markdown",
   "metadata": {},
   "source": [
    "### Duplicated values"
   ]
  },
  {
   "cell_type": "code",
   "execution_count": 42,
   "metadata": {},
   "outputs": [],
   "source": [
    "correctionsNBCountByValue = correctionsNB.value_counts()"
   ]
  },
  {
   "cell_type": "code",
   "execution_count": 43,
   "metadata": {},
   "outputs": [
    {
     "data": {
      "text/plain": [
       "correctionsNb\n",
       "0    1375786\n",
       "1       5089\n",
       "2         90\n",
       "Name: count, dtype: int64"
      ]
     },
     "execution_count": 43,
     "metadata": {},
     "output_type": "execute_result"
    }
   ],
   "source": [
    "correctionsNBCountByValue"
   ]
  },
  {
   "cell_type": "code",
   "execution_count": 44,
   "metadata": {},
   "outputs": [
    {
     "data": {
      "text/plain": [
       "{0: 1375786, 1: 5089, 2: 90}"
      ]
     },
     "execution_count": 44,
     "metadata": {},
     "output_type": "execute_result"
    }
   ],
   "source": [
    "dict(correctionsNBCountByValue)"
   ]
  },
  {
   "cell_type": "code",
   "execution_count": 45,
   "metadata": {},
   "outputs": [
    {
     "data": {
      "image/png": "[encoded data removed]",
      "text/plain": [
       "<Figure size 800x600 with 1 Axes>"
      ]
     },
     "metadata": {},
     "output_type": "display_data"
    }
   ],
   "source": [
    "data = dict(correctionsNBCountByValue)\n",
    "plot_duplicated(data)"
   ]
  },
  {
   "cell_type": "code",
   "execution_count": 46,
   "metadata": {},
   "outputs": [
    {
     "data": {
      "text/plain": [
       "99.62497239249366"
      ]
     },
     "execution_count": 46,
     "metadata": {},
     "output_type": "execute_result"
    }
   ],
   "source": [
    "(data[0] / len(correctionsNB))*100"
   ]
  },
  {
   "cell_type": "code",
   "execution_count": 47,
   "metadata": {},
   "outputs": [
    {
     "data": {
      "text/plain": [
       "0.36851042568059295"
      ]
     },
     "execution_count": 47,
     "metadata": {},
     "output_type": "execute_result"
    }
   ],
   "source": [
    "(data[1] / len(correctionsNB))*100"
   ]
  },
  {
   "cell_type": "code",
   "execution_count": 48,
   "metadata": {},
   "outputs": [
    {
     "data": {
      "text/plain": [
       "0.006517181825752282"
      ]
     },
     "execution_count": 48,
     "metadata": {},
     "output_type": "execute_result"
    }
   ],
   "source": [
    "(data[2] / len(correctionsNB))*100"
   ]
  },
  {
   "cell_type": "markdown",
   "metadata": {},
   "source": [
    "We can see that **99%** of the lots doesn't haven't been updated"
   ]
  },
  {
   "cell_type": "markdown",
   "metadata": {},
   "source": [
    "### Statistics"
   ]
  },
  {
   "cell_type": "code",
   "execution_count": 49,
   "metadata": {},
   "outputs": [
    {
     "data": {
      "text/plain": [
       "count    1.380965e+06\n",
       "mean     3.815448e-03\n",
       "std      6.269958e-02\n",
       "min      0.000000e+00\n",
       "25%      0.000000e+00\n",
       "50%      0.000000e+00\n",
       "75%      0.000000e+00\n",
       "max      2.000000e+00\n",
       "Name: correctionsNb, dtype: float64"
      ]
     },
     "execution_count": 49,
     "metadata": {},
     "output_type": "execute_result"
    }
   ],
   "source": [
    "correctionsNB.describe()"
   ]
  },
  {
   "cell_type": "markdown",
   "metadata": {},
   "source": [
    "We can the **maximum** number of updates is **2** and the **minimum** is **0**"
   ]
  },
  {
   "cell_type": "markdown",
   "metadata": {},
   "source": [
    "## cancelled Column "
   ]
  },
  {
   "cell_type": "markdown",
   "metadata": {},
   "source": [
    "Boolean value indicating whether the lot was cancelled."
   ]
  },
  {
   "cell_type": "code",
   "execution_count": 50,
   "metadata": {},
   "outputs": [],
   "source": [
    "cancelled = lots['cancelled']"
   ]
  },
  {
   "cell_type": "code",
   "execution_count": 51,
   "metadata": {},
   "outputs": [],
   "source": [
    "### types"
   ]
  },
  {
   "cell_type": "code",
   "execution_count": 52,
   "metadata": {},
   "outputs": [
    {
     "data": {
      "text/plain": [
       "dtype('int64')"
      ]
     },
     "execution_count": 52,
     "metadata": {},
     "output_type": "execute_result"
    }
   ],
   "source": [
    "cancelled.dtype"
   ]
  },
  {
   "cell_type": "code",
   "execution_count": 53,
   "metadata": {},
   "outputs": [
    {
     "data": {
      "text/plain": [
       "0          0\n",
       "1          0\n",
       "2          0\n",
       "3          0\n",
       "4          0\n",
       "          ..\n",
       "1380960    0\n",
       "1380961    0\n",
       "1380962    0\n",
       "1380963    0\n",
       "1380964    0\n",
       "Name: cancelled, Length: 1380965, dtype: int64"
      ]
     },
     "execution_count": 53,
     "metadata": {},
     "output_type": "execute_result"
    }
   ],
   "source": [
    "cancelled"
   ]
  },
  {
   "cell_type": "code",
   "execution_count": 54,
   "metadata": {},
   "outputs": [
    {
     "data": {
      "text/plain": [
       "cancelled\n",
       "0    1380685\n",
       "1        280\n",
       "Name: count, dtype: int64"
      ]
     },
     "execution_count": 54,
     "metadata": {},
     "output_type": "execute_result"
    }
   ],
   "source": [
    "cancelled.value_counts()"
   ]
  },
  {
   "cell_type": "markdown",
   "metadata": {},
   "source": [
    "We can see that this field is a **numerical** field encoded as **64 bits integer**\n",
    "\n",
    "The choice of an integer is not a good one because we only have **True** or **False**. A better choice would be to have a **boolean** type"
   ]
  },
  {
   "cell_type": "markdown",
   "metadata": {},
   "source": [
    "### Missing values"
   ]
  },
  {
   "cell_type": "code",
   "execution_count": 55,
   "metadata": {},
   "outputs": [
    {
     "data": {
      "text/plain": [
       "0"
      ]
     },
     "execution_count": 55,
     "metadata": {},
     "output_type": "execute_result"
    }
   ],
   "source": [
    "cancelled.isna().sum()"
   ]
  },
  {
   "cell_type": "markdown",
   "metadata": {},
   "source": [
    "There is no missing value for this column"
   ]
  },
  {
   "cell_type": "markdown",
   "metadata": {},
   "source": [
    "### Duplicated values"
   ]
  },
  {
   "cell_type": "code",
   "execution_count": 56,
   "metadata": {},
   "outputs": [],
   "source": [
    "cancelledCountByValue = cancelled.value_counts()"
   ]
  },
  {
   "cell_type": "code",
   "execution_count": 57,
   "metadata": {},
   "outputs": [
    {
     "data": {
      "text/plain": [
       "cancelled\n",
       "0    1380685\n",
       "1        280\n",
       "Name: count, dtype: int64"
      ]
     },
     "execution_count": 57,
     "metadata": {},
     "output_type": "execute_result"
    }
   ],
   "source": [
    "cancelledCountByValue"
   ]
  },
  {
   "cell_type": "code",
   "execution_count": 58,
   "metadata": {},
   "outputs": [
    {
     "data": {
      "image/png": "[encoded data removed]",
      "text/plain": [
       "<Figure size 800x600 with 1 Axes>"
      ]
     },
     "metadata": {},
     "output_type": "display_data"
    }
   ],
   "source": [
    "data = {'cancelled': cancelledCountByValue[1], 'valid': cancelledCountByValue[0]}\n",
    "plot_duplicated(data)"
   ]
  },
  {
   "cell_type": "code",
   "execution_count": 59,
   "metadata": {},
   "outputs": [
    {
     "data": {
      "text/plain": [
       "99.97972432320877"
      ]
     },
     "execution_count": 59,
     "metadata": {},
     "output_type": "execute_result"
    }
   ],
   "source": [
    "(data['valid'] / len(cancelled))*100"
   ]
  },
  {
   "cell_type": "code",
   "execution_count": 60,
   "metadata": {},
   "outputs": [
    {
     "data": {
      "text/plain": [
       "0.02027567679122932"
      ]
     },
     "execution_count": 60,
     "metadata": {},
     "output_type": "execute_result"
    }
   ],
   "source": [
    "(data['cancelled'] / len(cancelled))*100"
   ]
  },
  {
   "cell_type": "markdown",
   "metadata": {},
   "source": [
    "We can see that only few of lots are cancelled"
   ]
  },
  {
   "cell_type": "markdown",
   "metadata": {},
   "source": [
    "## awardDate Column"
   ]
  },
  {
   "cell_type": "markdown",
   "metadata": {},
   "source": [
    "The date the lot was awarded."
   ]
  },
  {
   "cell_type": "code",
   "execution_count": 61,
   "metadata": {},
   "outputs": [],
   "source": [
    "awardDate = lots['awardDate']"
   ]
  },
  {
   "cell_type": "markdown",
   "metadata": {},
   "source": [
    "### types"
   ]
  },
  {
   "cell_type": "code",
   "execution_count": 62,
   "metadata": {},
   "outputs": [
    {
     "data": {
      "text/plain": [
       "dtype('O')"
      ]
     },
     "execution_count": 62,
     "metadata": {},
     "output_type": "execute_result"
    }
   ],
   "source": [
    "awardDate.dtype"
   ]
  },
  {
   "cell_type": "code",
   "execution_count": 63,
   "metadata": {},
   "outputs": [
    {
     "data": {
      "text/plain": [
       "0          2009-09-24\n",
       "1          2009-09-24\n",
       "2          2009-09-24\n",
       "3          2009-09-28\n",
       "4          2009-11-06\n",
       "              ...    \n",
       "1380960    2020-12-28\n",
       "1380961    2020-12-10\n",
       "1380962    2020-12-17\n",
       "1380963    2020-12-11\n",
       "1380964    2020-12-23\n",
       "Name: awardDate, Length: 1380965, dtype: object"
      ]
     },
     "execution_count": 63,
     "metadata": {},
     "output_type": "execute_result"
    }
   ],
   "source": [
    "awardDate"
   ]
  },
  {
   "cell_type": "markdown",
   "metadata": {},
   "source": [
    "we can see that this is numerical column encoded as date\n",
    "\n",
    "This choice is a good one"
   ]
  },
  {
   "cell_type": "markdown",
   "metadata": {},
   "source": [
    "### Missing values"
   ]
  },
  {
   "cell_type": "code",
   "execution_count": 64,
   "metadata": {},
   "outputs": [],
   "source": [
    "missingAwardDateCount = awardDate.isna().sum()"
   ]
  },
  {
   "cell_type": "code",
   "execution_count": 65,
   "metadata": {},
   "outputs": [
    {
     "data": {
      "text/plain": [
       "186671"
      ]
     },
     "execution_count": 65,
     "metadata": {},
     "output_type": "execute_result"
    }
   ],
   "source": [
    "missingAwardDateCount"
   ]
  },
  {
   "cell_type": "code",
   "execution_count": 66,
   "metadata": {},
   "outputs": [
    {
     "data": {
      "text/plain": [
       "13.517431651055603"
      ]
     },
     "execution_count": 66,
     "metadata": {},
     "output_type": "execute_result"
    }
   ],
   "source": [
    "(missingAwardDateCount / len(awardDate))*100"
   ]
  },
  {
   "cell_type": "code",
   "execution_count": 67,
   "metadata": {},
   "outputs": [],
   "source": [
    "correctAwardDateCount = len(awardDate) - missingAwardDateCount"
   ]
  },
  {
   "cell_type": "code",
   "execution_count": 68,
   "metadata": {},
   "outputs": [
    {
     "data": {
      "text/plain": [
       "1194294"
      ]
     },
     "execution_count": 68,
     "metadata": {},
     "output_type": "execute_result"
    }
   ],
   "source": [
    "correctAwardDateCount"
   ]
  },
  {
   "cell_type": "code",
   "execution_count": 69,
   "metadata": {},
   "outputs": [
    {
     "data": {
      "text/plain": [
       "86.4825683489444"
      ]
     },
     "execution_count": 69,
     "metadata": {},
     "output_type": "execute_result"
    }
   ],
   "source": [
    "(correctAwardDateCount / len(awardDate))*100"
   ]
  },
  {
   "cell_type": "markdown",
   "metadata": {},
   "source": [
    "We can see that **14%** of the awardDate are missing and **86%** are not"
   ]
  },
  {
   "cell_type": "code",
   "execution_count": 70,
   "metadata": {},
   "outputs": [
    {
     "data": {
      "image/png": "[encoded data removed]",
      "text/plain": [
       "<Figure size 800x600 with 1 Axes>"
      ]
     },
     "metadata": {},
     "output_type": "display_data"
    }
   ],
   "source": [
    "data = {'correct': correctAwardDateCount, 'missing': missingAwardDateCount}\n",
    "plot_duplicated(data)"
   ]
  },
  {
   "cell_type": "code",
   "execution_count": 71,
   "metadata": {},
   "outputs": [],
   "source": [
    "cancelledLot = lots[lots['cancelled']==1]"
   ]
  },
  {
   "cell_type": "code",
   "execution_count": 72,
   "metadata": {},
   "outputs": [
    {
     "data": {
      "text/html": [
       "<div>\n",
       "<style scoped>\n",
       "    .dataframe tbody tr th:only-of-type {\n",
       "        vertical-align: middle;\n",
       "    }\n",
       "\n",
       "    .dataframe tbody tr th {\n",
       "        vertical-align: top;\n",
       "    }\n",
       "\n",
       "    .dataframe thead th {\n",
       "        text-align: right;\n",
       "    }\n",
       "</style>\n",
       "<table border=\"1\" class=\"dataframe\">\n",
       "  <thead>\n",
       "    <tr style=\"text-align: right;\">\n",
       "      <th></th>\n",
       "      <th>lotId</th>\n",
       "      <th>tedCanId</th>\n",
       "      <th>correctionsNb</th>\n",
       "      <th>cancelled</th>\n",
       "      <th>awardDate</th>\n",
       "      <th>awardEstimatedPrice</th>\n",
       "      <th>awardPrice</th>\n",
       "      <th>cpv</th>\n",
       "      <th>numberTenders</th>\n",
       "      <th>onBehalf</th>\n",
       "      <th>...</th>\n",
       "      <th>contractorSme</th>\n",
       "      <th>numberTendersSme</th>\n",
       "      <th>subContracted</th>\n",
       "      <th>gpa</th>\n",
       "      <th>multipleCae</th>\n",
       "      <th>typeOfContract</th>\n",
       "      <th>topType</th>\n",
       "      <th>renewal</th>\n",
       "      <th>contractDuration</th>\n",
       "      <th>publicityDuration</th>\n",
       "    </tr>\n",
       "  </thead>\n",
       "  <tbody>\n",
       "    <tr>\n",
       "      <th>183789</th>\n",
       "      <td>183789</td>\n",
       "      <td>2011138910</td>\n",
       "      <td>0</td>\n",
       "      <td>1</td>\n",
       "      <td>2011-04-28</td>\n",
       "      <td>NaN</td>\n",
       "      <td>43945.0</td>\n",
       "      <td>79620000.0</td>\n",
       "      <td>13.0</td>\n",
       "      <td>N</td>\n",
       "      <td>...</td>\n",
       "      <td>NaN</td>\n",
       "      <td>NaN</td>\n",
       "      <td>N</td>\n",
       "      <td>NaN</td>\n",
       "      <td>NaN</td>\n",
       "      <td>S</td>\n",
       "      <td>OPE</td>\n",
       "      <td>NaN</td>\n",
       "      <td>36.0</td>\n",
       "      <td>44.0</td>\n",
       "    </tr>\n",
       "    <tr>\n",
       "      <th>196730</th>\n",
       "      <td>196730</td>\n",
       "      <td>2011187973</td>\n",
       "      <td>0</td>\n",
       "      <td>1</td>\n",
       "      <td>2011-02-15</td>\n",
       "      <td>NaN</td>\n",
       "      <td>670597.0</td>\n",
       "      <td>33696500.0</td>\n",
       "      <td>52.0</td>\n",
       "      <td>N</td>\n",
       "      <td>...</td>\n",
       "      <td>NaN</td>\n",
       "      <td>NaN</td>\n",
       "      <td>N</td>\n",
       "      <td>NaN</td>\n",
       "      <td>NaN</td>\n",
       "      <td>U</td>\n",
       "      <td>OPE</td>\n",
       "      <td>NaN</td>\n",
       "      <td>NaN</td>\n",
       "      <td>NaN</td>\n",
       "    </tr>\n",
       "    <tr>\n",
       "      <th>196731</th>\n",
       "      <td>196731</td>\n",
       "      <td>2011187973</td>\n",
       "      <td>0</td>\n",
       "      <td>1</td>\n",
       "      <td>2011-02-15</td>\n",
       "      <td>NaN</td>\n",
       "      <td>731458.0</td>\n",
       "      <td>33696500.0</td>\n",
       "      <td>52.0</td>\n",
       "      <td>N</td>\n",
       "      <td>...</td>\n",
       "      <td>NaN</td>\n",
       "      <td>NaN</td>\n",
       "      <td>N</td>\n",
       "      <td>NaN</td>\n",
       "      <td>NaN</td>\n",
       "      <td>U</td>\n",
       "      <td>OPE</td>\n",
       "      <td>NaN</td>\n",
       "      <td>NaN</td>\n",
       "      <td>NaN</td>\n",
       "    </tr>\n",
       "    <tr>\n",
       "      <th>196732</th>\n",
       "      <td>196732</td>\n",
       "      <td>2011187973</td>\n",
       "      <td>0</td>\n",
       "      <td>1</td>\n",
       "      <td>2011-02-15</td>\n",
       "      <td>NaN</td>\n",
       "      <td>197837.0</td>\n",
       "      <td>33696500.0</td>\n",
       "      <td>52.0</td>\n",
       "      <td>N</td>\n",
       "      <td>...</td>\n",
       "      <td>NaN</td>\n",
       "      <td>NaN</td>\n",
       "      <td>N</td>\n",
       "      <td>NaN</td>\n",
       "      <td>NaN</td>\n",
       "      <td>U</td>\n",
       "      <td>OPE</td>\n",
       "      <td>NaN</td>\n",
       "      <td>NaN</td>\n",
       "      <td>NaN</td>\n",
       "    </tr>\n",
       "    <tr>\n",
       "      <th>196733</th>\n",
       "      <td>196733</td>\n",
       "      <td>2011187973</td>\n",
       "      <td>0</td>\n",
       "      <td>1</td>\n",
       "      <td>2011-02-15</td>\n",
       "      <td>NaN</td>\n",
       "      <td>566920.0</td>\n",
       "      <td>33696500.0</td>\n",
       "      <td>52.0</td>\n",
       "      <td>N</td>\n",
       "      <td>...</td>\n",
       "      <td>NaN</td>\n",
       "      <td>NaN</td>\n",
       "      <td>N</td>\n",
       "      <td>NaN</td>\n",
       "      <td>NaN</td>\n",
       "      <td>U</td>\n",
       "      <td>OPE</td>\n",
       "      <td>NaN</td>\n",
       "      <td>NaN</td>\n",
       "      <td>NaN</td>\n",
       "    </tr>\n",
       "    <tr>\n",
       "      <th>...</th>\n",
       "      <td>...</td>\n",
       "      <td>...</td>\n",
       "      <td>...</td>\n",
       "      <td>...</td>\n",
       "      <td>...</td>\n",
       "      <td>...</td>\n",
       "      <td>...</td>\n",
       "      <td>...</td>\n",
       "      <td>...</td>\n",
       "      <td>...</td>\n",
       "      <td>...</td>\n",
       "      <td>...</td>\n",
       "      <td>...</td>\n",
       "      <td>...</td>\n",
       "      <td>...</td>\n",
       "      <td>...</td>\n",
       "      <td>...</td>\n",
       "      <td>...</td>\n",
       "      <td>...</td>\n",
       "      <td>...</td>\n",
       "      <td>...</td>\n",
       "    </tr>\n",
       "    <tr>\n",
       "      <th>873672</th>\n",
       "      <td>873672</td>\n",
       "      <td>2016434610</td>\n",
       "      <td>0</td>\n",
       "      <td>1</td>\n",
       "      <td>2016-12-02</td>\n",
       "      <td>NaN</td>\n",
       "      <td>38565.1</td>\n",
       "      <td>50500000.0</td>\n",
       "      <td>4.0</td>\n",
       "      <td>N</td>\n",
       "      <td>...</td>\n",
       "      <td>NaN</td>\n",
       "      <td>NaN</td>\n",
       "      <td>NaN</td>\n",
       "      <td>NaN</td>\n",
       "      <td>NaN</td>\n",
       "      <td>S</td>\n",
       "      <td>OPE</td>\n",
       "      <td>NaN</td>\n",
       "      <td>60.0</td>\n",
       "      <td>37.0</td>\n",
       "    </tr>\n",
       "    <tr>\n",
       "      <th>873673</th>\n",
       "      <td>873673</td>\n",
       "      <td>2016434610</td>\n",
       "      <td>0</td>\n",
       "      <td>1</td>\n",
       "      <td>2016-12-02</td>\n",
       "      <td>NaN</td>\n",
       "      <td>53244.0</td>\n",
       "      <td>50500000.0</td>\n",
       "      <td>6.0</td>\n",
       "      <td>N</td>\n",
       "      <td>...</td>\n",
       "      <td>NaN</td>\n",
       "      <td>NaN</td>\n",
       "      <td>NaN</td>\n",
       "      <td>NaN</td>\n",
       "      <td>NaN</td>\n",
       "      <td>S</td>\n",
       "      <td>OPE</td>\n",
       "      <td>NaN</td>\n",
       "      <td>60.0</td>\n",
       "      <td>37.0</td>\n",
       "    </tr>\n",
       "    <tr>\n",
       "      <th>873674</th>\n",
       "      <td>873674</td>\n",
       "      <td>2016434610</td>\n",
       "      <td>0</td>\n",
       "      <td>1</td>\n",
       "      <td>2016-12-02</td>\n",
       "      <td>NaN</td>\n",
       "      <td>11629.1</td>\n",
       "      <td>50500000.0</td>\n",
       "      <td>4.0</td>\n",
       "      <td>N</td>\n",
       "      <td>...</td>\n",
       "      <td>NaN</td>\n",
       "      <td>NaN</td>\n",
       "      <td>NaN</td>\n",
       "      <td>NaN</td>\n",
       "      <td>NaN</td>\n",
       "      <td>S</td>\n",
       "      <td>OPE</td>\n",
       "      <td>NaN</td>\n",
       "      <td>60.0</td>\n",
       "      <td>37.0</td>\n",
       "    </tr>\n",
       "    <tr>\n",
       "      <th>873675</th>\n",
       "      <td>873675</td>\n",
       "      <td>2016434610</td>\n",
       "      <td>0</td>\n",
       "      <td>1</td>\n",
       "      <td>2016-12-02</td>\n",
       "      <td>NaN</td>\n",
       "      <td>29836.8</td>\n",
       "      <td>50500000.0</td>\n",
       "      <td>5.0</td>\n",
       "      <td>N</td>\n",
       "      <td>...</td>\n",
       "      <td>NaN</td>\n",
       "      <td>NaN</td>\n",
       "      <td>NaN</td>\n",
       "      <td>NaN</td>\n",
       "      <td>NaN</td>\n",
       "      <td>S</td>\n",
       "      <td>OPE</td>\n",
       "      <td>NaN</td>\n",
       "      <td>60.0</td>\n",
       "      <td>37.0</td>\n",
       "    </tr>\n",
       "    <tr>\n",
       "      <th>873676</th>\n",
       "      <td>873676</td>\n",
       "      <td>2016434610</td>\n",
       "      <td>0</td>\n",
       "      <td>1</td>\n",
       "      <td>2016-12-02</td>\n",
       "      <td>NaN</td>\n",
       "      <td>56228.9</td>\n",
       "      <td>50500000.0</td>\n",
       "      <td>3.0</td>\n",
       "      <td>N</td>\n",
       "      <td>...</td>\n",
       "      <td>NaN</td>\n",
       "      <td>NaN</td>\n",
       "      <td>NaN</td>\n",
       "      <td>NaN</td>\n",
       "      <td>NaN</td>\n",
       "      <td>S</td>\n",
       "      <td>OPE</td>\n",
       "      <td>NaN</td>\n",
       "      <td>60.0</td>\n",
       "      <td>37.0</td>\n",
       "    </tr>\n",
       "  </tbody>\n",
       "</table>\n",
       "<p>280 rows × 26 columns</p>\n",
       "</div>"
      ],
      "text/plain": [
       "         lotId    tedCanId  correctionsNb  cancelled   awardDate  \\\n",
       "183789  183789  2011138910              0          1  2011-04-28   \n",
       "196730  196730  2011187973              0          1  2011-02-15   \n",
       "196731  196731  2011187973              0          1  2011-02-15   \n",
       "196732  196732  2011187973              0          1  2011-02-15   \n",
       "196733  196733  2011187973              0          1  2011-02-15   \n",
       "...        ...         ...            ...        ...         ...   \n",
       "873672  873672  2016434610              0          1  2016-12-02   \n",
       "873673  873673  2016434610              0          1  2016-12-02   \n",
       "873674  873674  2016434610              0          1  2016-12-02   \n",
       "873675  873675  2016434610              0          1  2016-12-02   \n",
       "873676  873676  2016434610              0          1  2016-12-02   \n",
       "\n",
       "        awardEstimatedPrice  awardPrice         cpv  numberTenders onBehalf  \\\n",
       "183789                  NaN     43945.0  79620000.0           13.0        N   \n",
       "196730                  NaN    670597.0  33696500.0           52.0        N   \n",
       "196731                  NaN    731458.0  33696500.0           52.0        N   \n",
       "196732                  NaN    197837.0  33696500.0           52.0        N   \n",
       "196733                  NaN    566920.0  33696500.0           52.0        N   \n",
       "...                     ...         ...         ...            ...      ...   \n",
       "873672                  NaN     38565.1  50500000.0            4.0        N   \n",
       "873673                  NaN     53244.0  50500000.0            6.0        N   \n",
       "873674                  NaN     11629.1  50500000.0            4.0        N   \n",
       "873675                  NaN     29836.8  50500000.0            5.0        N   \n",
       "873676                  NaN     56228.9  50500000.0            3.0        N   \n",
       "\n",
       "        ... contractorSme numberTendersSme subContracted  gpa multipleCae  \\\n",
       "183789  ...           NaN              NaN             N  NaN         NaN   \n",
       "196730  ...           NaN              NaN             N  NaN         NaN   \n",
       "196731  ...           NaN              NaN             N  NaN         NaN   \n",
       "196732  ...           NaN              NaN             N  NaN         NaN   \n",
       "196733  ...           NaN              NaN             N  NaN         NaN   \n",
       "...     ...           ...              ...           ...  ...         ...   \n",
       "873672  ...           NaN              NaN           NaN  NaN         NaN   \n",
       "873673  ...           NaN              NaN           NaN  NaN         NaN   \n",
       "873674  ...           NaN              NaN           NaN  NaN         NaN   \n",
       "873675  ...           NaN              NaN           NaN  NaN         NaN   \n",
       "873676  ...           NaN              NaN           NaN  NaN         NaN   \n",
       "\n",
       "        typeOfContract topType  renewal contractDuration publicityDuration  \n",
       "183789               S     OPE      NaN             36.0              44.0  \n",
       "196730               U     OPE      NaN              NaN               NaN  \n",
       "196731               U     OPE      NaN              NaN               NaN  \n",
       "196732               U     OPE      NaN              NaN               NaN  \n",
       "196733               U     OPE      NaN              NaN               NaN  \n",
       "...                ...     ...      ...              ...               ...  \n",
       "873672               S     OPE      NaN             60.0              37.0  \n",
       "873673               S     OPE      NaN             60.0              37.0  \n",
       "873674               S     OPE      NaN             60.0              37.0  \n",
       "873675               S     OPE      NaN             60.0              37.0  \n",
       "873676               S     OPE      NaN             60.0              37.0  \n",
       "\n",
       "[280 rows x 26 columns]"
      ]
     },
     "execution_count": 72,
     "metadata": {},
     "output_type": "execute_result"
    }
   ],
   "source": [
    "cancelledLot"
   ]
  },
  {
   "cell_type": "code",
   "execution_count": 73,
   "metadata": {},
   "outputs": [
    {
     "data": {
      "text/plain": [
       "280"
      ]
     },
     "execution_count": 73,
     "metadata": {},
     "output_type": "execute_result"
    }
   ],
   "source": [
    "len(cancelledLot)"
   ]
  },
  {
   "cell_type": "code",
   "execution_count": 74,
   "metadata": {},
   "outputs": [
    {
     "data": {
      "text/plain": [
       "280"
      ]
     },
     "execution_count": 74,
     "metadata": {},
     "output_type": "execute_result"
    }
   ],
   "source": [
    "dict(cancelledCountByValue)[1]"
   ]
  },
  {
   "cell_type": "code",
   "execution_count": 75,
   "metadata": {},
   "outputs": [],
   "source": [
    "cancelledLotNotAwarded = cancelledLot[cancelledLot['awardDate'].isna()]"
   ]
  },
  {
   "cell_type": "code",
   "execution_count": 76,
   "metadata": {},
   "outputs": [
    {
     "data": {
      "text/html": [
       "<div>\n",
       "<style scoped>\n",
       "    .dataframe tbody tr th:only-of-type {\n",
       "        vertical-align: middle;\n",
       "    }\n",
       "\n",
       "    .dataframe tbody tr th {\n",
       "        vertical-align: top;\n",
       "    }\n",
       "\n",
       "    .dataframe thead th {\n",
       "        text-align: right;\n",
       "    }\n",
       "</style>\n",
       "<table border=\"1\" class=\"dataframe\">\n",
       "  <thead>\n",
       "    <tr style=\"text-align: right;\">\n",
       "      <th></th>\n",
       "      <th>lotId</th>\n",
       "      <th>tedCanId</th>\n",
       "      <th>correctionsNb</th>\n",
       "      <th>cancelled</th>\n",
       "      <th>awardDate</th>\n",
       "      <th>awardEstimatedPrice</th>\n",
       "      <th>awardPrice</th>\n",
       "      <th>cpv</th>\n",
       "      <th>numberTenders</th>\n",
       "      <th>onBehalf</th>\n",
       "      <th>...</th>\n",
       "      <th>contractorSme</th>\n",
       "      <th>numberTendersSme</th>\n",
       "      <th>subContracted</th>\n",
       "      <th>gpa</th>\n",
       "      <th>multipleCae</th>\n",
       "      <th>typeOfContract</th>\n",
       "      <th>topType</th>\n",
       "      <th>renewal</th>\n",
       "      <th>contractDuration</th>\n",
       "      <th>publicityDuration</th>\n",
       "    </tr>\n",
       "  </thead>\n",
       "  <tbody>\n",
       "    <tr>\n",
       "      <th>261119</th>\n",
       "      <td>261119</td>\n",
       "      <td>2011390174</td>\n",
       "      <td>0</td>\n",
       "      <td>1</td>\n",
       "      <td>NaN</td>\n",
       "      <td>NaN</td>\n",
       "      <td>NaN</td>\n",
       "      <td>22113000.0</td>\n",
       "      <td>NaN</td>\n",
       "      <td>N</td>\n",
       "      <td>...</td>\n",
       "      <td>NaN</td>\n",
       "      <td>NaN</td>\n",
       "      <td>NaN</td>\n",
       "      <td>Y</td>\n",
       "      <td>NaN</td>\n",
       "      <td>U</td>\n",
       "      <td>OPE</td>\n",
       "      <td>NaN</td>\n",
       "      <td>NaN</td>\n",
       "      <td>NaN</td>\n",
       "    </tr>\n",
       "    <tr>\n",
       "      <th>318484</th>\n",
       "      <td>318484</td>\n",
       "      <td>2012137194</td>\n",
       "      <td>0</td>\n",
       "      <td>1</td>\n",
       "      <td>NaN</td>\n",
       "      <td>NaN</td>\n",
       "      <td>5135.6</td>\n",
       "      <td>33000000.0</td>\n",
       "      <td>NaN</td>\n",
       "      <td>NaN</td>\n",
       "      <td>...</td>\n",
       "      <td>NaN</td>\n",
       "      <td>NaN</td>\n",
       "      <td>NaN</td>\n",
       "      <td>NaN</td>\n",
       "      <td>NaN</td>\n",
       "      <td>U</td>\n",
       "      <td>OPE</td>\n",
       "      <td>NaN</td>\n",
       "      <td>30.03</td>\n",
       "      <td>45.0</td>\n",
       "    </tr>\n",
       "    <tr>\n",
       "      <th>318485</th>\n",
       "      <td>318485</td>\n",
       "      <td>2012137194</td>\n",
       "      <td>0</td>\n",
       "      <td>1</td>\n",
       "      <td>NaN</td>\n",
       "      <td>NaN</td>\n",
       "      <td>188069.7</td>\n",
       "      <td>33000000.0</td>\n",
       "      <td>NaN</td>\n",
       "      <td>NaN</td>\n",
       "      <td>...</td>\n",
       "      <td>NaN</td>\n",
       "      <td>NaN</td>\n",
       "      <td>NaN</td>\n",
       "      <td>NaN</td>\n",
       "      <td>NaN</td>\n",
       "      <td>U</td>\n",
       "      <td>OPE</td>\n",
       "      <td>NaN</td>\n",
       "      <td>30.03</td>\n",
       "      <td>45.0</td>\n",
       "    </tr>\n",
       "    <tr>\n",
       "      <th>318486</th>\n",
       "      <td>318486</td>\n",
       "      <td>2012137194</td>\n",
       "      <td>0</td>\n",
       "      <td>1</td>\n",
       "      <td>NaN</td>\n",
       "      <td>NaN</td>\n",
       "      <td>121227.0</td>\n",
       "      <td>33000000.0</td>\n",
       "      <td>NaN</td>\n",
       "      <td>NaN</td>\n",
       "      <td>...</td>\n",
       "      <td>NaN</td>\n",
       "      <td>NaN</td>\n",
       "      <td>NaN</td>\n",
       "      <td>NaN</td>\n",
       "      <td>NaN</td>\n",
       "      <td>U</td>\n",
       "      <td>OPE</td>\n",
       "      <td>NaN</td>\n",
       "      <td>30.03</td>\n",
       "      <td>45.0</td>\n",
       "    </tr>\n",
       "    <tr>\n",
       "      <th>318487</th>\n",
       "      <td>318487</td>\n",
       "      <td>2012137194</td>\n",
       "      <td>0</td>\n",
       "      <td>1</td>\n",
       "      <td>NaN</td>\n",
       "      <td>NaN</td>\n",
       "      <td>24570.0</td>\n",
       "      <td>33000000.0</td>\n",
       "      <td>NaN</td>\n",
       "      <td>NaN</td>\n",
       "      <td>...</td>\n",
       "      <td>NaN</td>\n",
       "      <td>NaN</td>\n",
       "      <td>NaN</td>\n",
       "      <td>NaN</td>\n",
       "      <td>NaN</td>\n",
       "      <td>U</td>\n",
       "      <td>OPE</td>\n",
       "      <td>NaN</td>\n",
       "      <td>30.03</td>\n",
       "      <td>45.0</td>\n",
       "    </tr>\n",
       "    <tr>\n",
       "      <th>...</th>\n",
       "      <td>...</td>\n",
       "      <td>...</td>\n",
       "      <td>...</td>\n",
       "      <td>...</td>\n",
       "      <td>...</td>\n",
       "      <td>...</td>\n",
       "      <td>...</td>\n",
       "      <td>...</td>\n",
       "      <td>...</td>\n",
       "      <td>...</td>\n",
       "      <td>...</td>\n",
       "      <td>...</td>\n",
       "      <td>...</td>\n",
       "      <td>...</td>\n",
       "      <td>...</td>\n",
       "      <td>...</td>\n",
       "      <td>...</td>\n",
       "      <td>...</td>\n",
       "      <td>...</td>\n",
       "      <td>...</td>\n",
       "      <td>...</td>\n",
       "    </tr>\n",
       "    <tr>\n",
       "      <th>732377</th>\n",
       "      <td>732377</td>\n",
       "      <td>2015303878</td>\n",
       "      <td>0</td>\n",
       "      <td>1</td>\n",
       "      <td>NaN</td>\n",
       "      <td>NaN</td>\n",
       "      <td>NaN</td>\n",
       "      <td>45000000.0</td>\n",
       "      <td>NaN</td>\n",
       "      <td>N</td>\n",
       "      <td>...</td>\n",
       "      <td>NaN</td>\n",
       "      <td>NaN</td>\n",
       "      <td>NaN</td>\n",
       "      <td>NaN</td>\n",
       "      <td>NaN</td>\n",
       "      <td>W</td>\n",
       "      <td>OPE</td>\n",
       "      <td>Y</td>\n",
       "      <td>15.00</td>\n",
       "      <td>42.0</td>\n",
       "    </tr>\n",
       "    <tr>\n",
       "      <th>784213</th>\n",
       "      <td>784213</td>\n",
       "      <td>201632275</td>\n",
       "      <td>0</td>\n",
       "      <td>1</td>\n",
       "      <td>NaN</td>\n",
       "      <td>NaN</td>\n",
       "      <td>NaN</td>\n",
       "      <td>77340000.0</td>\n",
       "      <td>NaN</td>\n",
       "      <td>N</td>\n",
       "      <td>...</td>\n",
       "      <td>NaN</td>\n",
       "      <td>NaN</td>\n",
       "      <td>NaN</td>\n",
       "      <td>Y</td>\n",
       "      <td>NaN</td>\n",
       "      <td>S</td>\n",
       "      <td>NOC</td>\n",
       "      <td>NaN</td>\n",
       "      <td>NaN</td>\n",
       "      <td>NaN</td>\n",
       "    </tr>\n",
       "    <tr>\n",
       "      <th>784214</th>\n",
       "      <td>784214</td>\n",
       "      <td>201632275</td>\n",
       "      <td>0</td>\n",
       "      <td>1</td>\n",
       "      <td>NaN</td>\n",
       "      <td>NaN</td>\n",
       "      <td>NaN</td>\n",
       "      <td>77340000.0</td>\n",
       "      <td>NaN</td>\n",
       "      <td>N</td>\n",
       "      <td>...</td>\n",
       "      <td>NaN</td>\n",
       "      <td>NaN</td>\n",
       "      <td>NaN</td>\n",
       "      <td>Y</td>\n",
       "      <td>NaN</td>\n",
       "      <td>S</td>\n",
       "      <td>NOC</td>\n",
       "      <td>NaN</td>\n",
       "      <td>NaN</td>\n",
       "      <td>NaN</td>\n",
       "    </tr>\n",
       "    <tr>\n",
       "      <th>784215</th>\n",
       "      <td>784215</td>\n",
       "      <td>201632275</td>\n",
       "      <td>0</td>\n",
       "      <td>1</td>\n",
       "      <td>NaN</td>\n",
       "      <td>NaN</td>\n",
       "      <td>NaN</td>\n",
       "      <td>77340000.0</td>\n",
       "      <td>NaN</td>\n",
       "      <td>N</td>\n",
       "      <td>...</td>\n",
       "      <td>NaN</td>\n",
       "      <td>NaN</td>\n",
       "      <td>NaN</td>\n",
       "      <td>Y</td>\n",
       "      <td>NaN</td>\n",
       "      <td>S</td>\n",
       "      <td>NOC</td>\n",
       "      <td>NaN</td>\n",
       "      <td>NaN</td>\n",
       "      <td>NaN</td>\n",
       "    </tr>\n",
       "    <tr>\n",
       "      <th>784216</th>\n",
       "      <td>784216</td>\n",
       "      <td>201632275</td>\n",
       "      <td>0</td>\n",
       "      <td>1</td>\n",
       "      <td>NaN</td>\n",
       "      <td>NaN</td>\n",
       "      <td>NaN</td>\n",
       "      <td>77340000.0</td>\n",
       "      <td>NaN</td>\n",
       "      <td>N</td>\n",
       "      <td>...</td>\n",
       "      <td>NaN</td>\n",
       "      <td>NaN</td>\n",
       "      <td>NaN</td>\n",
       "      <td>Y</td>\n",
       "      <td>NaN</td>\n",
       "      <td>S</td>\n",
       "      <td>NOC</td>\n",
       "      <td>NaN</td>\n",
       "      <td>NaN</td>\n",
       "      <td>NaN</td>\n",
       "    </tr>\n",
       "  </tbody>\n",
       "</table>\n",
       "<p>64 rows × 26 columns</p>\n",
       "</div>"
      ],
      "text/plain": [
       "         lotId    tedCanId  correctionsNb  cancelled awardDate  \\\n",
       "261119  261119  2011390174              0          1       NaN   \n",
       "318484  318484  2012137194              0          1       NaN   \n",
       "318485  318485  2012137194              0          1       NaN   \n",
       "318486  318486  2012137194              0          1       NaN   \n",
       "318487  318487  2012137194              0          1       NaN   \n",
       "...        ...         ...            ...        ...       ...   \n",
       "732377  732377  2015303878              0          1       NaN   \n",
       "784213  784213   201632275              0          1       NaN   \n",
       "784214  784214   201632275              0          1       NaN   \n",
       "784215  784215   201632275              0          1       NaN   \n",
       "784216  784216   201632275              0          1       NaN   \n",
       "\n",
       "        awardEstimatedPrice  awardPrice         cpv  numberTenders onBehalf  \\\n",
       "261119                  NaN         NaN  22113000.0            NaN        N   \n",
       "318484                  NaN      5135.6  33000000.0            NaN      NaN   \n",
       "318485                  NaN    188069.7  33000000.0            NaN      NaN   \n",
       "318486                  NaN    121227.0  33000000.0            NaN      NaN   \n",
       "318487                  NaN     24570.0  33000000.0            NaN      NaN   \n",
       "...                     ...         ...         ...            ...      ...   \n",
       "732377                  NaN         NaN  45000000.0            NaN        N   \n",
       "784213                  NaN         NaN  77340000.0            NaN        N   \n",
       "784214                  NaN         NaN  77340000.0            NaN        N   \n",
       "784215                  NaN         NaN  77340000.0            NaN        N   \n",
       "784216                  NaN         NaN  77340000.0            NaN        N   \n",
       "\n",
       "        ... contractorSme numberTendersSme subContracted  gpa multipleCae  \\\n",
       "261119  ...           NaN              NaN           NaN    Y         NaN   \n",
       "318484  ...           NaN              NaN           NaN  NaN         NaN   \n",
       "318485  ...           NaN              NaN           NaN  NaN         NaN   \n",
       "318486  ...           NaN              NaN           NaN  NaN         NaN   \n",
       "318487  ...           NaN              NaN           NaN  NaN         NaN   \n",
       "...     ...           ...              ...           ...  ...         ...   \n",
       "732377  ...           NaN              NaN           NaN  NaN         NaN   \n",
       "784213  ...           NaN              NaN           NaN    Y         NaN   \n",
       "784214  ...           NaN              NaN           NaN    Y         NaN   \n",
       "784215  ...           NaN              NaN           NaN    Y         NaN   \n",
       "784216  ...           NaN              NaN           NaN    Y         NaN   \n",
       "\n",
       "        typeOfContract topType  renewal contractDuration publicityDuration  \n",
       "261119               U     OPE      NaN              NaN               NaN  \n",
       "318484               U     OPE      NaN            30.03              45.0  \n",
       "318485               U     OPE      NaN            30.03              45.0  \n",
       "318486               U     OPE      NaN            30.03              45.0  \n",
       "318487               U     OPE      NaN            30.03              45.0  \n",
       "...                ...     ...      ...              ...               ...  \n",
       "732377               W     OPE        Y            15.00              42.0  \n",
       "784213               S     NOC      NaN              NaN               NaN  \n",
       "784214               S     NOC      NaN              NaN               NaN  \n",
       "784215               S     NOC      NaN              NaN               NaN  \n",
       "784216               S     NOC      NaN              NaN               NaN  \n",
       "\n",
       "[64 rows x 26 columns]"
      ]
     },
     "execution_count": 76,
     "metadata": {},
     "output_type": "execute_result"
    }
   ],
   "source": [
    "cancelledLotNotAwarded"
   ]
  },
  {
   "cell_type": "code",
   "execution_count": 77,
   "metadata": {},
   "outputs": [
    {
     "data": {
      "text/plain": [
       "22.857142857142858"
      ]
     },
     "execution_count": 77,
     "metadata": {},
     "output_type": "execute_result"
    }
   ],
   "source": [
    "(len(cancelledLotNotAwarded) / len(cancelledLot)) * 100"
   ]
  },
  {
   "cell_type": "code",
   "execution_count": 78,
   "metadata": {},
   "outputs": [],
   "source": [
    "cancelledLotAwarded = cancelledLot[cancelledLot['awardDate'].notna()]"
   ]
  },
  {
   "cell_type": "code",
   "execution_count": 79,
   "metadata": {},
   "outputs": [
    {
     "data": {
      "text/html": [
       "<div>\n",
       "<style scoped>\n",
       "    .dataframe tbody tr th:only-of-type {\n",
       "        vertical-align: middle;\n",
       "    }\n",
       "\n",
       "    .dataframe tbody tr th {\n",
       "        vertical-align: top;\n",
       "    }\n",
       "\n",
       "    .dataframe thead th {\n",
       "        text-align: right;\n",
       "    }\n",
       "</style>\n",
       "<table border=\"1\" class=\"dataframe\">\n",
       "  <thead>\n",
       "    <tr style=\"text-align: right;\">\n",
       "      <th></th>\n",
       "      <th>lotId</th>\n",
       "      <th>tedCanId</th>\n",
       "      <th>correctionsNb</th>\n",
       "      <th>cancelled</th>\n",
       "      <th>awardDate</th>\n",
       "      <th>awardEstimatedPrice</th>\n",
       "      <th>awardPrice</th>\n",
       "      <th>cpv</th>\n",
       "      <th>numberTenders</th>\n",
       "      <th>onBehalf</th>\n",
       "      <th>...</th>\n",
       "      <th>contractorSme</th>\n",
       "      <th>numberTendersSme</th>\n",
       "      <th>subContracted</th>\n",
       "      <th>gpa</th>\n",
       "      <th>multipleCae</th>\n",
       "      <th>typeOfContract</th>\n",
       "      <th>topType</th>\n",
       "      <th>renewal</th>\n",
       "      <th>contractDuration</th>\n",
       "      <th>publicityDuration</th>\n",
       "    </tr>\n",
       "  </thead>\n",
       "  <tbody>\n",
       "    <tr>\n",
       "      <th>183789</th>\n",
       "      <td>183789</td>\n",
       "      <td>2011138910</td>\n",
       "      <td>0</td>\n",
       "      <td>1</td>\n",
       "      <td>2011-04-28</td>\n",
       "      <td>NaN</td>\n",
       "      <td>43945.0</td>\n",
       "      <td>79620000.0</td>\n",
       "      <td>13.0</td>\n",
       "      <td>N</td>\n",
       "      <td>...</td>\n",
       "      <td>NaN</td>\n",
       "      <td>NaN</td>\n",
       "      <td>N</td>\n",
       "      <td>NaN</td>\n",
       "      <td>NaN</td>\n",
       "      <td>S</td>\n",
       "      <td>OPE</td>\n",
       "      <td>NaN</td>\n",
       "      <td>36.0</td>\n",
       "      <td>44.0</td>\n",
       "    </tr>\n",
       "    <tr>\n",
       "      <th>196730</th>\n",
       "      <td>196730</td>\n",
       "      <td>2011187973</td>\n",
       "      <td>0</td>\n",
       "      <td>1</td>\n",
       "      <td>2011-02-15</td>\n",
       "      <td>NaN</td>\n",
       "      <td>670597.0</td>\n",
       "      <td>33696500.0</td>\n",
       "      <td>52.0</td>\n",
       "      <td>N</td>\n",
       "      <td>...</td>\n",
       "      <td>NaN</td>\n",
       "      <td>NaN</td>\n",
       "      <td>N</td>\n",
       "      <td>NaN</td>\n",
       "      <td>NaN</td>\n",
       "      <td>U</td>\n",
       "      <td>OPE</td>\n",
       "      <td>NaN</td>\n",
       "      <td>NaN</td>\n",
       "      <td>NaN</td>\n",
       "    </tr>\n",
       "    <tr>\n",
       "      <th>196731</th>\n",
       "      <td>196731</td>\n",
       "      <td>2011187973</td>\n",
       "      <td>0</td>\n",
       "      <td>1</td>\n",
       "      <td>2011-02-15</td>\n",
       "      <td>NaN</td>\n",
       "      <td>731458.0</td>\n",
       "      <td>33696500.0</td>\n",
       "      <td>52.0</td>\n",
       "      <td>N</td>\n",
       "      <td>...</td>\n",
       "      <td>NaN</td>\n",
       "      <td>NaN</td>\n",
       "      <td>N</td>\n",
       "      <td>NaN</td>\n",
       "      <td>NaN</td>\n",
       "      <td>U</td>\n",
       "      <td>OPE</td>\n",
       "      <td>NaN</td>\n",
       "      <td>NaN</td>\n",
       "      <td>NaN</td>\n",
       "    </tr>\n",
       "    <tr>\n",
       "      <th>196732</th>\n",
       "      <td>196732</td>\n",
       "      <td>2011187973</td>\n",
       "      <td>0</td>\n",
       "      <td>1</td>\n",
       "      <td>2011-02-15</td>\n",
       "      <td>NaN</td>\n",
       "      <td>197837.0</td>\n",
       "      <td>33696500.0</td>\n",
       "      <td>52.0</td>\n",
       "      <td>N</td>\n",
       "      <td>...</td>\n",
       "      <td>NaN</td>\n",
       "      <td>NaN</td>\n",
       "      <td>N</td>\n",
       "      <td>NaN</td>\n",
       "      <td>NaN</td>\n",
       "      <td>U</td>\n",
       "      <td>OPE</td>\n",
       "      <td>NaN</td>\n",
       "      <td>NaN</td>\n",
       "      <td>NaN</td>\n",
       "    </tr>\n",
       "    <tr>\n",
       "      <th>196733</th>\n",
       "      <td>196733</td>\n",
       "      <td>2011187973</td>\n",
       "      <td>0</td>\n",
       "      <td>1</td>\n",
       "      <td>2011-02-15</td>\n",
       "      <td>NaN</td>\n",
       "      <td>566920.0</td>\n",
       "      <td>33696500.0</td>\n",
       "      <td>52.0</td>\n",
       "      <td>N</td>\n",
       "      <td>...</td>\n",
       "      <td>NaN</td>\n",
       "      <td>NaN</td>\n",
       "      <td>N</td>\n",
       "      <td>NaN</td>\n",
       "      <td>NaN</td>\n",
       "      <td>U</td>\n",
       "      <td>OPE</td>\n",
       "      <td>NaN</td>\n",
       "      <td>NaN</td>\n",
       "      <td>NaN</td>\n",
       "    </tr>\n",
       "    <tr>\n",
       "      <th>...</th>\n",
       "      <td>...</td>\n",
       "      <td>...</td>\n",
       "      <td>...</td>\n",
       "      <td>...</td>\n",
       "      <td>...</td>\n",
       "      <td>...</td>\n",
       "      <td>...</td>\n",
       "      <td>...</td>\n",
       "      <td>...</td>\n",
       "      <td>...</td>\n",
       "      <td>...</td>\n",
       "      <td>...</td>\n",
       "      <td>...</td>\n",
       "      <td>...</td>\n",
       "      <td>...</td>\n",
       "      <td>...</td>\n",
       "      <td>...</td>\n",
       "      <td>...</td>\n",
       "      <td>...</td>\n",
       "      <td>...</td>\n",
       "      <td>...</td>\n",
       "    </tr>\n",
       "    <tr>\n",
       "      <th>873672</th>\n",
       "      <td>873672</td>\n",
       "      <td>2016434610</td>\n",
       "      <td>0</td>\n",
       "      <td>1</td>\n",
       "      <td>2016-12-02</td>\n",
       "      <td>NaN</td>\n",
       "      <td>38565.1</td>\n",
       "      <td>50500000.0</td>\n",
       "      <td>4.0</td>\n",
       "      <td>N</td>\n",
       "      <td>...</td>\n",
       "      <td>NaN</td>\n",
       "      <td>NaN</td>\n",
       "      <td>NaN</td>\n",
       "      <td>NaN</td>\n",
       "      <td>NaN</td>\n",
       "      <td>S</td>\n",
       "      <td>OPE</td>\n",
       "      <td>NaN</td>\n",
       "      <td>60.0</td>\n",
       "      <td>37.0</td>\n",
       "    </tr>\n",
       "    <tr>\n",
       "      <th>873673</th>\n",
       "      <td>873673</td>\n",
       "      <td>2016434610</td>\n",
       "      <td>0</td>\n",
       "      <td>1</td>\n",
       "      <td>2016-12-02</td>\n",
       "      <td>NaN</td>\n",
       "      <td>53244.0</td>\n",
       "      <td>50500000.0</td>\n",
       "      <td>6.0</td>\n",
       "      <td>N</td>\n",
       "      <td>...</td>\n",
       "      <td>NaN</td>\n",
       "      <td>NaN</td>\n",
       "      <td>NaN</td>\n",
       "      <td>NaN</td>\n",
       "      <td>NaN</td>\n",
       "      <td>S</td>\n",
       "      <td>OPE</td>\n",
       "      <td>NaN</td>\n",
       "      <td>60.0</td>\n",
       "      <td>37.0</td>\n",
       "    </tr>\n",
       "    <tr>\n",
       "      <th>873674</th>\n",
       "      <td>873674</td>\n",
       "      <td>2016434610</td>\n",
       "      <td>0</td>\n",
       "      <td>1</td>\n",
       "      <td>2016-12-02</td>\n",
       "      <td>NaN</td>\n",
       "      <td>11629.1</td>\n",
       "      <td>50500000.0</td>\n",
       "      <td>4.0</td>\n",
       "      <td>N</td>\n",
       "      <td>...</td>\n",
       "      <td>NaN</td>\n",
       "      <td>NaN</td>\n",
       "      <td>NaN</td>\n",
       "      <td>NaN</td>\n",
       "      <td>NaN</td>\n",
       "      <td>S</td>\n",
       "      <td>OPE</td>\n",
       "      <td>NaN</td>\n",
       "      <td>60.0</td>\n",
       "      <td>37.0</td>\n",
       "    </tr>\n",
       "    <tr>\n",
       "      <th>873675</th>\n",
       "      <td>873675</td>\n",
       "      <td>2016434610</td>\n",
       "      <td>0</td>\n",
       "      <td>1</td>\n",
       "      <td>2016-12-02</td>\n",
       "      <td>NaN</td>\n",
       "      <td>29836.8</td>\n",
       "      <td>50500000.0</td>\n",
       "      <td>5.0</td>\n",
       "      <td>N</td>\n",
       "      <td>...</td>\n",
       "      <td>NaN</td>\n",
       "      <td>NaN</td>\n",
       "      <td>NaN</td>\n",
       "      <td>NaN</td>\n",
       "      <td>NaN</td>\n",
       "      <td>S</td>\n",
       "      <td>OPE</td>\n",
       "      <td>NaN</td>\n",
       "      <td>60.0</td>\n",
       "      <td>37.0</td>\n",
       "    </tr>\n",
       "    <tr>\n",
       "      <th>873676</th>\n",
       "      <td>873676</td>\n",
       "      <td>2016434610</td>\n",
       "      <td>0</td>\n",
       "      <td>1</td>\n",
       "      <td>2016-12-02</td>\n",
       "      <td>NaN</td>\n",
       "      <td>56228.9</td>\n",
       "      <td>50500000.0</td>\n",
       "      <td>3.0</td>\n",
       "      <td>N</td>\n",
       "      <td>...</td>\n",
       "      <td>NaN</td>\n",
       "      <td>NaN</td>\n",
       "      <td>NaN</td>\n",
       "      <td>NaN</td>\n",
       "      <td>NaN</td>\n",
       "      <td>S</td>\n",
       "      <td>OPE</td>\n",
       "      <td>NaN</td>\n",
       "      <td>60.0</td>\n",
       "      <td>37.0</td>\n",
       "    </tr>\n",
       "  </tbody>\n",
       "</table>\n",
       "<p>216 rows × 26 columns</p>\n",
       "</div>"
      ],
      "text/plain": [
       "         lotId    tedCanId  correctionsNb  cancelled   awardDate  \\\n",
       "183789  183789  2011138910              0          1  2011-04-28   \n",
       "196730  196730  2011187973              0          1  2011-02-15   \n",
       "196731  196731  2011187973              0          1  2011-02-15   \n",
       "196732  196732  2011187973              0          1  2011-02-15   \n",
       "196733  196733  2011187973              0          1  2011-02-15   \n",
       "...        ...         ...            ...        ...         ...   \n",
       "873672  873672  2016434610              0          1  2016-12-02   \n",
       "873673  873673  2016434610              0          1  2016-12-02   \n",
       "873674  873674  2016434610              0          1  2016-12-02   \n",
       "873675  873675  2016434610              0          1  2016-12-02   \n",
       "873676  873676  2016434610              0          1  2016-12-02   \n",
       "\n",
       "        awardEstimatedPrice  awardPrice         cpv  numberTenders onBehalf  \\\n",
       "183789                  NaN     43945.0  79620000.0           13.0        N   \n",
       "196730                  NaN    670597.0  33696500.0           52.0        N   \n",
       "196731                  NaN    731458.0  33696500.0           52.0        N   \n",
       "196732                  NaN    197837.0  33696500.0           52.0        N   \n",
       "196733                  NaN    566920.0  33696500.0           52.0        N   \n",
       "...                     ...         ...         ...            ...      ...   \n",
       "873672                  NaN     38565.1  50500000.0            4.0        N   \n",
       "873673                  NaN     53244.0  50500000.0            6.0        N   \n",
       "873674                  NaN     11629.1  50500000.0            4.0        N   \n",
       "873675                  NaN     29836.8  50500000.0            5.0        N   \n",
       "873676                  NaN     56228.9  50500000.0            3.0        N   \n",
       "\n",
       "        ... contractorSme numberTendersSme subContracted  gpa multipleCae  \\\n",
       "183789  ...           NaN              NaN             N  NaN         NaN   \n",
       "196730  ...           NaN              NaN             N  NaN         NaN   \n",
       "196731  ...           NaN              NaN             N  NaN         NaN   \n",
       "196732  ...           NaN              NaN             N  NaN         NaN   \n",
       "196733  ...           NaN              NaN             N  NaN         NaN   \n",
       "...     ...           ...              ...           ...  ...         ...   \n",
       "873672  ...           NaN              NaN           NaN  NaN         NaN   \n",
       "873673  ...           NaN              NaN           NaN  NaN         NaN   \n",
       "873674  ...           NaN              NaN           NaN  NaN         NaN   \n",
       "873675  ...           NaN              NaN           NaN  NaN         NaN   \n",
       "873676  ...           NaN              NaN           NaN  NaN         NaN   \n",
       "\n",
       "        typeOfContract topType  renewal contractDuration publicityDuration  \n",
       "183789               S     OPE      NaN             36.0              44.0  \n",
       "196730               U     OPE      NaN              NaN               NaN  \n",
       "196731               U     OPE      NaN              NaN               NaN  \n",
       "196732               U     OPE      NaN              NaN               NaN  \n",
       "196733               U     OPE      NaN              NaN               NaN  \n",
       "...                ...     ...      ...              ...               ...  \n",
       "873672               S     OPE      NaN             60.0              37.0  \n",
       "873673               S     OPE      NaN             60.0              37.0  \n",
       "873674               S     OPE      NaN             60.0              37.0  \n",
       "873675               S     OPE      NaN             60.0              37.0  \n",
       "873676               S     OPE      NaN             60.0              37.0  \n",
       "\n",
       "[216 rows x 26 columns]"
      ]
     },
     "execution_count": 79,
     "metadata": {},
     "output_type": "execute_result"
    }
   ],
   "source": [
    "cancelledLotAwarded"
   ]
  },
  {
   "cell_type": "code",
   "execution_count": 80,
   "metadata": {},
   "outputs": [
    {
     "data": {
      "text/plain": [
       "77.14285714285715"
      ]
     },
     "execution_count": 80,
     "metadata": {},
     "output_type": "execute_result"
    }
   ],
   "source": [
    "(len(cancelledLotAwarded) / len(cancelledLot)) * 100"
   ]
  },
  {
   "cell_type": "markdown",
   "metadata": {},
   "source": [
    "We can also see that from cancelled lots  **23%** have **awardDate** what means they are awarded and **77%** are note"
   ]
  },
  {
   "cell_type": "code",
   "execution_count": 81,
   "metadata": {},
   "outputs": [],
   "source": [
    "notCancelledLot = lots[lots['cancelled']==0]"
   ]
  },
  {
   "cell_type": "code",
   "execution_count": 82,
   "metadata": {},
   "outputs": [
    {
     "data": {
      "text/html": [
       "<div>\n",
       "<style scoped>\n",
       "    .dataframe tbody tr th:only-of-type {\n",
       "        vertical-align: middle;\n",
       "    }\n",
       "\n",
       "    .dataframe tbody tr th {\n",
       "        vertical-align: top;\n",
       "    }\n",
       "\n",
       "    .dataframe thead th {\n",
       "        text-align: right;\n",
       "    }\n",
       "</style>\n",
       "<table border=\"1\" class=\"dataframe\">\n",
       "  <thead>\n",
       "    <tr style=\"text-align: right;\">\n",
       "      <th></th>\n",
       "      <th>lotId</th>\n",
       "      <th>tedCanId</th>\n",
       "      <th>correctionsNb</th>\n",
       "      <th>cancelled</th>\n",
       "      <th>awardDate</th>\n",
       "      <th>awardEstimatedPrice</th>\n",
       "      <th>awardPrice</th>\n",
       "      <th>cpv</th>\n",
       "      <th>numberTenders</th>\n",
       "      <th>onBehalf</th>\n",
       "      <th>...</th>\n",
       "      <th>contractorSme</th>\n",
       "      <th>numberTendersSme</th>\n",
       "      <th>subContracted</th>\n",
       "      <th>gpa</th>\n",
       "      <th>multipleCae</th>\n",
       "      <th>typeOfContract</th>\n",
       "      <th>topType</th>\n",
       "      <th>renewal</th>\n",
       "      <th>contractDuration</th>\n",
       "      <th>publicityDuration</th>\n",
       "    </tr>\n",
       "  </thead>\n",
       "  <tbody>\n",
       "    <tr>\n",
       "      <th>0</th>\n",
       "      <td>0</td>\n",
       "      <td>2010142</td>\n",
       "      <td>0</td>\n",
       "      <td>0</td>\n",
       "      <td>2009-09-24</td>\n",
       "      <td>NaN</td>\n",
       "      <td>8.916747e+05</td>\n",
       "      <td>45233226.0</td>\n",
       "      <td>NaN</td>\n",
       "      <td>NaN</td>\n",
       "      <td>...</td>\n",
       "      <td>NaN</td>\n",
       "      <td>NaN</td>\n",
       "      <td>NaN</td>\n",
       "      <td>Y</td>\n",
       "      <td>NaN</td>\n",
       "      <td>W</td>\n",
       "      <td>OPE</td>\n",
       "      <td>NaN</td>\n",
       "      <td>NaN</td>\n",
       "      <td>NaN</td>\n",
       "    </tr>\n",
       "    <tr>\n",
       "      <th>1</th>\n",
       "      <td>1</td>\n",
       "      <td>2010142</td>\n",
       "      <td>0</td>\n",
       "      <td>0</td>\n",
       "      <td>2009-09-24</td>\n",
       "      <td>NaN</td>\n",
       "      <td>1.169251e+05</td>\n",
       "      <td>45233226.0</td>\n",
       "      <td>NaN</td>\n",
       "      <td>NaN</td>\n",
       "      <td>...</td>\n",
       "      <td>NaN</td>\n",
       "      <td>NaN</td>\n",
       "      <td>NaN</td>\n",
       "      <td>Y</td>\n",
       "      <td>NaN</td>\n",
       "      <td>W</td>\n",
       "      <td>OPE</td>\n",
       "      <td>NaN</td>\n",
       "      <td>NaN</td>\n",
       "      <td>NaN</td>\n",
       "    </tr>\n",
       "    <tr>\n",
       "      <th>2</th>\n",
       "      <td>2</td>\n",
       "      <td>2010142</td>\n",
       "      <td>0</td>\n",
       "      <td>0</td>\n",
       "      <td>2009-09-24</td>\n",
       "      <td>NaN</td>\n",
       "      <td>7.381412e+04</td>\n",
       "      <td>45233226.0</td>\n",
       "      <td>NaN</td>\n",
       "      <td>NaN</td>\n",
       "      <td>...</td>\n",
       "      <td>NaN</td>\n",
       "      <td>NaN</td>\n",
       "      <td>NaN</td>\n",
       "      <td>Y</td>\n",
       "      <td>NaN</td>\n",
       "      <td>W</td>\n",
       "      <td>OPE</td>\n",
       "      <td>NaN</td>\n",
       "      <td>NaN</td>\n",
       "      <td>NaN</td>\n",
       "    </tr>\n",
       "    <tr>\n",
       "      <th>3</th>\n",
       "      <td>3</td>\n",
       "      <td>2010143</td>\n",
       "      <td>0</td>\n",
       "      <td>0</td>\n",
       "      <td>2009-09-28</td>\n",
       "      <td>NaN</td>\n",
       "      <td>3.840584e+05</td>\n",
       "      <td>45232150.0</td>\n",
       "      <td>11.0</td>\n",
       "      <td>NaN</td>\n",
       "      <td>...</td>\n",
       "      <td>NaN</td>\n",
       "      <td>NaN</td>\n",
       "      <td>NaN</td>\n",
       "      <td>N</td>\n",
       "      <td>NaN</td>\n",
       "      <td>W</td>\n",
       "      <td>OPE</td>\n",
       "      <td>NaN</td>\n",
       "      <td>NaN</td>\n",
       "      <td>NaN</td>\n",
       "    </tr>\n",
       "    <tr>\n",
       "      <th>4</th>\n",
       "      <td>4</td>\n",
       "      <td>2010144</td>\n",
       "      <td>0</td>\n",
       "      <td>0</td>\n",
       "      <td>2009-11-06</td>\n",
       "      <td>NaN</td>\n",
       "      <td>7.790000e+06</td>\n",
       "      <td>45211000.0</td>\n",
       "      <td>6.0</td>\n",
       "      <td>NaN</td>\n",
       "      <td>...</td>\n",
       "      <td>NaN</td>\n",
       "      <td>NaN</td>\n",
       "      <td>N</td>\n",
       "      <td>N</td>\n",
       "      <td>NaN</td>\n",
       "      <td>W</td>\n",
       "      <td>RES</td>\n",
       "      <td>NaN</td>\n",
       "      <td>24.01</td>\n",
       "      <td>36.0</td>\n",
       "    </tr>\n",
       "    <tr>\n",
       "      <th>...</th>\n",
       "      <td>...</td>\n",
       "      <td>...</td>\n",
       "      <td>...</td>\n",
       "      <td>...</td>\n",
       "      <td>...</td>\n",
       "      <td>...</td>\n",
       "      <td>...</td>\n",
       "      <td>...</td>\n",
       "      <td>...</td>\n",
       "      <td>...</td>\n",
       "      <td>...</td>\n",
       "      <td>...</td>\n",
       "      <td>...</td>\n",
       "      <td>...</td>\n",
       "      <td>...</td>\n",
       "      <td>...</td>\n",
       "      <td>...</td>\n",
       "      <td>...</td>\n",
       "      <td>...</td>\n",
       "      <td>...</td>\n",
       "      <td>...</td>\n",
       "    </tr>\n",
       "    <tr>\n",
       "      <th>1380960</th>\n",
       "      <td>1380960</td>\n",
       "      <td>2020643360</td>\n",
       "      <td>0</td>\n",
       "      <td>0</td>\n",
       "      <td>2020-12-28</td>\n",
       "      <td>NaN</td>\n",
       "      <td>5.000000e+05</td>\n",
       "      <td>92200000.0</td>\n",
       "      <td>2.0</td>\n",
       "      <td>N</td>\n",
       "      <td>...</td>\n",
       "      <td>Y</td>\n",
       "      <td>NaN</td>\n",
       "      <td>NaN</td>\n",
       "      <td>NaN</td>\n",
       "      <td>N</td>\n",
       "      <td>S</td>\n",
       "      <td>NIC</td>\n",
       "      <td>NaN</td>\n",
       "      <td>96.00</td>\n",
       "      <td>35.0</td>\n",
       "    </tr>\n",
       "    <tr>\n",
       "      <th>1380961</th>\n",
       "      <td>1380961</td>\n",
       "      <td>2020643361</td>\n",
       "      <td>0</td>\n",
       "      <td>0</td>\n",
       "      <td>2020-12-10</td>\n",
       "      <td>NaN</td>\n",
       "      <td>2.000000e+07</td>\n",
       "      <td>65111000.0</td>\n",
       "      <td>2.0</td>\n",
       "      <td>N</td>\n",
       "      <td>...</td>\n",
       "      <td>N</td>\n",
       "      <td>NaN</td>\n",
       "      <td>NaN</td>\n",
       "      <td>NaN</td>\n",
       "      <td>N</td>\n",
       "      <td>S</td>\n",
       "      <td>NIC</td>\n",
       "      <td>NaN</td>\n",
       "      <td>NaN</td>\n",
       "      <td>62.0</td>\n",
       "    </tr>\n",
       "    <tr>\n",
       "      <th>1380962</th>\n",
       "      <td>1380962</td>\n",
       "      <td>2020643362</td>\n",
       "      <td>0</td>\n",
       "      <td>0</td>\n",
       "      <td>2020-12-17</td>\n",
       "      <td>NaN</td>\n",
       "      <td>4.984029e+06</td>\n",
       "      <td>85312110.0</td>\n",
       "      <td>3.0</td>\n",
       "      <td>N</td>\n",
       "      <td>...</td>\n",
       "      <td>N</td>\n",
       "      <td>NaN</td>\n",
       "      <td>NaN</td>\n",
       "      <td>NaN</td>\n",
       "      <td>N</td>\n",
       "      <td>S</td>\n",
       "      <td>NIC</td>\n",
       "      <td>NaN</td>\n",
       "      <td>60.00</td>\n",
       "      <td>35.0</td>\n",
       "    </tr>\n",
       "    <tr>\n",
       "      <th>1380963</th>\n",
       "      <td>1380963</td>\n",
       "      <td>2020643363</td>\n",
       "      <td>0</td>\n",
       "      <td>0</td>\n",
       "      <td>2020-12-11</td>\n",
       "      <td>497000000.0</td>\n",
       "      <td>4.970000e+08</td>\n",
       "      <td>65300000.0</td>\n",
       "      <td>1.0</td>\n",
       "      <td>N</td>\n",
       "      <td>...</td>\n",
       "      <td>N---N</td>\n",
       "      <td>NaN</td>\n",
       "      <td>NaN</td>\n",
       "      <td>NaN</td>\n",
       "      <td>N</td>\n",
       "      <td>S</td>\n",
       "      <td>NOC</td>\n",
       "      <td>NaN</td>\n",
       "      <td>NaN</td>\n",
       "      <td>NaN</td>\n",
       "    </tr>\n",
       "    <tr>\n",
       "      <th>1380964</th>\n",
       "      <td>1380964</td>\n",
       "      <td>2020643364</td>\n",
       "      <td>0</td>\n",
       "      <td>0</td>\n",
       "      <td>2020-12-23</td>\n",
       "      <td>1.0</td>\n",
       "      <td>1.000000e+00</td>\n",
       "      <td>65310000.0</td>\n",
       "      <td>1.0</td>\n",
       "      <td>N</td>\n",
       "      <td>...</td>\n",
       "      <td>N</td>\n",
       "      <td>NaN</td>\n",
       "      <td>NaN</td>\n",
       "      <td>NaN</td>\n",
       "      <td>N</td>\n",
       "      <td>S</td>\n",
       "      <td>NOC</td>\n",
       "      <td>NaN</td>\n",
       "      <td>NaN</td>\n",
       "      <td>NaN</td>\n",
       "    </tr>\n",
       "  </tbody>\n",
       "</table>\n",
       "<p>1380685 rows × 26 columns</p>\n",
       "</div>"
      ],
      "text/plain": [
       "           lotId    tedCanId  correctionsNb  cancelled   awardDate  \\\n",
       "0              0     2010142              0          0  2009-09-24   \n",
       "1              1     2010142              0          0  2009-09-24   \n",
       "2              2     2010142              0          0  2009-09-24   \n",
       "3              3     2010143              0          0  2009-09-28   \n",
       "4              4     2010144              0          0  2009-11-06   \n",
       "...          ...         ...            ...        ...         ...   \n",
       "1380960  1380960  2020643360              0          0  2020-12-28   \n",
       "1380961  1380961  2020643361              0          0  2020-12-10   \n",
       "1380962  1380962  2020643362              0          0  2020-12-17   \n",
       "1380963  1380963  2020643363              0          0  2020-12-11   \n",
       "1380964  1380964  2020643364              0          0  2020-12-23   \n",
       "\n",
       "         awardEstimatedPrice    awardPrice         cpv  numberTenders  \\\n",
       "0                        NaN  8.916747e+05  45233226.0            NaN   \n",
       "1                        NaN  1.169251e+05  45233226.0            NaN   \n",
       "2                        NaN  7.381412e+04  45233226.0            NaN   \n",
       "3                        NaN  3.840584e+05  45232150.0           11.0   \n",
       "4                        NaN  7.790000e+06  45211000.0            6.0   \n",
       "...                      ...           ...         ...            ...   \n",
       "1380960                  NaN  5.000000e+05  92200000.0            2.0   \n",
       "1380961                  NaN  2.000000e+07  65111000.0            2.0   \n",
       "1380962                  NaN  4.984029e+06  85312110.0            3.0   \n",
       "1380963          497000000.0  4.970000e+08  65300000.0            1.0   \n",
       "1380964                  1.0  1.000000e+00  65310000.0            1.0   \n",
       "\n",
       "        onBehalf  ... contractorSme numberTendersSme subContracted  gpa  \\\n",
       "0            NaN  ...           NaN              NaN           NaN    Y   \n",
       "1            NaN  ...           NaN              NaN           NaN    Y   \n",
       "2            NaN  ...           NaN              NaN           NaN    Y   \n",
       "3            NaN  ...           NaN              NaN           NaN    N   \n",
       "4            NaN  ...           NaN              NaN             N    N   \n",
       "...          ...  ...           ...              ...           ...  ...   \n",
       "1380960        N  ...             Y              NaN           NaN  NaN   \n",
       "1380961        N  ...             N              NaN           NaN  NaN   \n",
       "1380962        N  ...             N              NaN           NaN  NaN   \n",
       "1380963        N  ...         N---N              NaN           NaN  NaN   \n",
       "1380964        N  ...             N              NaN           NaN  NaN   \n",
       "\n",
       "        multipleCae  typeOfContract topType  renewal contractDuration  \\\n",
       "0               NaN               W     OPE      NaN              NaN   \n",
       "1               NaN               W     OPE      NaN              NaN   \n",
       "2               NaN               W     OPE      NaN              NaN   \n",
       "3               NaN               W     OPE      NaN              NaN   \n",
       "4               NaN               W     RES      NaN            24.01   \n",
       "...             ...             ...     ...      ...              ...   \n",
       "1380960           N               S     NIC      NaN            96.00   \n",
       "1380961           N               S     NIC      NaN              NaN   \n",
       "1380962           N               S     NIC      NaN            60.00   \n",
       "1380963           N               S     NOC      NaN              NaN   \n",
       "1380964           N               S     NOC      NaN              NaN   \n",
       "\n",
       "        publicityDuration  \n",
       "0                     NaN  \n",
       "1                     NaN  \n",
       "2                     NaN  \n",
       "3                     NaN  \n",
       "4                    36.0  \n",
       "...                   ...  \n",
       "1380960              35.0  \n",
       "1380961              62.0  \n",
       "1380962              35.0  \n",
       "1380963               NaN  \n",
       "1380964               NaN  \n",
       "\n",
       "[1380685 rows x 26 columns]"
      ]
     },
     "execution_count": 82,
     "metadata": {},
     "output_type": "execute_result"
    }
   ],
   "source": [
    "notCancelledLot"
   ]
  },
  {
   "cell_type": "code",
   "execution_count": 83,
   "metadata": {},
   "outputs": [],
   "source": [
    "notCancelledLotAwarded = notCancelledLot[notCancelledLot['awardDate'].notna()]"
   ]
  },
  {
   "cell_type": "code",
   "execution_count": 84,
   "metadata": {},
   "outputs": [
    {
     "data": {
      "text/html": [
       "<div>\n",
       "<style scoped>\n",
       "    .dataframe tbody tr th:only-of-type {\n",
       "        vertical-align: middle;\n",
       "    }\n",
       "\n",
       "    .dataframe tbody tr th {\n",
       "        vertical-align: top;\n",
       "    }\n",
       "\n",
       "    .dataframe thead th {\n",
       "        text-align: right;\n",
       "    }\n",
       "</style>\n",
       "<table border=\"1\" class=\"dataframe\">\n",
       "  <thead>\n",
       "    <tr style=\"text-align: right;\">\n",
       "      <th></th>\n",
       "      <th>lotId</th>\n",
       "      <th>tedCanId</th>\n",
       "      <th>correctionsNb</th>\n",
       "      <th>cancelled</th>\n",
       "      <th>awardDate</th>\n",
       "      <th>awardEstimatedPrice</th>\n",
       "      <th>awardPrice</th>\n",
       "      <th>cpv</th>\n",
       "      <th>numberTenders</th>\n",
       "      <th>onBehalf</th>\n",
       "      <th>...</th>\n",
       "      <th>contractorSme</th>\n",
       "      <th>numberTendersSme</th>\n",
       "      <th>subContracted</th>\n",
       "      <th>gpa</th>\n",
       "      <th>multipleCae</th>\n",
       "      <th>typeOfContract</th>\n",
       "      <th>topType</th>\n",
       "      <th>renewal</th>\n",
       "      <th>contractDuration</th>\n",
       "      <th>publicityDuration</th>\n",
       "    </tr>\n",
       "  </thead>\n",
       "  <tbody>\n",
       "    <tr>\n",
       "      <th>0</th>\n",
       "      <td>0</td>\n",
       "      <td>2010142</td>\n",
       "      <td>0</td>\n",
       "      <td>0</td>\n",
       "      <td>2009-09-24</td>\n",
       "      <td>NaN</td>\n",
       "      <td>8.916747e+05</td>\n",
       "      <td>45233226.0</td>\n",
       "      <td>NaN</td>\n",
       "      <td>NaN</td>\n",
       "      <td>...</td>\n",
       "      <td>NaN</td>\n",
       "      <td>NaN</td>\n",
       "      <td>NaN</td>\n",
       "      <td>Y</td>\n",
       "      <td>NaN</td>\n",
       "      <td>W</td>\n",
       "      <td>OPE</td>\n",
       "      <td>NaN</td>\n",
       "      <td>NaN</td>\n",
       "      <td>NaN</td>\n",
       "    </tr>\n",
       "    <tr>\n",
       "      <th>1</th>\n",
       "      <td>1</td>\n",
       "      <td>2010142</td>\n",
       "      <td>0</td>\n",
       "      <td>0</td>\n",
       "      <td>2009-09-24</td>\n",
       "      <td>NaN</td>\n",
       "      <td>1.169251e+05</td>\n",
       "      <td>45233226.0</td>\n",
       "      <td>NaN</td>\n",
       "      <td>NaN</td>\n",
       "      <td>...</td>\n",
       "      <td>NaN</td>\n",
       "      <td>NaN</td>\n",
       "      <td>NaN</td>\n",
       "      <td>Y</td>\n",
       "      <td>NaN</td>\n",
       "      <td>W</td>\n",
       "      <td>OPE</td>\n",
       "      <td>NaN</td>\n",
       "      <td>NaN</td>\n",
       "      <td>NaN</td>\n",
       "    </tr>\n",
       "    <tr>\n",
       "      <th>2</th>\n",
       "      <td>2</td>\n",
       "      <td>2010142</td>\n",
       "      <td>0</td>\n",
       "      <td>0</td>\n",
       "      <td>2009-09-24</td>\n",
       "      <td>NaN</td>\n",
       "      <td>7.381412e+04</td>\n",
       "      <td>45233226.0</td>\n",
       "      <td>NaN</td>\n",
       "      <td>NaN</td>\n",
       "      <td>...</td>\n",
       "      <td>NaN</td>\n",
       "      <td>NaN</td>\n",
       "      <td>NaN</td>\n",
       "      <td>Y</td>\n",
       "      <td>NaN</td>\n",
       "      <td>W</td>\n",
       "      <td>OPE</td>\n",
       "      <td>NaN</td>\n",
       "      <td>NaN</td>\n",
       "      <td>NaN</td>\n",
       "    </tr>\n",
       "    <tr>\n",
       "      <th>3</th>\n",
       "      <td>3</td>\n",
       "      <td>2010143</td>\n",
       "      <td>0</td>\n",
       "      <td>0</td>\n",
       "      <td>2009-09-28</td>\n",
       "      <td>NaN</td>\n",
       "      <td>3.840584e+05</td>\n",
       "      <td>45232150.0</td>\n",
       "      <td>11.0</td>\n",
       "      <td>NaN</td>\n",
       "      <td>...</td>\n",
       "      <td>NaN</td>\n",
       "      <td>NaN</td>\n",
       "      <td>NaN</td>\n",
       "      <td>N</td>\n",
       "      <td>NaN</td>\n",
       "      <td>W</td>\n",
       "      <td>OPE</td>\n",
       "      <td>NaN</td>\n",
       "      <td>NaN</td>\n",
       "      <td>NaN</td>\n",
       "    </tr>\n",
       "    <tr>\n",
       "      <th>4</th>\n",
       "      <td>4</td>\n",
       "      <td>2010144</td>\n",
       "      <td>0</td>\n",
       "      <td>0</td>\n",
       "      <td>2009-11-06</td>\n",
       "      <td>NaN</td>\n",
       "      <td>7.790000e+06</td>\n",
       "      <td>45211000.0</td>\n",
       "      <td>6.0</td>\n",
       "      <td>NaN</td>\n",
       "      <td>...</td>\n",
       "      <td>NaN</td>\n",
       "      <td>NaN</td>\n",
       "      <td>N</td>\n",
       "      <td>N</td>\n",
       "      <td>NaN</td>\n",
       "      <td>W</td>\n",
       "      <td>RES</td>\n",
       "      <td>NaN</td>\n",
       "      <td>24.01</td>\n",
       "      <td>36.0</td>\n",
       "    </tr>\n",
       "    <tr>\n",
       "      <th>...</th>\n",
       "      <td>...</td>\n",
       "      <td>...</td>\n",
       "      <td>...</td>\n",
       "      <td>...</td>\n",
       "      <td>...</td>\n",
       "      <td>...</td>\n",
       "      <td>...</td>\n",
       "      <td>...</td>\n",
       "      <td>...</td>\n",
       "      <td>...</td>\n",
       "      <td>...</td>\n",
       "      <td>...</td>\n",
       "      <td>...</td>\n",
       "      <td>...</td>\n",
       "      <td>...</td>\n",
       "      <td>...</td>\n",
       "      <td>...</td>\n",
       "      <td>...</td>\n",
       "      <td>...</td>\n",
       "      <td>...</td>\n",
       "      <td>...</td>\n",
       "    </tr>\n",
       "    <tr>\n",
       "      <th>1380960</th>\n",
       "      <td>1380960</td>\n",
       "      <td>2020643360</td>\n",
       "      <td>0</td>\n",
       "      <td>0</td>\n",
       "      <td>2020-12-28</td>\n",
       "      <td>NaN</td>\n",
       "      <td>5.000000e+05</td>\n",
       "      <td>92200000.0</td>\n",
       "      <td>2.0</td>\n",
       "      <td>N</td>\n",
       "      <td>...</td>\n",
       "      <td>Y</td>\n",
       "      <td>NaN</td>\n",
       "      <td>NaN</td>\n",
       "      <td>NaN</td>\n",
       "      <td>N</td>\n",
       "      <td>S</td>\n",
       "      <td>NIC</td>\n",
       "      <td>NaN</td>\n",
       "      <td>96.00</td>\n",
       "      <td>35.0</td>\n",
       "    </tr>\n",
       "    <tr>\n",
       "      <th>1380961</th>\n",
       "      <td>1380961</td>\n",
       "      <td>2020643361</td>\n",
       "      <td>0</td>\n",
       "      <td>0</td>\n",
       "      <td>2020-12-10</td>\n",
       "      <td>NaN</td>\n",
       "      <td>2.000000e+07</td>\n",
       "      <td>65111000.0</td>\n",
       "      <td>2.0</td>\n",
       "      <td>N</td>\n",
       "      <td>...</td>\n",
       "      <td>N</td>\n",
       "      <td>NaN</td>\n",
       "      <td>NaN</td>\n",
       "      <td>NaN</td>\n",
       "      <td>N</td>\n",
       "      <td>S</td>\n",
       "      <td>NIC</td>\n",
       "      <td>NaN</td>\n",
       "      <td>NaN</td>\n",
       "      <td>62.0</td>\n",
       "    </tr>\n",
       "    <tr>\n",
       "      <th>1380962</th>\n",
       "      <td>1380962</td>\n",
       "      <td>2020643362</td>\n",
       "      <td>0</td>\n",
       "      <td>0</td>\n",
       "      <td>2020-12-17</td>\n",
       "      <td>NaN</td>\n",
       "      <td>4.984029e+06</td>\n",
       "      <td>85312110.0</td>\n",
       "      <td>3.0</td>\n",
       "      <td>N</td>\n",
       "      <td>...</td>\n",
       "      <td>N</td>\n",
       "      <td>NaN</td>\n",
       "      <td>NaN</td>\n",
       "      <td>NaN</td>\n",
       "      <td>N</td>\n",
       "      <td>S</td>\n",
       "      <td>NIC</td>\n",
       "      <td>NaN</td>\n",
       "      <td>60.00</td>\n",
       "      <td>35.0</td>\n",
       "    </tr>\n",
       "    <tr>\n",
       "      <th>1380963</th>\n",
       "      <td>1380963</td>\n",
       "      <td>2020643363</td>\n",
       "      <td>0</td>\n",
       "      <td>0</td>\n",
       "      <td>2020-12-11</td>\n",
       "      <td>497000000.0</td>\n",
       "      <td>4.970000e+08</td>\n",
       "      <td>65300000.0</td>\n",
       "      <td>1.0</td>\n",
       "      <td>N</td>\n",
       "      <td>...</td>\n",
       "      <td>N---N</td>\n",
       "      <td>NaN</td>\n",
       "      <td>NaN</td>\n",
       "      <td>NaN</td>\n",
       "      <td>N</td>\n",
       "      <td>S</td>\n",
       "      <td>NOC</td>\n",
       "      <td>NaN</td>\n",
       "      <td>NaN</td>\n",
       "      <td>NaN</td>\n",
       "    </tr>\n",
       "    <tr>\n",
       "      <th>1380964</th>\n",
       "      <td>1380964</td>\n",
       "      <td>2020643364</td>\n",
       "      <td>0</td>\n",
       "      <td>0</td>\n",
       "      <td>2020-12-23</td>\n",
       "      <td>1.0</td>\n",
       "      <td>1.000000e+00</td>\n",
       "      <td>65310000.0</td>\n",
       "      <td>1.0</td>\n",
       "      <td>N</td>\n",
       "      <td>...</td>\n",
       "      <td>N</td>\n",
       "      <td>NaN</td>\n",
       "      <td>NaN</td>\n",
       "      <td>NaN</td>\n",
       "      <td>N</td>\n",
       "      <td>S</td>\n",
       "      <td>NOC</td>\n",
       "      <td>NaN</td>\n",
       "      <td>NaN</td>\n",
       "      <td>NaN</td>\n",
       "    </tr>\n",
       "  </tbody>\n",
       "</table>\n",
       "<p>1194078 rows × 26 columns</p>\n",
       "</div>"
      ],
      "text/plain": [
       "           lotId    tedCanId  correctionsNb  cancelled   awardDate  \\\n",
       "0              0     2010142              0          0  2009-09-24   \n",
       "1              1     2010142              0          0  2009-09-24   \n",
       "2              2     2010142              0          0  2009-09-24   \n",
       "3              3     2010143              0          0  2009-09-28   \n",
       "4              4     2010144              0          0  2009-11-06   \n",
       "...          ...         ...            ...        ...         ...   \n",
       "1380960  1380960  2020643360              0          0  2020-12-28   \n",
       "1380961  1380961  2020643361              0          0  2020-12-10   \n",
       "1380962  1380962  2020643362              0          0  2020-12-17   \n",
       "1380963  1380963  2020643363              0          0  2020-12-11   \n",
       "1380964  1380964  2020643364              0          0  2020-12-23   \n",
       "\n",
       "         awardEstimatedPrice    awardPrice         cpv  numberTenders  \\\n",
       "0                        NaN  8.916747e+05  45233226.0            NaN   \n",
       "1                        NaN  1.169251e+05  45233226.0            NaN   \n",
       "2                        NaN  7.381412e+04  45233226.0            NaN   \n",
       "3                        NaN  3.840584e+05  45232150.0           11.0   \n",
       "4                        NaN  7.790000e+06  45211000.0            6.0   \n",
       "...                      ...           ...         ...            ...   \n",
       "1380960                  NaN  5.000000e+05  92200000.0            2.0   \n",
       "1380961                  NaN  2.000000e+07  65111000.0            2.0   \n",
       "1380962                  NaN  4.984029e+06  85312110.0            3.0   \n",
       "1380963          497000000.0  4.970000e+08  65300000.0            1.0   \n",
       "1380964                  1.0  1.000000e+00  65310000.0            1.0   \n",
       "\n",
       "        onBehalf  ... contractorSme numberTendersSme subContracted  gpa  \\\n",
       "0            NaN  ...           NaN              NaN           NaN    Y   \n",
       "1            NaN  ...           NaN              NaN           NaN    Y   \n",
       "2            NaN  ...           NaN              NaN           NaN    Y   \n",
       "3            NaN  ...           NaN              NaN           NaN    N   \n",
       "4            NaN  ...           NaN              NaN             N    N   \n",
       "...          ...  ...           ...              ...           ...  ...   \n",
       "1380960        N  ...             Y              NaN           NaN  NaN   \n",
       "1380961        N  ...             N              NaN           NaN  NaN   \n",
       "1380962        N  ...             N              NaN           NaN  NaN   \n",
       "1380963        N  ...         N---N              NaN           NaN  NaN   \n",
       "1380964        N  ...             N              NaN           NaN  NaN   \n",
       "\n",
       "        multipleCae  typeOfContract topType  renewal contractDuration  \\\n",
       "0               NaN               W     OPE      NaN              NaN   \n",
       "1               NaN               W     OPE      NaN              NaN   \n",
       "2               NaN               W     OPE      NaN              NaN   \n",
       "3               NaN               W     OPE      NaN              NaN   \n",
       "4               NaN               W     RES      NaN            24.01   \n",
       "...             ...             ...     ...      ...              ...   \n",
       "1380960           N               S     NIC      NaN            96.00   \n",
       "1380961           N               S     NIC      NaN              NaN   \n",
       "1380962           N               S     NIC      NaN            60.00   \n",
       "1380963           N               S     NOC      NaN              NaN   \n",
       "1380964           N               S     NOC      NaN              NaN   \n",
       "\n",
       "        publicityDuration  \n",
       "0                     NaN  \n",
       "1                     NaN  \n",
       "2                     NaN  \n",
       "3                     NaN  \n",
       "4                    36.0  \n",
       "...                   ...  \n",
       "1380960              35.0  \n",
       "1380961              62.0  \n",
       "1380962              35.0  \n",
       "1380963               NaN  \n",
       "1380964               NaN  \n",
       "\n",
       "[1194078 rows x 26 columns]"
      ]
     },
     "execution_count": 84,
     "metadata": {},
     "output_type": "execute_result"
    }
   ],
   "source": [
    "notCancelledLotAwarded"
   ]
  },
  {
   "cell_type": "code",
   "execution_count": 85,
   "metadata": {},
   "outputs": [
    {
     "data": {
      "text/plain": [
       "86.48446242263805"
      ]
     },
     "execution_count": 85,
     "metadata": {},
     "output_type": "execute_result"
    }
   ],
   "source": [
    "(len(notCancelledLotAwarded) / len(notCancelledLot))*100"
   ]
  },
  {
   "cell_type": "code",
   "execution_count": 86,
   "metadata": {},
   "outputs": [],
   "source": [
    "notCancelledLotNotAwarded = notCancelledLot[notCancelledLot['awardDate'].isna()]"
   ]
  },
  {
   "cell_type": "code",
   "execution_count": 87,
   "metadata": {},
   "outputs": [
    {
     "data": {
      "text/html": [
       "<div>\n",
       "<style scoped>\n",
       "    .dataframe tbody tr th:only-of-type {\n",
       "        vertical-align: middle;\n",
       "    }\n",
       "\n",
       "    .dataframe tbody tr th {\n",
       "        vertical-align: top;\n",
       "    }\n",
       "\n",
       "    .dataframe thead th {\n",
       "        text-align: right;\n",
       "    }\n",
       "</style>\n",
       "<table border=\"1\" class=\"dataframe\">\n",
       "  <thead>\n",
       "    <tr style=\"text-align: right;\">\n",
       "      <th></th>\n",
       "      <th>lotId</th>\n",
       "      <th>tedCanId</th>\n",
       "      <th>correctionsNb</th>\n",
       "      <th>cancelled</th>\n",
       "      <th>awardDate</th>\n",
       "      <th>awardEstimatedPrice</th>\n",
       "      <th>awardPrice</th>\n",
       "      <th>cpv</th>\n",
       "      <th>numberTenders</th>\n",
       "      <th>onBehalf</th>\n",
       "      <th>...</th>\n",
       "      <th>contractorSme</th>\n",
       "      <th>numberTendersSme</th>\n",
       "      <th>subContracted</th>\n",
       "      <th>gpa</th>\n",
       "      <th>multipleCae</th>\n",
       "      <th>typeOfContract</th>\n",
       "      <th>topType</th>\n",
       "      <th>renewal</th>\n",
       "      <th>contractDuration</th>\n",
       "      <th>publicityDuration</th>\n",
       "    </tr>\n",
       "  </thead>\n",
       "  <tbody>\n",
       "    <tr>\n",
       "      <th>22</th>\n",
       "      <td>22</td>\n",
       "      <td>2010169</td>\n",
       "      <td>0</td>\n",
       "      <td>0</td>\n",
       "      <td>NaN</td>\n",
       "      <td>NaN</td>\n",
       "      <td>NaN</td>\n",
       "      <td>34330000.0</td>\n",
       "      <td>NaN</td>\n",
       "      <td>N</td>\n",
       "      <td>...</td>\n",
       "      <td>NaN</td>\n",
       "      <td>NaN</td>\n",
       "      <td>NaN</td>\n",
       "      <td>Y</td>\n",
       "      <td>NaN</td>\n",
       "      <td>U</td>\n",
       "      <td>OPE</td>\n",
       "      <td>NaN</td>\n",
       "      <td>NaN</td>\n",
       "      <td>NaN</td>\n",
       "    </tr>\n",
       "    <tr>\n",
       "      <th>23</th>\n",
       "      <td>23</td>\n",
       "      <td>2010169</td>\n",
       "      <td>0</td>\n",
       "      <td>0</td>\n",
       "      <td>NaN</td>\n",
       "      <td>NaN</td>\n",
       "      <td>NaN</td>\n",
       "      <td>34330000.0</td>\n",
       "      <td>NaN</td>\n",
       "      <td>N</td>\n",
       "      <td>...</td>\n",
       "      <td>NaN</td>\n",
       "      <td>NaN</td>\n",
       "      <td>NaN</td>\n",
       "      <td>Y</td>\n",
       "      <td>NaN</td>\n",
       "      <td>U</td>\n",
       "      <td>OPE</td>\n",
       "      <td>NaN</td>\n",
       "      <td>NaN</td>\n",
       "      <td>NaN</td>\n",
       "    </tr>\n",
       "    <tr>\n",
       "      <th>29</th>\n",
       "      <td>29</td>\n",
       "      <td>2010176</td>\n",
       "      <td>0</td>\n",
       "      <td>0</td>\n",
       "      <td>NaN</td>\n",
       "      <td>NaN</td>\n",
       "      <td>20307.86</td>\n",
       "      <td>39830000.0</td>\n",
       "      <td>NaN</td>\n",
       "      <td>NaN</td>\n",
       "      <td>...</td>\n",
       "      <td>NaN</td>\n",
       "      <td>NaN</td>\n",
       "      <td>NaN</td>\n",
       "      <td>NaN</td>\n",
       "      <td>NaN</td>\n",
       "      <td>U</td>\n",
       "      <td>OPE</td>\n",
       "      <td>NaN</td>\n",
       "      <td>NaN</td>\n",
       "      <td>NaN</td>\n",
       "    </tr>\n",
       "    <tr>\n",
       "      <th>30</th>\n",
       "      <td>30</td>\n",
       "      <td>2010176</td>\n",
       "      <td>0</td>\n",
       "      <td>0</td>\n",
       "      <td>NaN</td>\n",
       "      <td>NaN</td>\n",
       "      <td>162770.73</td>\n",
       "      <td>39830000.0</td>\n",
       "      <td>NaN</td>\n",
       "      <td>NaN</td>\n",
       "      <td>...</td>\n",
       "      <td>NaN</td>\n",
       "      <td>NaN</td>\n",
       "      <td>NaN</td>\n",
       "      <td>NaN</td>\n",
       "      <td>NaN</td>\n",
       "      <td>U</td>\n",
       "      <td>OPE</td>\n",
       "      <td>NaN</td>\n",
       "      <td>NaN</td>\n",
       "      <td>NaN</td>\n",
       "    </tr>\n",
       "    <tr>\n",
       "      <th>31</th>\n",
       "      <td>31</td>\n",
       "      <td>2010176</td>\n",
       "      <td>0</td>\n",
       "      <td>0</td>\n",
       "      <td>NaN</td>\n",
       "      <td>NaN</td>\n",
       "      <td>2993.25</td>\n",
       "      <td>39830000.0</td>\n",
       "      <td>NaN</td>\n",
       "      <td>NaN</td>\n",
       "      <td>...</td>\n",
       "      <td>NaN</td>\n",
       "      <td>NaN</td>\n",
       "      <td>NaN</td>\n",
       "      <td>NaN</td>\n",
       "      <td>NaN</td>\n",
       "      <td>U</td>\n",
       "      <td>OPE</td>\n",
       "      <td>NaN</td>\n",
       "      <td>NaN</td>\n",
       "      <td>NaN</td>\n",
       "    </tr>\n",
       "    <tr>\n",
       "      <th>...</th>\n",
       "      <td>...</td>\n",
       "      <td>...</td>\n",
       "      <td>...</td>\n",
       "      <td>...</td>\n",
       "      <td>...</td>\n",
       "      <td>...</td>\n",
       "      <td>...</td>\n",
       "      <td>...</td>\n",
       "      <td>...</td>\n",
       "      <td>...</td>\n",
       "      <td>...</td>\n",
       "      <td>...</td>\n",
       "      <td>...</td>\n",
       "      <td>...</td>\n",
       "      <td>...</td>\n",
       "      <td>...</td>\n",
       "      <td>...</td>\n",
       "      <td>...</td>\n",
       "      <td>...</td>\n",
       "      <td>...</td>\n",
       "      <td>...</td>\n",
       "    </tr>\n",
       "    <tr>\n",
       "      <th>1380835</th>\n",
       "      <td>1380835</td>\n",
       "      <td>2020642910</td>\n",
       "      <td>0</td>\n",
       "      <td>0</td>\n",
       "      <td>NaN</td>\n",
       "      <td>NaN</td>\n",
       "      <td>0.00</td>\n",
       "      <td>55521200.0</td>\n",
       "      <td>NaN</td>\n",
       "      <td>N</td>\n",
       "      <td>...</td>\n",
       "      <td>NaN</td>\n",
       "      <td>NaN</td>\n",
       "      <td>NaN</td>\n",
       "      <td>NaN</td>\n",
       "      <td>N</td>\n",
       "      <td>S</td>\n",
       "      <td>OPE</td>\n",
       "      <td>NaN</td>\n",
       "      <td>48.0</td>\n",
       "      <td>31.0</td>\n",
       "    </tr>\n",
       "    <tr>\n",
       "      <th>1380837</th>\n",
       "      <td>1380837</td>\n",
       "      <td>2020642910</td>\n",
       "      <td>0</td>\n",
       "      <td>0</td>\n",
       "      <td>NaN</td>\n",
       "      <td>NaN</td>\n",
       "      <td>0.00</td>\n",
       "      <td>55521200.0</td>\n",
       "      <td>NaN</td>\n",
       "      <td>N</td>\n",
       "      <td>...</td>\n",
       "      <td>NaN</td>\n",
       "      <td>NaN</td>\n",
       "      <td>NaN</td>\n",
       "      <td>NaN</td>\n",
       "      <td>N</td>\n",
       "      <td>S</td>\n",
       "      <td>OPE</td>\n",
       "      <td>NaN</td>\n",
       "      <td>48.0</td>\n",
       "      <td>31.0</td>\n",
       "    </tr>\n",
       "    <tr>\n",
       "      <th>1380838</th>\n",
       "      <td>1380838</td>\n",
       "      <td>2020642910</td>\n",
       "      <td>0</td>\n",
       "      <td>0</td>\n",
       "      <td>NaN</td>\n",
       "      <td>NaN</td>\n",
       "      <td>0.00</td>\n",
       "      <td>55521200.0</td>\n",
       "      <td>NaN</td>\n",
       "      <td>N</td>\n",
       "      <td>...</td>\n",
       "      <td>NaN</td>\n",
       "      <td>NaN</td>\n",
       "      <td>NaN</td>\n",
       "      <td>NaN</td>\n",
       "      <td>N</td>\n",
       "      <td>S</td>\n",
       "      <td>OPE</td>\n",
       "      <td>NaN</td>\n",
       "      <td>48.0</td>\n",
       "      <td>31.0</td>\n",
       "    </tr>\n",
       "    <tr>\n",
       "      <th>1380840</th>\n",
       "      <td>1380840</td>\n",
       "      <td>2020642910</td>\n",
       "      <td>0</td>\n",
       "      <td>0</td>\n",
       "      <td>NaN</td>\n",
       "      <td>NaN</td>\n",
       "      <td>0.00</td>\n",
       "      <td>55521200.0</td>\n",
       "      <td>NaN</td>\n",
       "      <td>N</td>\n",
       "      <td>...</td>\n",
       "      <td>NaN</td>\n",
       "      <td>NaN</td>\n",
       "      <td>NaN</td>\n",
       "      <td>NaN</td>\n",
       "      <td>N</td>\n",
       "      <td>S</td>\n",
       "      <td>OPE</td>\n",
       "      <td>NaN</td>\n",
       "      <td>48.0</td>\n",
       "      <td>31.0</td>\n",
       "    </tr>\n",
       "    <tr>\n",
       "      <th>1380846</th>\n",
       "      <td>1380846</td>\n",
       "      <td>2020642936</td>\n",
       "      <td>0</td>\n",
       "      <td>0</td>\n",
       "      <td>NaN</td>\n",
       "      <td>NaN</td>\n",
       "      <td>0.00</td>\n",
       "      <td>85147000.0</td>\n",
       "      <td>NaN</td>\n",
       "      <td>N</td>\n",
       "      <td>...</td>\n",
       "      <td>NaN</td>\n",
       "      <td>NaN</td>\n",
       "      <td>NaN</td>\n",
       "      <td>NaN</td>\n",
       "      <td>N</td>\n",
       "      <td>S</td>\n",
       "      <td>OPE</td>\n",
       "      <td>NaN</td>\n",
       "      <td>NaN</td>\n",
       "      <td>30.0</td>\n",
       "    </tr>\n",
       "  </tbody>\n",
       "</table>\n",
       "<p>186607 rows × 26 columns</p>\n",
       "</div>"
      ],
      "text/plain": [
       "           lotId    tedCanId  correctionsNb  cancelled awardDate  \\\n",
       "22            22     2010169              0          0       NaN   \n",
       "23            23     2010169              0          0       NaN   \n",
       "29            29     2010176              0          0       NaN   \n",
       "30            30     2010176              0          0       NaN   \n",
       "31            31     2010176              0          0       NaN   \n",
       "...          ...         ...            ...        ...       ...   \n",
       "1380835  1380835  2020642910              0          0       NaN   \n",
       "1380837  1380837  2020642910              0          0       NaN   \n",
       "1380838  1380838  2020642910              0          0       NaN   \n",
       "1380840  1380840  2020642910              0          0       NaN   \n",
       "1380846  1380846  2020642936              0          0       NaN   \n",
       "\n",
       "         awardEstimatedPrice  awardPrice         cpv  numberTenders onBehalf  \\\n",
       "22                       NaN         NaN  34330000.0            NaN        N   \n",
       "23                       NaN         NaN  34330000.0            NaN        N   \n",
       "29                       NaN    20307.86  39830000.0            NaN      NaN   \n",
       "30                       NaN   162770.73  39830000.0            NaN      NaN   \n",
       "31                       NaN     2993.25  39830000.0            NaN      NaN   \n",
       "...                      ...         ...         ...            ...      ...   \n",
       "1380835                  NaN        0.00  55521200.0            NaN        N   \n",
       "1380837                  NaN        0.00  55521200.0            NaN        N   \n",
       "1380838                  NaN        0.00  55521200.0            NaN        N   \n",
       "1380840                  NaN        0.00  55521200.0            NaN        N   \n",
       "1380846                  NaN        0.00  85147000.0            NaN        N   \n",
       "\n",
       "         ... contractorSme numberTendersSme subContracted  gpa multipleCae  \\\n",
       "22       ...           NaN              NaN           NaN    Y         NaN   \n",
       "23       ...           NaN              NaN           NaN    Y         NaN   \n",
       "29       ...           NaN              NaN           NaN  NaN         NaN   \n",
       "30       ...           NaN              NaN           NaN  NaN         NaN   \n",
       "31       ...           NaN              NaN           NaN  NaN         NaN   \n",
       "...      ...           ...              ...           ...  ...         ...   \n",
       "1380835  ...           NaN              NaN           NaN  NaN           N   \n",
       "1380837  ...           NaN              NaN           NaN  NaN           N   \n",
       "1380838  ...           NaN              NaN           NaN  NaN           N   \n",
       "1380840  ...           NaN              NaN           NaN  NaN           N   \n",
       "1380846  ...           NaN              NaN           NaN  NaN           N   \n",
       "\n",
       "         typeOfContract topType  renewal contractDuration publicityDuration  \n",
       "22                    U     OPE      NaN              NaN               NaN  \n",
       "23                    U     OPE      NaN              NaN               NaN  \n",
       "29                    U     OPE      NaN              NaN               NaN  \n",
       "30                    U     OPE      NaN              NaN               NaN  \n",
       "31                    U     OPE      NaN              NaN               NaN  \n",
       "...                 ...     ...      ...              ...               ...  \n",
       "1380835               S     OPE      NaN             48.0              31.0  \n",
       "1380837               S     OPE      NaN             48.0              31.0  \n",
       "1380838               S     OPE      NaN             48.0              31.0  \n",
       "1380840               S     OPE      NaN             48.0              31.0  \n",
       "1380846               S     OPE      NaN              NaN              30.0  \n",
       "\n",
       "[186607 rows x 26 columns]"
      ]
     },
     "execution_count": 87,
     "metadata": {},
     "output_type": "execute_result"
    }
   ],
   "source": [
    "notCancelledLotNotAwarded"
   ]
  },
  {
   "cell_type": "code",
   "execution_count": 88,
   "metadata": {},
   "outputs": [
    {
     "data": {
      "text/plain": [
       "13.515537577361961"
      ]
     },
     "execution_count": 88,
     "metadata": {},
     "output_type": "execute_result"
    }
   ],
   "source": [
    "(len(notCancelledLotNotAwarded) / len(notCancelledLot))*100"
   ]
  },
  {
   "cell_type": "markdown",
   "metadata": {},
   "source": [
    "We can see that from not cancelled lots only **14%** are not awarded\n",
    "\n",
    "The reason for this could be an error or they were awarded after 2020 (we need to check other vlaues to make sure)"
   ]
  },
  {
   "cell_type": "markdown",
   "metadata": {},
   "source": [
    "## awardEstimatedPrice Column"
   ]
  },
  {
   "cell_type": "markdown",
   "metadata": {},
   "source": [
    "estimation of the value of the lot, according to the contract notice."
   ]
  },
  {
   "cell_type": "code",
   "execution_count": 89,
   "metadata": {},
   "outputs": [],
   "source": [
    "awardEstimatedPrice = lots['awardEstimatedPrice']"
   ]
  },
  {
   "cell_type": "code",
   "execution_count": null,
   "metadata": {},
   "outputs": [],
   "source": []
  },
  {
   "cell_type": "markdown",
   "metadata": {},
   "source": [
    "### Type"
   ]
  },
  {
   "cell_type": "code",
   "execution_count": 90,
   "metadata": {},
   "outputs": [
    {
     "data": {
      "text/plain": [
       "dtype('float64')"
      ]
     },
     "execution_count": 90,
     "metadata": {},
     "output_type": "execute_result"
    }
   ],
   "source": [
    "awardEstimatedPrice.dtype"
   ]
  },
  {
   "cell_type": "code",
   "execution_count": 91,
   "metadata": {},
   "outputs": [
    {
     "data": {
      "text/plain": [
       "99999999999.0"
      ]
     },
     "execution_count": 91,
     "metadata": {},
     "output_type": "execute_result"
    }
   ],
   "source": [
    "awardEstimatedPrice.max()"
   ]
  },
  {
   "cell_type": "code",
   "execution_count": 92,
   "metadata": {},
   "outputs": [
    {
     "data": {
      "text/plain": [
       "1.7976931348623157e+308"
      ]
     },
     "execution_count": 92,
     "metadata": {},
     "output_type": "execute_result"
    }
   ],
   "source": [
    "np.finfo(np.float64).max"
   ]
  },
  {
   "cell_type": "code",
   "execution_count": 93,
   "metadata": {},
   "outputs": [
    {
     "data": {
      "text/plain": [
       "3.4028235e+38"
      ]
     },
     "execution_count": 93,
     "metadata": {},
     "output_type": "execute_result"
    }
   ],
   "source": [
    "np.finfo(np.float32).max"
   ]
  },
  {
   "cell_type": "code",
   "execution_count": 94,
   "metadata": {},
   "outputs": [
    {
     "data": {
      "text/plain": [
       "0                  NaN\n",
       "1                  NaN\n",
       "2                  NaN\n",
       "3                  NaN\n",
       "4                  NaN\n",
       "              ...     \n",
       "1380960            NaN\n",
       "1380961            NaN\n",
       "1380962            NaN\n",
       "1380963    497000000.0\n",
       "1380964            1.0\n",
       "Name: awardEstimatedPrice, Length: 1380965, dtype: float64"
      ]
     },
     "execution_count": 94,
     "metadata": {},
     "output_type": "execute_result"
    }
   ],
   "source": [
    "awardEstimatedPrice"
   ]
  },
  {
   "cell_type": "markdown",
   "metadata": {},
   "source": [
    "Here we can see that we have a **numerical** value encoded as **64 bits float**\n",
    "\n",
    "The choice of a float for the price is a good choice.\n",
    "\n",
    "For the choice of 64 bits, since for our case we don't really need it because the max is less than the max of float on 32 bits"
   ]
  },
  {
   "cell_type": "markdown",
   "metadata": {},
   "source": [
    "### Missing values"
   ]
  },
  {
   "cell_type": "code",
   "execution_count": 95,
   "metadata": {},
   "outputs": [],
   "source": [
    "missingAwardEstimatedCount = awardEstimatedPrice.isna().sum()"
   ]
  },
  {
   "cell_type": "code",
   "execution_count": 96,
   "metadata": {},
   "outputs": [
    {
     "data": {
      "text/plain": [
       "1191352"
      ]
     },
     "execution_count": 96,
     "metadata": {},
     "output_type": "execute_result"
    }
   ],
   "source": [
    "missingAwardEstimatedCount"
   ]
  },
  {
   "cell_type": "code",
   "execution_count": 97,
   "metadata": {},
   "outputs": [
    {
     "data": {
      "text/plain": [
       "86.2695289163737"
      ]
     },
     "execution_count": 97,
     "metadata": {},
     "output_type": "execute_result"
    }
   ],
   "source": [
    "(missingAwardEstimatedCount / len(awardEstimatedPrice)) * 100"
   ]
  },
  {
   "cell_type": "code",
   "execution_count": 98,
   "metadata": {},
   "outputs": [],
   "source": [
    "notMissingAwardEstimatedCount = len(awardEstimatedPrice) - missingAwardEstimatedCount"
   ]
  },
  {
   "cell_type": "code",
   "execution_count": 99,
   "metadata": {},
   "outputs": [
    {
     "data": {
      "text/plain": [
       "189613"
      ]
     },
     "execution_count": 99,
     "metadata": {},
     "output_type": "execute_result"
    }
   ],
   "source": [
    "notMissingAwardEstimatedCount"
   ]
  },
  {
   "cell_type": "code",
   "execution_count": 100,
   "metadata": {},
   "outputs": [
    {
     "data": {
      "text/plain": [
       "13.730471083626306"
      ]
     },
     "execution_count": 100,
     "metadata": {},
     "output_type": "execute_result"
    }
   ],
   "source": [
    "(notMissingAwardEstimatedCount / len(awardEstimatedPrice)) * 100"
   ]
  },
  {
   "cell_type": "markdown",
   "metadata": {},
   "source": [
    "We can see that only **14%** of awardEstimatedPrice are not missing and **86%** are missing"
   ]
  },
  {
   "cell_type": "markdown",
   "metadata": {},
   "source": [
    "### Statistics"
   ]
  },
  {
   "cell_type": "code",
   "execution_count": 101,
   "metadata": {},
   "outputs": [
    {
     "data": {
      "text/plain": [
       "count    1.896130e+05\n",
       "mean     3.043616e+06\n",
       "std      3.283510e+08\n",
       "min      1.000000e-02\n",
       "25%      2.363400e+04\n",
       "50%      1.000000e+05\n",
       "75%      3.798957e+05\n",
       "max      1.000000e+11\n",
       "Name: awardEstimatedPrice, dtype: float64"
      ]
     },
     "execution_count": 101,
     "metadata": {},
     "output_type": "execute_result"
    }
   ],
   "source": [
    "awardEstimatedPrice.describe()"
   ]
  },
  {
   "cell_type": "code",
   "execution_count": 102,
   "metadata": {},
   "outputs": [
    {
     "data": {
      "text/plain": [
       "0.01"
      ]
     },
     "execution_count": 102,
     "metadata": {},
     "output_type": "execute_result"
    }
   ],
   "source": [
    "awardEstimatedPrice.min()"
   ]
  },
  {
   "cell_type": "markdown",
   "metadata": {},
   "source": [
    "We can see that the mean value of awardEstimatedPrice is **0.01**, this value is abberant because a low value for a lot can't exist"
   ]
  },
  {
   "cell_type": "code",
   "execution_count": 103,
   "metadata": {},
   "outputs": [
    {
     "data": {
      "text/plain": [
       "99999999999.0"
      ]
     },
     "execution_count": 103,
     "metadata": {},
     "output_type": "execute_result"
    }
   ],
   "source": [
    "awardEstimatedPrice.max()"
   ]
  },
  {
   "cell_type": "markdown",
   "metadata": {},
   "source": [
    "Here we can also see that the max is the repetition of **9** it must be an error"
   ]
  },
  {
   "cell_type": "markdown",
   "metadata": {},
   "source": [
    "### Aberrant value detection"
   ]
  },
  {
   "cell_type": "markdown",
   "metadata": {},
   "source": [
    "We are going to use **IQR** (InterQuartile Range) method\n",
    "\n",
    "**Q1**: first quartile\n",
    "\n",
    "**Q3** third quartile\n",
    "\n",
    "**IQR** = Q3 - Q1\n",
    "\n",
    "**Valid values** \\[ Q1 - 1.5 * IQR, Q3 + 1.5 * IQR \\]"
   ]
  },
  {
   "cell_type": "code",
   "execution_count": 104,
   "metadata": {},
   "outputs": [],
   "source": [
    "notMissingAwardEstimatedPrice = lots[lots['awardEstimatedPrice'].notna()]"
   ]
  },
  {
   "cell_type": "code",
   "execution_count": 105,
   "metadata": {},
   "outputs": [],
   "source": [
    "Q1 = notMissingAwardEstimatedPrice['awardEstimatedPrice'].quantile(0.25)\n",
    "Q3 = notMissingAwardEstimatedPrice['awardEstimatedPrice'].quantile(0.75)\n",
    "IQR = Q3 - Q1\n",
    "lower_bound = Q1 - 1.5 * IQR\n",
    "upper_bound = Q3 + 1.5 * IQR"
   ]
  },
  {
   "cell_type": "code",
   "execution_count": 106,
   "metadata": {},
   "outputs": [
    {
     "data": {
      "text/plain": [
       "914288.1499999999"
      ]
     },
     "execution_count": 106,
     "metadata": {},
     "output_type": "execute_result"
    }
   ],
   "source": [
    "upper_bound"
   ]
  },
  {
   "cell_type": "code",
   "execution_count": 107,
   "metadata": {},
   "outputs": [
    {
     "data": {
      "text/plain": [
       "-510758.49"
      ]
     },
     "execution_count": 107,
     "metadata": {},
     "output_type": "execute_result"
    }
   ],
   "source": [
    "lower_bound"
   ]
  },
  {
   "cell_type": "code",
   "execution_count": 108,
   "metadata": {},
   "outputs": [],
   "source": [
    "criteria = (notMissingAwardEstimatedPrice['awardEstimatedPrice'] < lower_bound) | (notMissingAwardEstimatedPrice['awardEstimatedPrice'] > upper_bound)\n",
    "abberantAwardEstimatedPrice = notMissingAwardEstimatedPrice[criteria]"
   ]
  },
  {
   "cell_type": "code",
   "execution_count": 109,
   "metadata": {},
   "outputs": [
    {
     "data": {
      "text/html": [
       "<div>\n",
       "<style scoped>\n",
       "    .dataframe tbody tr th:only-of-type {\n",
       "        vertical-align: middle;\n",
       "    }\n",
       "\n",
       "    .dataframe tbody tr th {\n",
       "        vertical-align: top;\n",
       "    }\n",
       "\n",
       "    .dataframe thead th {\n",
       "        text-align: right;\n",
       "    }\n",
       "</style>\n",
       "<table border=\"1\" class=\"dataframe\">\n",
       "  <thead>\n",
       "    <tr style=\"text-align: right;\">\n",
       "      <th></th>\n",
       "      <th>lotId</th>\n",
       "      <th>tedCanId</th>\n",
       "      <th>correctionsNb</th>\n",
       "      <th>cancelled</th>\n",
       "      <th>awardDate</th>\n",
       "      <th>awardEstimatedPrice</th>\n",
       "      <th>awardPrice</th>\n",
       "      <th>cpv</th>\n",
       "      <th>numberTenders</th>\n",
       "      <th>onBehalf</th>\n",
       "      <th>...</th>\n",
       "      <th>contractorSme</th>\n",
       "      <th>numberTendersSme</th>\n",
       "      <th>subContracted</th>\n",
       "      <th>gpa</th>\n",
       "      <th>multipleCae</th>\n",
       "      <th>typeOfContract</th>\n",
       "      <th>topType</th>\n",
       "      <th>renewal</th>\n",
       "      <th>contractDuration</th>\n",
       "      <th>publicityDuration</th>\n",
       "    </tr>\n",
       "  </thead>\n",
       "  <tbody>\n",
       "    <tr>\n",
       "      <th>72</th>\n",
       "      <td>72</td>\n",
       "      <td>2010220</td>\n",
       "      <td>0</td>\n",
       "      <td>0</td>\n",
       "      <td>2009-11-24</td>\n",
       "      <td>9.209614e+05</td>\n",
       "      <td>9.209614e+05</td>\n",
       "      <td>33141120.0</td>\n",
       "      <td>33.0</td>\n",
       "      <td>N</td>\n",
       "      <td>...</td>\n",
       "      <td>NaN</td>\n",
       "      <td>NaN</td>\n",
       "      <td>NaN</td>\n",
       "      <td>N</td>\n",
       "      <td>NaN</td>\n",
       "      <td>U</td>\n",
       "      <td>OPE</td>\n",
       "      <td>NaN</td>\n",
       "      <td>36.00</td>\n",
       "      <td>41.0</td>\n",
       "    </tr>\n",
       "    <tr>\n",
       "      <th>746</th>\n",
       "      <td>746</td>\n",
       "      <td>20101228</td>\n",
       "      <td>0</td>\n",
       "      <td>0</td>\n",
       "      <td>2009-12-30</td>\n",
       "      <td>1.055000e+06</td>\n",
       "      <td>1.055000e+06</td>\n",
       "      <td>50750000.0</td>\n",
       "      <td>3.0</td>\n",
       "      <td>N</td>\n",
       "      <td>...</td>\n",
       "      <td>NaN</td>\n",
       "      <td>NaN</td>\n",
       "      <td>N</td>\n",
       "      <td>Y</td>\n",
       "      <td>NaN</td>\n",
       "      <td>S</td>\n",
       "      <td>NIC</td>\n",
       "      <td>NaN</td>\n",
       "      <td>11.97</td>\n",
       "      <td>46.0</td>\n",
       "    </tr>\n",
       "    <tr>\n",
       "      <th>753</th>\n",
       "      <td>753</td>\n",
       "      <td>20101238</td>\n",
       "      <td>0</td>\n",
       "      <td>0</td>\n",
       "      <td>2009-11-27</td>\n",
       "      <td>3.500000e+06</td>\n",
       "      <td>3.500000e+06</td>\n",
       "      <td>32412000.0</td>\n",
       "      <td>2.0</td>\n",
       "      <td>N</td>\n",
       "      <td>...</td>\n",
       "      <td>NaN</td>\n",
       "      <td>NaN</td>\n",
       "      <td>Y</td>\n",
       "      <td>Y</td>\n",
       "      <td>NaN</td>\n",
       "      <td>S</td>\n",
       "      <td>OPE</td>\n",
       "      <td>NaN</td>\n",
       "      <td>NaN</td>\n",
       "      <td>NaN</td>\n",
       "    </tr>\n",
       "    <tr>\n",
       "      <th>781</th>\n",
       "      <td>781</td>\n",
       "      <td>20101265</td>\n",
       "      <td>0</td>\n",
       "      <td>0</td>\n",
       "      <td>2009-12-22</td>\n",
       "      <td>3.929766e+06</td>\n",
       "      <td>3.929766e+06</td>\n",
       "      <td>73435000.0</td>\n",
       "      <td>2.0</td>\n",
       "      <td>N</td>\n",
       "      <td>...</td>\n",
       "      <td>NaN</td>\n",
       "      <td>NaN</td>\n",
       "      <td>N</td>\n",
       "      <td>N</td>\n",
       "      <td>NaN</td>\n",
       "      <td>S</td>\n",
       "      <td>NOC</td>\n",
       "      <td>NaN</td>\n",
       "      <td>NaN</td>\n",
       "      <td>NaN</td>\n",
       "    </tr>\n",
       "    <tr>\n",
       "      <th>783</th>\n",
       "      <td>783</td>\n",
       "      <td>20101267</td>\n",
       "      <td>0</td>\n",
       "      <td>0</td>\n",
       "      <td>2009-12-16</td>\n",
       "      <td>2.800000e+06</td>\n",
       "      <td>2.851159e+06</td>\n",
       "      <td>73435000.0</td>\n",
       "      <td>5.0</td>\n",
       "      <td>N</td>\n",
       "      <td>...</td>\n",
       "      <td>NaN</td>\n",
       "      <td>NaN</td>\n",
       "      <td>N</td>\n",
       "      <td>NaN</td>\n",
       "      <td>NaN</td>\n",
       "      <td>S</td>\n",
       "      <td>NOC</td>\n",
       "      <td>NaN</td>\n",
       "      <td>NaN</td>\n",
       "      <td>NaN</td>\n",
       "    </tr>\n",
       "    <tr>\n",
       "      <th>...</th>\n",
       "      <td>...</td>\n",
       "      <td>...</td>\n",
       "      <td>...</td>\n",
       "      <td>...</td>\n",
       "      <td>...</td>\n",
       "      <td>...</td>\n",
       "      <td>...</td>\n",
       "      <td>...</td>\n",
       "      <td>...</td>\n",
       "      <td>...</td>\n",
       "      <td>...</td>\n",
       "      <td>...</td>\n",
       "      <td>...</td>\n",
       "      <td>...</td>\n",
       "      <td>...</td>\n",
       "      <td>...</td>\n",
       "      <td>...</td>\n",
       "      <td>...</td>\n",
       "      <td>...</td>\n",
       "      <td>...</td>\n",
       "      <td>...</td>\n",
       "    </tr>\n",
       "    <tr>\n",
       "      <th>1380668</th>\n",
       "      <td>1380668</td>\n",
       "      <td>2020642316</td>\n",
       "      <td>0</td>\n",
       "      <td>0</td>\n",
       "      <td>2020-11-26</td>\n",
       "      <td>1.032000e+06</td>\n",
       "      <td>1.032000e+06</td>\n",
       "      <td>90500000.0</td>\n",
       "      <td>1.0</td>\n",
       "      <td>N</td>\n",
       "      <td>...</td>\n",
       "      <td>N</td>\n",
       "      <td>NaN</td>\n",
       "      <td>N</td>\n",
       "      <td>N</td>\n",
       "      <td>N</td>\n",
       "      <td>S</td>\n",
       "      <td>OPE</td>\n",
       "      <td>Y</td>\n",
       "      <td>12.00</td>\n",
       "      <td>43.0</td>\n",
       "    </tr>\n",
       "    <tr>\n",
       "      <th>1380680</th>\n",
       "      <td>1380680</td>\n",
       "      <td>2020642335</td>\n",
       "      <td>0</td>\n",
       "      <td>0</td>\n",
       "      <td>2020-12-22</td>\n",
       "      <td>5.270000e+06</td>\n",
       "      <td>2.893864e+06</td>\n",
       "      <td>72000000.0</td>\n",
       "      <td>5.0</td>\n",
       "      <td>N</td>\n",
       "      <td>...</td>\n",
       "      <td>N</td>\n",
       "      <td>2.0</td>\n",
       "      <td>Y</td>\n",
       "      <td>Y</td>\n",
       "      <td>N</td>\n",
       "      <td>S</td>\n",
       "      <td>OPE</td>\n",
       "      <td>Y</td>\n",
       "      <td>24.00</td>\n",
       "      <td>42.0</td>\n",
       "    </tr>\n",
       "    <tr>\n",
       "      <th>1380825</th>\n",
       "      <td>1380825</td>\n",
       "      <td>2020642892</td>\n",
       "      <td>0</td>\n",
       "      <td>0</td>\n",
       "      <td>2020-12-22</td>\n",
       "      <td>2.056443e+06</td>\n",
       "      <td>2.365077e+06</td>\n",
       "      <td>55521100.0</td>\n",
       "      <td>2.0</td>\n",
       "      <td>N</td>\n",
       "      <td>...</td>\n",
       "      <td>Y</td>\n",
       "      <td>NaN</td>\n",
       "      <td>N</td>\n",
       "      <td>NaN</td>\n",
       "      <td>N</td>\n",
       "      <td>S</td>\n",
       "      <td>OPE</td>\n",
       "      <td>NaN</td>\n",
       "      <td>12.00</td>\n",
       "      <td>43.0</td>\n",
       "    </tr>\n",
       "    <tr>\n",
       "      <th>1380959</th>\n",
       "      <td>1380959</td>\n",
       "      <td>2020643347</td>\n",
       "      <td>0</td>\n",
       "      <td>0</td>\n",
       "      <td>2020-07-02</td>\n",
       "      <td>6.000000e+06</td>\n",
       "      <td>8.162090e+06</td>\n",
       "      <td>45211360.0</td>\n",
       "      <td>5.0</td>\n",
       "      <td>N</td>\n",
       "      <td>...</td>\n",
       "      <td>Y</td>\n",
       "      <td>NaN</td>\n",
       "      <td>NaN</td>\n",
       "      <td>N</td>\n",
       "      <td>N</td>\n",
       "      <td>W</td>\n",
       "      <td>NIC</td>\n",
       "      <td>NaN</td>\n",
       "      <td>96.00</td>\n",
       "      <td>60.0</td>\n",
       "    </tr>\n",
       "    <tr>\n",
       "      <th>1380963</th>\n",
       "      <td>1380963</td>\n",
       "      <td>2020643363</td>\n",
       "      <td>0</td>\n",
       "      <td>0</td>\n",
       "      <td>2020-12-11</td>\n",
       "      <td>4.970000e+08</td>\n",
       "      <td>4.970000e+08</td>\n",
       "      <td>65300000.0</td>\n",
       "      <td>1.0</td>\n",
       "      <td>N</td>\n",
       "      <td>...</td>\n",
       "      <td>N---N</td>\n",
       "      <td>NaN</td>\n",
       "      <td>NaN</td>\n",
       "      <td>NaN</td>\n",
       "      <td>N</td>\n",
       "      <td>S</td>\n",
       "      <td>NOC</td>\n",
       "      <td>NaN</td>\n",
       "      <td>NaN</td>\n",
       "      <td>NaN</td>\n",
       "    </tr>\n",
       "  </tbody>\n",
       "</table>\n",
       "<p>25395 rows × 26 columns</p>\n",
       "</div>"
      ],
      "text/plain": [
       "           lotId    tedCanId  correctionsNb  cancelled   awardDate  \\\n",
       "72            72     2010220              0          0  2009-11-24   \n",
       "746          746    20101228              0          0  2009-12-30   \n",
       "753          753    20101238              0          0  2009-11-27   \n",
       "781          781    20101265              0          0  2009-12-22   \n",
       "783          783    20101267              0          0  2009-12-16   \n",
       "...          ...         ...            ...        ...         ...   \n",
       "1380668  1380668  2020642316              0          0  2020-11-26   \n",
       "1380680  1380680  2020642335              0          0  2020-12-22   \n",
       "1380825  1380825  2020642892              0          0  2020-12-22   \n",
       "1380959  1380959  2020643347              0          0  2020-07-02   \n",
       "1380963  1380963  2020643363              0          0  2020-12-11   \n",
       "\n",
       "         awardEstimatedPrice    awardPrice         cpv  numberTenders  \\\n",
       "72              9.209614e+05  9.209614e+05  33141120.0           33.0   \n",
       "746             1.055000e+06  1.055000e+06  50750000.0            3.0   \n",
       "753             3.500000e+06  3.500000e+06  32412000.0            2.0   \n",
       "781             3.929766e+06  3.929766e+06  73435000.0            2.0   \n",
       "783             2.800000e+06  2.851159e+06  73435000.0            5.0   \n",
       "...                      ...           ...         ...            ...   \n",
       "1380668         1.032000e+06  1.032000e+06  90500000.0            1.0   \n",
       "1380680         5.270000e+06  2.893864e+06  72000000.0            5.0   \n",
       "1380825         2.056443e+06  2.365077e+06  55521100.0            2.0   \n",
       "1380959         6.000000e+06  8.162090e+06  45211360.0            5.0   \n",
       "1380963         4.970000e+08  4.970000e+08  65300000.0            1.0   \n",
       "\n",
       "        onBehalf  ... contractorSme numberTendersSme subContracted  gpa  \\\n",
       "72             N  ...           NaN              NaN           NaN    N   \n",
       "746            N  ...           NaN              NaN             N    Y   \n",
       "753            N  ...           NaN              NaN             Y    Y   \n",
       "781            N  ...           NaN              NaN             N    N   \n",
       "783            N  ...           NaN              NaN             N  NaN   \n",
       "...          ...  ...           ...              ...           ...  ...   \n",
       "1380668        N  ...             N              NaN             N    N   \n",
       "1380680        N  ...             N              2.0             Y    Y   \n",
       "1380825        N  ...             Y              NaN             N  NaN   \n",
       "1380959        N  ...             Y              NaN           NaN    N   \n",
       "1380963        N  ...         N---N              NaN           NaN  NaN   \n",
       "\n",
       "        multipleCae  typeOfContract topType  renewal contractDuration  \\\n",
       "72              NaN               U     OPE      NaN            36.00   \n",
       "746             NaN               S     NIC      NaN            11.97   \n",
       "753             NaN               S     OPE      NaN              NaN   \n",
       "781             NaN               S     NOC      NaN              NaN   \n",
       "783             NaN               S     NOC      NaN              NaN   \n",
       "...             ...             ...     ...      ...              ...   \n",
       "1380668           N               S     OPE        Y            12.00   \n",
       "1380680           N               S     OPE        Y            24.00   \n",
       "1380825           N               S     OPE      NaN            12.00   \n",
       "1380959           N               W     NIC      NaN            96.00   \n",
       "1380963           N               S     NOC      NaN              NaN   \n",
       "\n",
       "        publicityDuration  \n",
       "72                   41.0  \n",
       "746                  46.0  \n",
       "753                   NaN  \n",
       "781                   NaN  \n",
       "783                   NaN  \n",
       "...                   ...  \n",
       "1380668              43.0  \n",
       "1380680              42.0  \n",
       "1380825              43.0  \n",
       "1380959              60.0  \n",
       "1380963               NaN  \n",
       "\n",
       "[25395 rows x 26 columns]"
      ]
     },
     "execution_count": 109,
     "metadata": {},
     "output_type": "execute_result"
    }
   ],
   "source": [
    "abberantAwardEstimatedPrice"
   ]
  },
  {
   "cell_type": "code",
   "execution_count": 110,
   "metadata": {},
   "outputs": [],
   "source": [
    "correctAwardEstimatedPrice = lots[(lots['awardEstimatedPrice'] >= lower_bound) & (lots['awardEstimatedPrice'] <= upper_bound)]"
   ]
  },
  {
   "cell_type": "markdown",
   "metadata": {},
   "source": [
    "We can see this is not a good method to find abberant values for our case"
   ]
  },
  {
   "cell_type": "code",
   "execution_count": 111,
   "metadata": {},
   "outputs": [],
   "source": [
    "criteria = notMissingAwardEstimatedPrice['awardEstimatedPrice'] <= 1\n",
    "abberant1 = notMissingAwardEstimatedPrice[criteria]"
   ]
  },
  {
   "cell_type": "code",
   "execution_count": 112,
   "metadata": {},
   "outputs": [
    {
     "data": {
      "text/html": [
       "<div>\n",
       "<style scoped>\n",
       "    .dataframe tbody tr th:only-of-type {\n",
       "        vertical-align: middle;\n",
       "    }\n",
       "\n",
       "    .dataframe tbody tr th {\n",
       "        vertical-align: top;\n",
       "    }\n",
       "\n",
       "    .dataframe thead th {\n",
       "        text-align: right;\n",
       "    }\n",
       "</style>\n",
       "<table border=\"1\" class=\"dataframe\">\n",
       "  <thead>\n",
       "    <tr style=\"text-align: right;\">\n",
       "      <th></th>\n",
       "      <th>lotId</th>\n",
       "      <th>tedCanId</th>\n",
       "      <th>correctionsNb</th>\n",
       "      <th>cancelled</th>\n",
       "      <th>awardDate</th>\n",
       "      <th>awardEstimatedPrice</th>\n",
       "      <th>awardPrice</th>\n",
       "      <th>cpv</th>\n",
       "      <th>numberTenders</th>\n",
       "      <th>onBehalf</th>\n",
       "      <th>...</th>\n",
       "      <th>contractorSme</th>\n",
       "      <th>numberTendersSme</th>\n",
       "      <th>subContracted</th>\n",
       "      <th>gpa</th>\n",
       "      <th>multipleCae</th>\n",
       "      <th>typeOfContract</th>\n",
       "      <th>topType</th>\n",
       "      <th>renewal</th>\n",
       "      <th>contractDuration</th>\n",
       "      <th>publicityDuration</th>\n",
       "    </tr>\n",
       "  </thead>\n",
       "  <tbody>\n",
       "    <tr>\n",
       "      <th>30645</th>\n",
       "      <td>30645</td>\n",
       "      <td>201060772</td>\n",
       "      <td>0</td>\n",
       "      <td>0</td>\n",
       "      <td>2010-01-14</td>\n",
       "      <td>1.00</td>\n",
       "      <td>1.00</td>\n",
       "      <td>32323500.0</td>\n",
       "      <td>2.0</td>\n",
       "      <td>N</td>\n",
       "      <td>...</td>\n",
       "      <td>NaN</td>\n",
       "      <td>NaN</td>\n",
       "      <td>NaN</td>\n",
       "      <td>Y</td>\n",
       "      <td>NaN</td>\n",
       "      <td>W</td>\n",
       "      <td>OPE</td>\n",
       "      <td>NaN</td>\n",
       "      <td>12.0</td>\n",
       "      <td>50.0</td>\n",
       "    </tr>\n",
       "    <tr>\n",
       "      <th>72208</th>\n",
       "      <td>72208</td>\n",
       "      <td>2010196647</td>\n",
       "      <td>0</td>\n",
       "      <td>0</td>\n",
       "      <td>2010-06-23</td>\n",
       "      <td>1.00</td>\n",
       "      <td>1.00</td>\n",
       "      <td>31700000.0</td>\n",
       "      <td>5.0</td>\n",
       "      <td>N</td>\n",
       "      <td>...</td>\n",
       "      <td>NaN</td>\n",
       "      <td>NaN</td>\n",
       "      <td>N</td>\n",
       "      <td>N</td>\n",
       "      <td>NaN</td>\n",
       "      <td>U</td>\n",
       "      <td>NIC</td>\n",
       "      <td>NaN</td>\n",
       "      <td>180.0</td>\n",
       "      <td>26.0</td>\n",
       "    </tr>\n",
       "    <tr>\n",
       "      <th>84783</th>\n",
       "      <td>84783</td>\n",
       "      <td>2010234775</td>\n",
       "      <td>0</td>\n",
       "      <td>0</td>\n",
       "      <td>2010-06-23</td>\n",
       "      <td>1.00</td>\n",
       "      <td>1.00</td>\n",
       "      <td>31700000.0</td>\n",
       "      <td>5.0</td>\n",
       "      <td>NaN</td>\n",
       "      <td>...</td>\n",
       "      <td>NaN</td>\n",
       "      <td>NaN</td>\n",
       "      <td>N</td>\n",
       "      <td>N</td>\n",
       "      <td>NaN</td>\n",
       "      <td>S</td>\n",
       "      <td>NIC</td>\n",
       "      <td>NaN</td>\n",
       "      <td>NaN</td>\n",
       "      <td>NaN</td>\n",
       "    </tr>\n",
       "    <tr>\n",
       "      <th>129990</th>\n",
       "      <td>129990</td>\n",
       "      <td>2010385028</td>\n",
       "      <td>0</td>\n",
       "      <td>0</td>\n",
       "      <td>2010-12-07</td>\n",
       "      <td>0.60</td>\n",
       "      <td>0.60</td>\n",
       "      <td>39550000.0</td>\n",
       "      <td>11.0</td>\n",
       "      <td>N</td>\n",
       "      <td>...</td>\n",
       "      <td>NaN</td>\n",
       "      <td>NaN</td>\n",
       "      <td>NaN</td>\n",
       "      <td>Y</td>\n",
       "      <td>NaN</td>\n",
       "      <td>U</td>\n",
       "      <td>OPE</td>\n",
       "      <td>NaN</td>\n",
       "      <td>48.0</td>\n",
       "      <td>83.0</td>\n",
       "    </tr>\n",
       "    <tr>\n",
       "      <th>129991</th>\n",
       "      <td>129991</td>\n",
       "      <td>2010385028</td>\n",
       "      <td>0</td>\n",
       "      <td>0</td>\n",
       "      <td>2010-12-07</td>\n",
       "      <td>0.21</td>\n",
       "      <td>0.21</td>\n",
       "      <td>39550000.0</td>\n",
       "      <td>11.0</td>\n",
       "      <td>N</td>\n",
       "      <td>...</td>\n",
       "      <td>NaN</td>\n",
       "      <td>NaN</td>\n",
       "      <td>NaN</td>\n",
       "      <td>Y</td>\n",
       "      <td>NaN</td>\n",
       "      <td>U</td>\n",
       "      <td>OPE</td>\n",
       "      <td>NaN</td>\n",
       "      <td>48.0</td>\n",
       "      <td>83.0</td>\n",
       "    </tr>\n",
       "    <tr>\n",
       "      <th>...</th>\n",
       "      <td>...</td>\n",
       "      <td>...</td>\n",
       "      <td>...</td>\n",
       "      <td>...</td>\n",
       "      <td>...</td>\n",
       "      <td>...</td>\n",
       "      <td>...</td>\n",
       "      <td>...</td>\n",
       "      <td>...</td>\n",
       "      <td>...</td>\n",
       "      <td>...</td>\n",
       "      <td>...</td>\n",
       "      <td>...</td>\n",
       "      <td>...</td>\n",
       "      <td>...</td>\n",
       "      <td>...</td>\n",
       "      <td>...</td>\n",
       "      <td>...</td>\n",
       "      <td>...</td>\n",
       "      <td>...</td>\n",
       "      <td>...</td>\n",
       "    </tr>\n",
       "    <tr>\n",
       "      <th>1378559</th>\n",
       "      <td>1378559</td>\n",
       "      <td>2020633858</td>\n",
       "      <td>0</td>\n",
       "      <td>0</td>\n",
       "      <td>2020-12-01</td>\n",
       "      <td>1.00</td>\n",
       "      <td>1.00</td>\n",
       "      <td>65310000.0</td>\n",
       "      <td>1.0</td>\n",
       "      <td>N</td>\n",
       "      <td>...</td>\n",
       "      <td>N</td>\n",
       "      <td>NaN</td>\n",
       "      <td>NaN</td>\n",
       "      <td>NaN</td>\n",
       "      <td>N</td>\n",
       "      <td>S</td>\n",
       "      <td>NOC</td>\n",
       "      <td>NaN</td>\n",
       "      <td>NaN</td>\n",
       "      <td>NaN</td>\n",
       "    </tr>\n",
       "    <tr>\n",
       "      <th>1379724</th>\n",
       "      <td>1379724</td>\n",
       "      <td>2020638855</td>\n",
       "      <td>0</td>\n",
       "      <td>0</td>\n",
       "      <td>2020-12-11</td>\n",
       "      <td>1.00</td>\n",
       "      <td>1.00</td>\n",
       "      <td>50313000.0</td>\n",
       "      <td>1.0</td>\n",
       "      <td>N</td>\n",
       "      <td>...</td>\n",
       "      <td>Y</td>\n",
       "      <td>NaN</td>\n",
       "      <td>Y</td>\n",
       "      <td>Y</td>\n",
       "      <td>N</td>\n",
       "      <td>S</td>\n",
       "      <td>NIC</td>\n",
       "      <td>Y</td>\n",
       "      <td>12.0</td>\n",
       "      <td>31.0</td>\n",
       "    </tr>\n",
       "    <tr>\n",
       "      <th>1379773</th>\n",
       "      <td>1379773</td>\n",
       "      <td>2020638947</td>\n",
       "      <td>0</td>\n",
       "      <td>0</td>\n",
       "      <td>2020-11-27</td>\n",
       "      <td>1.00</td>\n",
       "      <td>1.00</td>\n",
       "      <td>75242110.0</td>\n",
       "      <td>4.0</td>\n",
       "      <td>N</td>\n",
       "      <td>...</td>\n",
       "      <td>N</td>\n",
       "      <td>NaN</td>\n",
       "      <td>N</td>\n",
       "      <td>NaN</td>\n",
       "      <td>N</td>\n",
       "      <td>S</td>\n",
       "      <td>NIC</td>\n",
       "      <td>NaN</td>\n",
       "      <td>36.0</td>\n",
       "      <td>45.0</td>\n",
       "    </tr>\n",
       "    <tr>\n",
       "      <th>1379774</th>\n",
       "      <td>1379774</td>\n",
       "      <td>2020638947</td>\n",
       "      <td>0</td>\n",
       "      <td>0</td>\n",
       "      <td>2020-11-27</td>\n",
       "      <td>1.00</td>\n",
       "      <td>1.00</td>\n",
       "      <td>75242110.0</td>\n",
       "      <td>4.0</td>\n",
       "      <td>N</td>\n",
       "      <td>...</td>\n",
       "      <td>N</td>\n",
       "      <td>NaN</td>\n",
       "      <td>N</td>\n",
       "      <td>NaN</td>\n",
       "      <td>N</td>\n",
       "      <td>S</td>\n",
       "      <td>NIC</td>\n",
       "      <td>NaN</td>\n",
       "      <td>36.0</td>\n",
       "      <td>45.0</td>\n",
       "    </tr>\n",
       "    <tr>\n",
       "      <th>1380964</th>\n",
       "      <td>1380964</td>\n",
       "      <td>2020643364</td>\n",
       "      <td>0</td>\n",
       "      <td>0</td>\n",
       "      <td>2020-12-23</td>\n",
       "      <td>1.00</td>\n",
       "      <td>1.00</td>\n",
       "      <td>65310000.0</td>\n",
       "      <td>1.0</td>\n",
       "      <td>N</td>\n",
       "      <td>...</td>\n",
       "      <td>N</td>\n",
       "      <td>NaN</td>\n",
       "      <td>NaN</td>\n",
       "      <td>NaN</td>\n",
       "      <td>N</td>\n",
       "      <td>S</td>\n",
       "      <td>NOC</td>\n",
       "      <td>NaN</td>\n",
       "      <td>NaN</td>\n",
       "      <td>NaN</td>\n",
       "    </tr>\n",
       "  </tbody>\n",
       "</table>\n",
       "<p>1117 rows × 26 columns</p>\n",
       "</div>"
      ],
      "text/plain": [
       "           lotId    tedCanId  correctionsNb  cancelled   awardDate  \\\n",
       "30645      30645   201060772              0          0  2010-01-14   \n",
       "72208      72208  2010196647              0          0  2010-06-23   \n",
       "84783      84783  2010234775              0          0  2010-06-23   \n",
       "129990    129990  2010385028              0          0  2010-12-07   \n",
       "129991    129991  2010385028              0          0  2010-12-07   \n",
       "...          ...         ...            ...        ...         ...   \n",
       "1378559  1378559  2020633858              0          0  2020-12-01   \n",
       "1379724  1379724  2020638855              0          0  2020-12-11   \n",
       "1379773  1379773  2020638947              0          0  2020-11-27   \n",
       "1379774  1379774  2020638947              0          0  2020-11-27   \n",
       "1380964  1380964  2020643364              0          0  2020-12-23   \n",
       "\n",
       "         awardEstimatedPrice  awardPrice         cpv  numberTenders onBehalf  \\\n",
       "30645                   1.00        1.00  32323500.0            2.0        N   \n",
       "72208                   1.00        1.00  31700000.0            5.0        N   \n",
       "84783                   1.00        1.00  31700000.0            5.0      NaN   \n",
       "129990                  0.60        0.60  39550000.0           11.0        N   \n",
       "129991                  0.21        0.21  39550000.0           11.0        N   \n",
       "...                      ...         ...         ...            ...      ...   \n",
       "1378559                 1.00        1.00  65310000.0            1.0        N   \n",
       "1379724                 1.00        1.00  50313000.0            1.0        N   \n",
       "1379773                 1.00        1.00  75242110.0            4.0        N   \n",
       "1379774                 1.00        1.00  75242110.0            4.0        N   \n",
       "1380964                 1.00        1.00  65310000.0            1.0        N   \n",
       "\n",
       "         ... contractorSme numberTendersSme subContracted  gpa multipleCae  \\\n",
       "30645    ...           NaN              NaN           NaN    Y         NaN   \n",
       "72208    ...           NaN              NaN             N    N         NaN   \n",
       "84783    ...           NaN              NaN             N    N         NaN   \n",
       "129990   ...           NaN              NaN           NaN    Y         NaN   \n",
       "129991   ...           NaN              NaN           NaN    Y         NaN   \n",
       "...      ...           ...              ...           ...  ...         ...   \n",
       "1378559  ...             N              NaN           NaN  NaN           N   \n",
       "1379724  ...             Y              NaN             Y    Y           N   \n",
       "1379773  ...             N              NaN             N  NaN           N   \n",
       "1379774  ...             N              NaN             N  NaN           N   \n",
       "1380964  ...             N              NaN           NaN  NaN           N   \n",
       "\n",
       "         typeOfContract topType  renewal contractDuration publicityDuration  \n",
       "30645                 W     OPE      NaN             12.0              50.0  \n",
       "72208                 U     NIC      NaN            180.0              26.0  \n",
       "84783                 S     NIC      NaN              NaN               NaN  \n",
       "129990                U     OPE      NaN             48.0              83.0  \n",
       "129991                U     OPE      NaN             48.0              83.0  \n",
       "...                 ...     ...      ...              ...               ...  \n",
       "1378559               S     NOC      NaN              NaN               NaN  \n",
       "1379724               S     NIC        Y             12.0              31.0  \n",
       "1379773               S     NIC      NaN             36.0              45.0  \n",
       "1379774               S     NIC      NaN             36.0              45.0  \n",
       "1380964               S     NOC      NaN              NaN               NaN  \n",
       "\n",
       "[1117 rows x 26 columns]"
      ]
     },
     "execution_count": 112,
     "metadata": {},
     "output_type": "execute_result"
    }
   ],
   "source": [
    "abberant1"
   ]
  },
  {
   "cell_type": "code",
   "execution_count": 113,
   "metadata": {},
   "outputs": [],
   "source": [
    "criteria = notMissingAwardEstimatedPrice['awardEstimatedPrice'] >= 99999999999.0\n",
    "abberant2 = notMissingAwardEstimatedPrice[criteria]"
   ]
  },
  {
   "cell_type": "code",
   "execution_count": 114,
   "metadata": {},
   "outputs": [
    {
     "data": {
      "text/html": [
       "<div>\n",
       "<style scoped>\n",
       "    .dataframe tbody tr th:only-of-type {\n",
       "        vertical-align: middle;\n",
       "    }\n",
       "\n",
       "    .dataframe tbody tr th {\n",
       "        vertical-align: top;\n",
       "    }\n",
       "\n",
       "    .dataframe thead th {\n",
       "        text-align: right;\n",
       "    }\n",
       "</style>\n",
       "<table border=\"1\" class=\"dataframe\">\n",
       "  <thead>\n",
       "    <tr style=\"text-align: right;\">\n",
       "      <th></th>\n",
       "      <th>lotId</th>\n",
       "      <th>tedCanId</th>\n",
       "      <th>correctionsNb</th>\n",
       "      <th>cancelled</th>\n",
       "      <th>awardDate</th>\n",
       "      <th>awardEstimatedPrice</th>\n",
       "      <th>awardPrice</th>\n",
       "      <th>cpv</th>\n",
       "      <th>numberTenders</th>\n",
       "      <th>onBehalf</th>\n",
       "      <th>...</th>\n",
       "      <th>contractorSme</th>\n",
       "      <th>numberTendersSme</th>\n",
       "      <th>subContracted</th>\n",
       "      <th>gpa</th>\n",
       "      <th>multipleCae</th>\n",
       "      <th>typeOfContract</th>\n",
       "      <th>topType</th>\n",
       "      <th>renewal</th>\n",
       "      <th>contractDuration</th>\n",
       "      <th>publicityDuration</th>\n",
       "    </tr>\n",
       "  </thead>\n",
       "  <tbody>\n",
       "    <tr>\n",
       "      <th>1121760</th>\n",
       "      <td>1121760</td>\n",
       "      <td>2018509991</td>\n",
       "      <td>0</td>\n",
       "      <td>0</td>\n",
       "      <td>2018-08-21</td>\n",
       "      <td>1.000000e+11</td>\n",
       "      <td>9.999999e+06</td>\n",
       "      <td>9134000.0</td>\n",
       "      <td>3.0</td>\n",
       "      <td>N</td>\n",
       "      <td>...</td>\n",
       "      <td>Y</td>\n",
       "      <td>NaN</td>\n",
       "      <td>N</td>\n",
       "      <td>Y</td>\n",
       "      <td>N</td>\n",
       "      <td>U</td>\n",
       "      <td>OPE</td>\n",
       "      <td>N</td>\n",
       "      <td>48.00</td>\n",
       "      <td>32.0</td>\n",
       "    </tr>\n",
       "    <tr>\n",
       "      <th>1148177</th>\n",
       "      <td>1148177</td>\n",
       "      <td>201932165</td>\n",
       "      <td>0</td>\n",
       "      <td>0</td>\n",
       "      <td>2018-12-26</td>\n",
       "      <td>1.000000e+11</td>\n",
       "      <td>1.000000e+11</td>\n",
       "      <td>66512000.0</td>\n",
       "      <td>4.0</td>\n",
       "      <td>N</td>\n",
       "      <td>...</td>\n",
       "      <td>N</td>\n",
       "      <td>NaN</td>\n",
       "      <td>N</td>\n",
       "      <td>Y</td>\n",
       "      <td>N</td>\n",
       "      <td>S</td>\n",
       "      <td>OPE</td>\n",
       "      <td>N</td>\n",
       "      <td>60.03</td>\n",
       "      <td>40.0</td>\n",
       "    </tr>\n",
       "  </tbody>\n",
       "</table>\n",
       "<p>2 rows × 26 columns</p>\n",
       "</div>"
      ],
      "text/plain": [
       "           lotId    tedCanId  correctionsNb  cancelled   awardDate  \\\n",
       "1121760  1121760  2018509991              0          0  2018-08-21   \n",
       "1148177  1148177   201932165              0          0  2018-12-26   \n",
       "\n",
       "         awardEstimatedPrice    awardPrice         cpv  numberTenders  \\\n",
       "1121760         1.000000e+11  9.999999e+06   9134000.0            3.0   \n",
       "1148177         1.000000e+11  1.000000e+11  66512000.0            4.0   \n",
       "\n",
       "        onBehalf  ... contractorSme numberTendersSme subContracted gpa  \\\n",
       "1121760        N  ...             Y              NaN             N   Y   \n",
       "1148177        N  ...             N              NaN             N   Y   \n",
       "\n",
       "        multipleCae  typeOfContract topType  renewal contractDuration  \\\n",
       "1121760           N               U     OPE        N            48.00   \n",
       "1148177           N               S     OPE        N            60.03   \n",
       "\n",
       "        publicityDuration  \n",
       "1121760              32.0  \n",
       "1148177              40.0  \n",
       "\n",
       "[2 rows x 26 columns]"
      ]
     },
     "execution_count": 114,
     "metadata": {},
     "output_type": "execute_result"
    }
   ],
   "source": [
    "abberant2"
   ]
  },
  {
   "cell_type": "code",
   "execution_count": 115,
   "metadata": {},
   "outputs": [
    {
     "data": {
      "text/plain": [
       "awardEstimatedPrice\n",
       "2.000000e+05    2415\n",
       "1.000000e+05    2135\n",
       "4.000000e+05    1911\n",
       "4.000000e+04    1775\n",
       "5.000000e+04    1712\n",
       "                ... \n",
       "4.107470e+05       1\n",
       "2.124253e+06       1\n",
       "8.587725e+06       1\n",
       "4.125370e+03       1\n",
       "4.970000e+08       1\n",
       "Name: count, Length: 78365, dtype: int64"
      ]
     },
     "execution_count": 115,
     "metadata": {},
     "output_type": "execute_result"
    }
   ],
   "source": [
    "notMissingAwardEstimatedPrice['awardEstimatedPrice'].value_counts()"
   ]
  },
  {
   "cell_type": "code",
   "execution_count": 116,
   "metadata": {},
   "outputs": [
    {
     "data": {
      "text/plain": [
       "0.01"
      ]
     },
     "execution_count": 116,
     "metadata": {},
     "output_type": "execute_result"
    }
   ],
   "source": [
    "notMissingAwardEstimatedPrice['awardEstimatedPrice'].min()"
   ]
  },
  {
   "cell_type": "code",
   "execution_count": 118,
   "metadata": {},
   "outputs": [
    {
     "data": {
      "text/plain": [
       "'99999999999.0'"
      ]
     },
     "execution_count": 118,
     "metadata": {},
     "output_type": "execute_result"
    }
   ],
   "source": [
    "notMissingAwardEstimatedPrice['awardEstimatedPrice'].max()"
   ]
  },
  {
   "cell_type": "code",
   "execution_count": 122,
   "metadata": {},
   "outputs": [],
   "source": [
    "def float_to_int(x):\n",
    "    decimal_count = len(str(x).split('.')[1])\n",
    "    multiplier = 10 ** decimal_count\n",
    "    return int(x * multiplier)"
   ]
  },
  {
   "cell_type": "code",
   "execution_count": 123,
   "metadata": {},
   "outputs": [],
   "source": [
    "tmp = notMissingAwardEstimatedPrice.copy()\n",
    "tmp['awardEstimatedPrice'] = tmp['awardEstimatedPrice'].apply(float_to_int)"
   ]
  },
  {
   "cell_type": "code",
   "execution_count": 126,
   "metadata": {},
   "outputs": [],
   "source": [
    "pattern = r'^(\\d)\\1+$'\n",
    "tmp1 = tmp[tmp['awardEstimatedPrice'].astype(int).astype(str).str.match(pattern)]"
   ]
  },
  {
   "cell_type": "code",
   "execution_count": 127,
   "metadata": {},
   "outputs": [
    {
     "data": {
      "text/plain": [
       "Index([  24528,  105278,  113851,  251636,  303463,  322389,  338267,  361370,\n",
       "        374924,  381282,\n",
       "       ...\n",
       "       1336914, 1336915, 1336916, 1336917, 1336918, 1336919, 1336920, 1336921,\n",
       "       1361213, 1376091],\n",
       "      dtype='int64', length=164)"
      ]
     },
     "execution_count": 127,
     "metadata": {},
     "output_type": "execute_result"
    }
   ],
   "source": [
    "tmp1.index"
   ]
  },
  {
   "cell_type": "code",
   "execution_count": 129,
   "metadata": {},
   "outputs": [],
   "source": [
    "tmp2 = notMissingAwardEstimatedPrice.copy()"
   ]
  },
  {
   "cell_type": "code",
   "execution_count": 131,
   "metadata": {},
   "outputs": [],
   "source": [
    "tmp3 = tmp2[tmp2.index.isin(tmp1.index)]"
   ]
  },
  {
   "cell_type": "code",
   "execution_count": 132,
   "metadata": {},
   "outputs": [
    {
     "data": {
      "text/html": [
       "<div>\n",
       "<style scoped>\n",
       "    .dataframe tbody tr th:only-of-type {\n",
       "        vertical-align: middle;\n",
       "    }\n",
       "\n",
       "    .dataframe tbody tr th {\n",
       "        vertical-align: top;\n",
       "    }\n",
       "\n",
       "    .dataframe thead th {\n",
       "        text-align: right;\n",
       "    }\n",
       "</style>\n",
       "<table border=\"1\" class=\"dataframe\">\n",
       "  <thead>\n",
       "    <tr style=\"text-align: right;\">\n",
       "      <th></th>\n",
       "      <th>lotId</th>\n",
       "      <th>tedCanId</th>\n",
       "      <th>correctionsNb</th>\n",
       "      <th>cancelled</th>\n",
       "      <th>awardDate</th>\n",
       "      <th>awardEstimatedPrice</th>\n",
       "      <th>awardPrice</th>\n",
       "      <th>cpv</th>\n",
       "      <th>numberTenders</th>\n",
       "      <th>onBehalf</th>\n",
       "      <th>...</th>\n",
       "      <th>contractorSme</th>\n",
       "      <th>numberTendersSme</th>\n",
       "      <th>subContracted</th>\n",
       "      <th>gpa</th>\n",
       "      <th>multipleCae</th>\n",
       "      <th>typeOfContract</th>\n",
       "      <th>topType</th>\n",
       "      <th>renewal</th>\n",
       "      <th>contractDuration</th>\n",
       "      <th>publicityDuration</th>\n",
       "    </tr>\n",
       "  </thead>\n",
       "  <tbody>\n",
       "    <tr>\n",
       "      <th>24528</th>\n",
       "      <td>24528</td>\n",
       "      <td>201042538</td>\n",
       "      <td>0</td>\n",
       "      <td>0</td>\n",
       "      <td>2009-10-01</td>\n",
       "      <td>3333333</td>\n",
       "      <td>33333.33</td>\n",
       "      <td>71210000.0</td>\n",
       "      <td>NaN</td>\n",
       "      <td>NaN</td>\n",
       "      <td>...</td>\n",
       "      <td>NaN</td>\n",
       "      <td>NaN</td>\n",
       "      <td>NaN</td>\n",
       "      <td>Y</td>\n",
       "      <td>NaN</td>\n",
       "      <td>S</td>\n",
       "      <td>RES</td>\n",
       "      <td>NaN</td>\n",
       "      <td>NaN</td>\n",
       "      <td>NaN</td>\n",
       "    </tr>\n",
       "    <tr>\n",
       "      <th>105278</th>\n",
       "      <td>105278</td>\n",
       "      <td>2010300144</td>\n",
       "      <td>0</td>\n",
       "      <td>0</td>\n",
       "      <td>2010-09-17</td>\n",
       "      <td>55</td>\n",
       "      <td>5.50</td>\n",
       "      <td>33751000.0</td>\n",
       "      <td>NaN</td>\n",
       "      <td>N</td>\n",
       "      <td>...</td>\n",
       "      <td>NaN</td>\n",
       "      <td>NaN</td>\n",
       "      <td>NaN</td>\n",
       "      <td>Y</td>\n",
       "      <td>NaN</td>\n",
       "      <td>U</td>\n",
       "      <td>OPE</td>\n",
       "      <td>NaN</td>\n",
       "      <td>NaN</td>\n",
       "      <td>42.0</td>\n",
       "    </tr>\n",
       "    <tr>\n",
       "      <th>113851</th>\n",
       "      <td>113851</td>\n",
       "      <td>2010333780</td>\n",
       "      <td>0</td>\n",
       "      <td>0</td>\n",
       "      <td>2010-06-01</td>\n",
       "      <td>99</td>\n",
       "      <td>19.80</td>\n",
       "      <td>33600000.0</td>\n",
       "      <td>1.0</td>\n",
       "      <td>N</td>\n",
       "      <td>...</td>\n",
       "      <td>NaN</td>\n",
       "      <td>NaN</td>\n",
       "      <td>N</td>\n",
       "      <td>Y</td>\n",
       "      <td>NaN</td>\n",
       "      <td>U</td>\n",
       "      <td>NOC</td>\n",
       "      <td>NaN</td>\n",
       "      <td>NaN</td>\n",
       "      <td>NaN</td>\n",
       "    </tr>\n",
       "    <tr>\n",
       "      <th>251636</th>\n",
       "      <td>251636</td>\n",
       "      <td>2011364715</td>\n",
       "      <td>0</td>\n",
       "      <td>0</td>\n",
       "      <td>2011-09-27</td>\n",
       "      <td>33</td>\n",
       "      <td>0.33</td>\n",
       "      <td>66000000.0</td>\n",
       "      <td>NaN</td>\n",
       "      <td>N</td>\n",
       "      <td>...</td>\n",
       "      <td>NaN</td>\n",
       "      <td>NaN</td>\n",
       "      <td>N</td>\n",
       "      <td>NaN</td>\n",
       "      <td>NaN</td>\n",
       "      <td>S</td>\n",
       "      <td>OPE</td>\n",
       "      <td>NaN</td>\n",
       "      <td>48.03</td>\n",
       "      <td>76.0</td>\n",
       "    </tr>\n",
       "    <tr>\n",
       "      <th>303463</th>\n",
       "      <td>303463</td>\n",
       "      <td>201284041</td>\n",
       "      <td>0</td>\n",
       "      <td>0</td>\n",
       "      <td>2012-02-17</td>\n",
       "      <td>88</td>\n",
       "      <td>8.80</td>\n",
       "      <td>33000000.0</td>\n",
       "      <td>NaN</td>\n",
       "      <td>N</td>\n",
       "      <td>...</td>\n",
       "      <td>NaN</td>\n",
       "      <td>NaN</td>\n",
       "      <td>NaN</td>\n",
       "      <td>NaN</td>\n",
       "      <td>NaN</td>\n",
       "      <td>U</td>\n",
       "      <td>OPE</td>\n",
       "      <td>NaN</td>\n",
       "      <td>24.01</td>\n",
       "      <td>85.0</td>\n",
       "    </tr>\n",
       "    <tr>\n",
       "      <th>...</th>\n",
       "      <td>...</td>\n",
       "      <td>...</td>\n",
       "      <td>...</td>\n",
       "      <td>...</td>\n",
       "      <td>...</td>\n",
       "      <td>...</td>\n",
       "      <td>...</td>\n",
       "      <td>...</td>\n",
       "      <td>...</td>\n",
       "      <td>...</td>\n",
       "      <td>...</td>\n",
       "      <td>...</td>\n",
       "      <td>...</td>\n",
       "      <td>...</td>\n",
       "      <td>...</td>\n",
       "      <td>...</td>\n",
       "      <td>...</td>\n",
       "      <td>...</td>\n",
       "      <td>...</td>\n",
       "      <td>...</td>\n",
       "      <td>...</td>\n",
       "    </tr>\n",
       "    <tr>\n",
       "      <th>1336919</th>\n",
       "      <td>1336919</td>\n",
       "      <td>2020379090</td>\n",
       "      <td>0</td>\n",
       "      <td>0</td>\n",
       "      <td>2020-07-16</td>\n",
       "      <td>2222222</td>\n",
       "      <td>22222.22</td>\n",
       "      <td>15800000.0</td>\n",
       "      <td>1.0</td>\n",
       "      <td>N</td>\n",
       "      <td>...</td>\n",
       "      <td>N</td>\n",
       "      <td>NaN</td>\n",
       "      <td>N</td>\n",
       "      <td>Y</td>\n",
       "      <td>N</td>\n",
       "      <td>U</td>\n",
       "      <td>OPE</td>\n",
       "      <td>N</td>\n",
       "      <td>48.03</td>\n",
       "      <td>41.0</td>\n",
       "    </tr>\n",
       "    <tr>\n",
       "      <th>1336920</th>\n",
       "      <td>1336920</td>\n",
       "      <td>2020379090</td>\n",
       "      <td>0</td>\n",
       "      <td>0</td>\n",
       "      <td>2020-07-16</td>\n",
       "      <td>2222222</td>\n",
       "      <td>22222.22</td>\n",
       "      <td>15800000.0</td>\n",
       "      <td>1.0</td>\n",
       "      <td>N</td>\n",
       "      <td>...</td>\n",
       "      <td>N</td>\n",
       "      <td>NaN</td>\n",
       "      <td>N</td>\n",
       "      <td>Y</td>\n",
       "      <td>N</td>\n",
       "      <td>U</td>\n",
       "      <td>OPE</td>\n",
       "      <td>N</td>\n",
       "      <td>48.03</td>\n",
       "      <td>41.0</td>\n",
       "    </tr>\n",
       "    <tr>\n",
       "      <th>1336921</th>\n",
       "      <td>1336921</td>\n",
       "      <td>2020379090</td>\n",
       "      <td>0</td>\n",
       "      <td>0</td>\n",
       "      <td>2020-07-16</td>\n",
       "      <td>2222222</td>\n",
       "      <td>22222.22</td>\n",
       "      <td>15800000.0</td>\n",
       "      <td>1.0</td>\n",
       "      <td>N</td>\n",
       "      <td>...</td>\n",
       "      <td>N</td>\n",
       "      <td>NaN</td>\n",
       "      <td>N</td>\n",
       "      <td>Y</td>\n",
       "      <td>N</td>\n",
       "      <td>U</td>\n",
       "      <td>OPE</td>\n",
       "      <td>N</td>\n",
       "      <td>48.03</td>\n",
       "      <td>41.0</td>\n",
       "    </tr>\n",
       "    <tr>\n",
       "      <th>1361213</th>\n",
       "      <td>1361213</td>\n",
       "      <td>2020540938</td>\n",
       "      <td>0</td>\n",
       "      <td>0</td>\n",
       "      <td>2020-11-05</td>\n",
       "      <td>33333333</td>\n",
       "      <td>93272.81</td>\n",
       "      <td>66516000.0</td>\n",
       "      <td>3.0</td>\n",
       "      <td>N</td>\n",
       "      <td>...</td>\n",
       "      <td>N---N</td>\n",
       "      <td>NaN</td>\n",
       "      <td>N</td>\n",
       "      <td>Y</td>\n",
       "      <td>N</td>\n",
       "      <td>S</td>\n",
       "      <td>OPE</td>\n",
       "      <td>N</td>\n",
       "      <td>60.00</td>\n",
       "      <td>42.0</td>\n",
       "    </tr>\n",
       "    <tr>\n",
       "      <th>1376091</th>\n",
       "      <td>1376091</td>\n",
       "      <td>2020621720</td>\n",
       "      <td>0</td>\n",
       "      <td>0</td>\n",
       "      <td>2020-11-25</td>\n",
       "      <td>33333333</td>\n",
       "      <td>333333.33</td>\n",
       "      <td>64121200.0</td>\n",
       "      <td>2.0</td>\n",
       "      <td>N</td>\n",
       "      <td>...</td>\n",
       "      <td>N</td>\n",
       "      <td>NaN</td>\n",
       "      <td>Y</td>\n",
       "      <td>Y</td>\n",
       "      <td>N</td>\n",
       "      <td>S</td>\n",
       "      <td>OPE</td>\n",
       "      <td>N</td>\n",
       "      <td>48.00</td>\n",
       "      <td>44.0</td>\n",
       "    </tr>\n",
       "  </tbody>\n",
       "</table>\n",
       "<p>164 rows × 26 columns</p>\n",
       "</div>"
      ],
      "text/plain": [
       "           lotId    tedCanId  correctionsNb  cancelled   awardDate  \\\n",
       "24528      24528   201042538              0          0  2009-10-01   \n",
       "105278    105278  2010300144              0          0  2010-09-17   \n",
       "113851    113851  2010333780              0          0  2010-06-01   \n",
       "251636    251636  2011364715              0          0  2011-09-27   \n",
       "303463    303463   201284041              0          0  2012-02-17   \n",
       "...          ...         ...            ...        ...         ...   \n",
       "1336919  1336919  2020379090              0          0  2020-07-16   \n",
       "1336920  1336920  2020379090              0          0  2020-07-16   \n",
       "1336921  1336921  2020379090              0          0  2020-07-16   \n",
       "1361213  1361213  2020540938              0          0  2020-11-05   \n",
       "1376091  1376091  2020621720              0          0  2020-11-25   \n",
       "\n",
       "         awardEstimatedPrice  awardPrice         cpv  numberTenders onBehalf  \\\n",
       "24528                3333333    33333.33  71210000.0            NaN      NaN   \n",
       "105278                    55        5.50  33751000.0            NaN        N   \n",
       "113851                    99       19.80  33600000.0            1.0        N   \n",
       "251636                    33        0.33  66000000.0            NaN        N   \n",
       "303463                    88        8.80  33000000.0            NaN        N   \n",
       "...                      ...         ...         ...            ...      ...   \n",
       "1336919              2222222    22222.22  15800000.0            1.0        N   \n",
       "1336920              2222222    22222.22  15800000.0            1.0        N   \n",
       "1336921              2222222    22222.22  15800000.0            1.0        N   \n",
       "1361213             33333333    93272.81  66516000.0            3.0        N   \n",
       "1376091             33333333   333333.33  64121200.0            2.0        N   \n",
       "\n",
       "         ... contractorSme numberTendersSme subContracted  gpa multipleCae  \\\n",
       "24528    ...           NaN              NaN           NaN    Y         NaN   \n",
       "105278   ...           NaN              NaN           NaN    Y         NaN   \n",
       "113851   ...           NaN              NaN             N    Y         NaN   \n",
       "251636   ...           NaN              NaN             N  NaN         NaN   \n",
       "303463   ...           NaN              NaN           NaN  NaN         NaN   \n",
       "...      ...           ...              ...           ...  ...         ...   \n",
       "1336919  ...             N              NaN             N    Y           N   \n",
       "1336920  ...             N              NaN             N    Y           N   \n",
       "1336921  ...             N              NaN             N    Y           N   \n",
       "1361213  ...         N---N              NaN             N    Y           N   \n",
       "1376091  ...             N              NaN             Y    Y           N   \n",
       "\n",
       "         typeOfContract topType  renewal contractDuration publicityDuration  \n",
       "24528                 S     RES      NaN              NaN               NaN  \n",
       "105278                U     OPE      NaN              NaN              42.0  \n",
       "113851                U     NOC      NaN              NaN               NaN  \n",
       "251636                S     OPE      NaN            48.03              76.0  \n",
       "303463                U     OPE      NaN            24.01              85.0  \n",
       "...                 ...     ...      ...              ...               ...  \n",
       "1336919               U     OPE        N            48.03              41.0  \n",
       "1336920               U     OPE        N            48.03              41.0  \n",
       "1336921               U     OPE        N            48.03              41.0  \n",
       "1361213               S     OPE        N            60.00              42.0  \n",
       "1376091               S     OPE        N            48.00              44.0  \n",
       "\n",
       "[164 rows x 26 columns]"
      ]
     },
     "execution_count": 132,
     "metadata": {},
     "output_type": "execute_result"
    }
   ],
   "source": [
    "tmp1"
   ]
  },
  {
   "cell_type": "code",
   "execution_count": 133,
   "metadata": {},
   "outputs": [
    {
     "data": {
      "text/html": [
       "<div>\n",
       "<style scoped>\n",
       "    .dataframe tbody tr th:only-of-type {\n",
       "        vertical-align: middle;\n",
       "    }\n",
       "\n",
       "    .dataframe tbody tr th {\n",
       "        vertical-align: top;\n",
       "    }\n",
       "\n",
       "    .dataframe thead th {\n",
       "        text-align: right;\n",
       "    }\n",
       "</style>\n",
       "<table border=\"1\" class=\"dataframe\">\n",
       "  <thead>\n",
       "    <tr style=\"text-align: right;\">\n",
       "      <th></th>\n",
       "      <th>lotId</th>\n",
       "      <th>tedCanId</th>\n",
       "      <th>correctionsNb</th>\n",
       "      <th>cancelled</th>\n",
       "      <th>awardDate</th>\n",
       "      <th>awardEstimatedPrice</th>\n",
       "      <th>awardPrice</th>\n",
       "      <th>cpv</th>\n",
       "      <th>numberTenders</th>\n",
       "      <th>onBehalf</th>\n",
       "      <th>...</th>\n",
       "      <th>contractorSme</th>\n",
       "      <th>numberTendersSme</th>\n",
       "      <th>subContracted</th>\n",
       "      <th>gpa</th>\n",
       "      <th>multipleCae</th>\n",
       "      <th>typeOfContract</th>\n",
       "      <th>topType</th>\n",
       "      <th>renewal</th>\n",
       "      <th>contractDuration</th>\n",
       "      <th>publicityDuration</th>\n",
       "    </tr>\n",
       "  </thead>\n",
       "  <tbody>\n",
       "    <tr>\n",
       "      <th>24528</th>\n",
       "      <td>24528</td>\n",
       "      <td>201042538</td>\n",
       "      <td>0</td>\n",
       "      <td>0</td>\n",
       "      <td>2009-10-01</td>\n",
       "      <td>33333.33</td>\n",
       "      <td>33333.33</td>\n",
       "      <td>71210000.0</td>\n",
       "      <td>NaN</td>\n",
       "      <td>NaN</td>\n",
       "      <td>...</td>\n",
       "      <td>NaN</td>\n",
       "      <td>NaN</td>\n",
       "      <td>NaN</td>\n",
       "      <td>Y</td>\n",
       "      <td>NaN</td>\n",
       "      <td>S</td>\n",
       "      <td>RES</td>\n",
       "      <td>NaN</td>\n",
       "      <td>NaN</td>\n",
       "      <td>NaN</td>\n",
       "    </tr>\n",
       "    <tr>\n",
       "      <th>105278</th>\n",
       "      <td>105278</td>\n",
       "      <td>2010300144</td>\n",
       "      <td>0</td>\n",
       "      <td>0</td>\n",
       "      <td>2010-09-17</td>\n",
       "      <td>5.50</td>\n",
       "      <td>5.50</td>\n",
       "      <td>33751000.0</td>\n",
       "      <td>NaN</td>\n",
       "      <td>N</td>\n",
       "      <td>...</td>\n",
       "      <td>NaN</td>\n",
       "      <td>NaN</td>\n",
       "      <td>NaN</td>\n",
       "      <td>Y</td>\n",
       "      <td>NaN</td>\n",
       "      <td>U</td>\n",
       "      <td>OPE</td>\n",
       "      <td>NaN</td>\n",
       "      <td>NaN</td>\n",
       "      <td>42.0</td>\n",
       "    </tr>\n",
       "    <tr>\n",
       "      <th>113851</th>\n",
       "      <td>113851</td>\n",
       "      <td>2010333780</td>\n",
       "      <td>0</td>\n",
       "      <td>0</td>\n",
       "      <td>2010-06-01</td>\n",
       "      <td>9.90</td>\n",
       "      <td>19.80</td>\n",
       "      <td>33600000.0</td>\n",
       "      <td>1.0</td>\n",
       "      <td>N</td>\n",
       "      <td>...</td>\n",
       "      <td>NaN</td>\n",
       "      <td>NaN</td>\n",
       "      <td>N</td>\n",
       "      <td>Y</td>\n",
       "      <td>NaN</td>\n",
       "      <td>U</td>\n",
       "      <td>NOC</td>\n",
       "      <td>NaN</td>\n",
       "      <td>NaN</td>\n",
       "      <td>NaN</td>\n",
       "    </tr>\n",
       "    <tr>\n",
       "      <th>251636</th>\n",
       "      <td>251636</td>\n",
       "      <td>2011364715</td>\n",
       "      <td>0</td>\n",
       "      <td>0</td>\n",
       "      <td>2011-09-27</td>\n",
       "      <td>0.33</td>\n",
       "      <td>0.33</td>\n",
       "      <td>66000000.0</td>\n",
       "      <td>NaN</td>\n",
       "      <td>N</td>\n",
       "      <td>...</td>\n",
       "      <td>NaN</td>\n",
       "      <td>NaN</td>\n",
       "      <td>N</td>\n",
       "      <td>NaN</td>\n",
       "      <td>NaN</td>\n",
       "      <td>S</td>\n",
       "      <td>OPE</td>\n",
       "      <td>NaN</td>\n",
       "      <td>48.03</td>\n",
       "      <td>76.0</td>\n",
       "    </tr>\n",
       "    <tr>\n",
       "      <th>303463</th>\n",
       "      <td>303463</td>\n",
       "      <td>201284041</td>\n",
       "      <td>0</td>\n",
       "      <td>0</td>\n",
       "      <td>2012-02-17</td>\n",
       "      <td>8.80</td>\n",
       "      <td>8.80</td>\n",
       "      <td>33000000.0</td>\n",
       "      <td>NaN</td>\n",
       "      <td>N</td>\n",
       "      <td>...</td>\n",
       "      <td>NaN</td>\n",
       "      <td>NaN</td>\n",
       "      <td>NaN</td>\n",
       "      <td>NaN</td>\n",
       "      <td>NaN</td>\n",
       "      <td>U</td>\n",
       "      <td>OPE</td>\n",
       "      <td>NaN</td>\n",
       "      <td>24.01</td>\n",
       "      <td>85.0</td>\n",
       "    </tr>\n",
       "    <tr>\n",
       "      <th>...</th>\n",
       "      <td>...</td>\n",
       "      <td>...</td>\n",
       "      <td>...</td>\n",
       "      <td>...</td>\n",
       "      <td>...</td>\n",
       "      <td>...</td>\n",
       "      <td>...</td>\n",
       "      <td>...</td>\n",
       "      <td>...</td>\n",
       "      <td>...</td>\n",
       "      <td>...</td>\n",
       "      <td>...</td>\n",
       "      <td>...</td>\n",
       "      <td>...</td>\n",
       "      <td>...</td>\n",
       "      <td>...</td>\n",
       "      <td>...</td>\n",
       "      <td>...</td>\n",
       "      <td>...</td>\n",
       "      <td>...</td>\n",
       "      <td>...</td>\n",
       "    </tr>\n",
       "    <tr>\n",
       "      <th>1336919</th>\n",
       "      <td>1336919</td>\n",
       "      <td>2020379090</td>\n",
       "      <td>0</td>\n",
       "      <td>0</td>\n",
       "      <td>2020-07-16</td>\n",
       "      <td>22222.22</td>\n",
       "      <td>22222.22</td>\n",
       "      <td>15800000.0</td>\n",
       "      <td>1.0</td>\n",
       "      <td>N</td>\n",
       "      <td>...</td>\n",
       "      <td>N</td>\n",
       "      <td>NaN</td>\n",
       "      <td>N</td>\n",
       "      <td>Y</td>\n",
       "      <td>N</td>\n",
       "      <td>U</td>\n",
       "      <td>OPE</td>\n",
       "      <td>N</td>\n",
       "      <td>48.03</td>\n",
       "      <td>41.0</td>\n",
       "    </tr>\n",
       "    <tr>\n",
       "      <th>1336920</th>\n",
       "      <td>1336920</td>\n",
       "      <td>2020379090</td>\n",
       "      <td>0</td>\n",
       "      <td>0</td>\n",
       "      <td>2020-07-16</td>\n",
       "      <td>22222.22</td>\n",
       "      <td>22222.22</td>\n",
       "      <td>15800000.0</td>\n",
       "      <td>1.0</td>\n",
       "      <td>N</td>\n",
       "      <td>...</td>\n",
       "      <td>N</td>\n",
       "      <td>NaN</td>\n",
       "      <td>N</td>\n",
       "      <td>Y</td>\n",
       "      <td>N</td>\n",
       "      <td>U</td>\n",
       "      <td>OPE</td>\n",
       "      <td>N</td>\n",
       "      <td>48.03</td>\n",
       "      <td>41.0</td>\n",
       "    </tr>\n",
       "    <tr>\n",
       "      <th>1336921</th>\n",
       "      <td>1336921</td>\n",
       "      <td>2020379090</td>\n",
       "      <td>0</td>\n",
       "      <td>0</td>\n",
       "      <td>2020-07-16</td>\n",
       "      <td>22222.22</td>\n",
       "      <td>22222.22</td>\n",
       "      <td>15800000.0</td>\n",
       "      <td>1.0</td>\n",
       "      <td>N</td>\n",
       "      <td>...</td>\n",
       "      <td>N</td>\n",
       "      <td>NaN</td>\n",
       "      <td>N</td>\n",
       "      <td>Y</td>\n",
       "      <td>N</td>\n",
       "      <td>U</td>\n",
       "      <td>OPE</td>\n",
       "      <td>N</td>\n",
       "      <td>48.03</td>\n",
       "      <td>41.0</td>\n",
       "    </tr>\n",
       "    <tr>\n",
       "      <th>1361213</th>\n",
       "      <td>1361213</td>\n",
       "      <td>2020540938</td>\n",
       "      <td>0</td>\n",
       "      <td>0</td>\n",
       "      <td>2020-11-05</td>\n",
       "      <td>333333.33</td>\n",
       "      <td>93272.81</td>\n",
       "      <td>66516000.0</td>\n",
       "      <td>3.0</td>\n",
       "      <td>N</td>\n",
       "      <td>...</td>\n",
       "      <td>N---N</td>\n",
       "      <td>NaN</td>\n",
       "      <td>N</td>\n",
       "      <td>Y</td>\n",
       "      <td>N</td>\n",
       "      <td>S</td>\n",
       "      <td>OPE</td>\n",
       "      <td>N</td>\n",
       "      <td>60.00</td>\n",
       "      <td>42.0</td>\n",
       "    </tr>\n",
       "    <tr>\n",
       "      <th>1376091</th>\n",
       "      <td>1376091</td>\n",
       "      <td>2020621720</td>\n",
       "      <td>0</td>\n",
       "      <td>0</td>\n",
       "      <td>2020-11-25</td>\n",
       "      <td>333333.33</td>\n",
       "      <td>333333.33</td>\n",
       "      <td>64121200.0</td>\n",
       "      <td>2.0</td>\n",
       "      <td>N</td>\n",
       "      <td>...</td>\n",
       "      <td>N</td>\n",
       "      <td>NaN</td>\n",
       "      <td>Y</td>\n",
       "      <td>Y</td>\n",
       "      <td>N</td>\n",
       "      <td>S</td>\n",
       "      <td>OPE</td>\n",
       "      <td>N</td>\n",
       "      <td>48.00</td>\n",
       "      <td>44.0</td>\n",
       "    </tr>\n",
       "  </tbody>\n",
       "</table>\n",
       "<p>164 rows × 26 columns</p>\n",
       "</div>"
      ],
      "text/plain": [
       "           lotId    tedCanId  correctionsNb  cancelled   awardDate  \\\n",
       "24528      24528   201042538              0          0  2009-10-01   \n",
       "105278    105278  2010300144              0          0  2010-09-17   \n",
       "113851    113851  2010333780              0          0  2010-06-01   \n",
       "251636    251636  2011364715              0          0  2011-09-27   \n",
       "303463    303463   201284041              0          0  2012-02-17   \n",
       "...          ...         ...            ...        ...         ...   \n",
       "1336919  1336919  2020379090              0          0  2020-07-16   \n",
       "1336920  1336920  2020379090              0          0  2020-07-16   \n",
       "1336921  1336921  2020379090              0          0  2020-07-16   \n",
       "1361213  1361213  2020540938              0          0  2020-11-05   \n",
       "1376091  1376091  2020621720              0          0  2020-11-25   \n",
       "\n",
       "         awardEstimatedPrice  awardPrice         cpv  numberTenders onBehalf  \\\n",
       "24528               33333.33    33333.33  71210000.0            NaN      NaN   \n",
       "105278                  5.50        5.50  33751000.0            NaN        N   \n",
       "113851                  9.90       19.80  33600000.0            1.0        N   \n",
       "251636                  0.33        0.33  66000000.0            NaN        N   \n",
       "303463                  8.80        8.80  33000000.0            NaN        N   \n",
       "...                      ...         ...         ...            ...      ...   \n",
       "1336919             22222.22    22222.22  15800000.0            1.0        N   \n",
       "1336920             22222.22    22222.22  15800000.0            1.0        N   \n",
       "1336921             22222.22    22222.22  15800000.0            1.0        N   \n",
       "1361213            333333.33    93272.81  66516000.0            3.0        N   \n",
       "1376091            333333.33   333333.33  64121200.0            2.0        N   \n",
       "\n",
       "         ... contractorSme numberTendersSme subContracted  gpa multipleCae  \\\n",
       "24528    ...           NaN              NaN           NaN    Y         NaN   \n",
       "105278   ...           NaN              NaN           NaN    Y         NaN   \n",
       "113851   ...           NaN              NaN             N    Y         NaN   \n",
       "251636   ...           NaN              NaN             N  NaN         NaN   \n",
       "303463   ...           NaN              NaN           NaN  NaN         NaN   \n",
       "...      ...           ...              ...           ...  ...         ...   \n",
       "1336919  ...             N              NaN             N    Y           N   \n",
       "1336920  ...             N              NaN             N    Y           N   \n",
       "1336921  ...             N              NaN             N    Y           N   \n",
       "1361213  ...         N---N              NaN             N    Y           N   \n",
       "1376091  ...             N              NaN             Y    Y           N   \n",
       "\n",
       "         typeOfContract topType  renewal contractDuration publicityDuration  \n",
       "24528                 S     RES      NaN              NaN               NaN  \n",
       "105278                U     OPE      NaN              NaN              42.0  \n",
       "113851                U     NOC      NaN              NaN               NaN  \n",
       "251636                S     OPE      NaN            48.03              76.0  \n",
       "303463                U     OPE      NaN            24.01              85.0  \n",
       "...                 ...     ...      ...              ...               ...  \n",
       "1336919               U     OPE        N            48.03              41.0  \n",
       "1336920               U     OPE        N            48.03              41.0  \n",
       "1336921               U     OPE        N            48.03              41.0  \n",
       "1361213               S     OPE        N            60.00              42.0  \n",
       "1376091               S     OPE        N            48.00              44.0  \n",
       "\n",
       "[164 rows x 26 columns]"
      ]
     },
     "execution_count": 133,
     "metadata": {},
     "output_type": "execute_result"
    }
   ],
   "source": [
    "tmp3"
   ]
  },
  {
   "cell_type": "code",
   "execution_count": 134,
   "metadata": {},
   "outputs": [
    {
     "data": {
      "text/plain": [
       "Index(['lotId', 'tedCanId', 'correctionsNb', 'cancelled', 'awardDate',\n",
       "       'awardEstimatedPrice', 'awardPrice', 'cpv', 'numberTenders', 'onBehalf',\n",
       "       'jointProcurement', 'fraAgreement', 'fraEstimated', 'lotsNumber',\n",
       "       'accelerated', 'outOfDirectives', 'contractorSme', 'numberTendersSme',\n",
       "       'subContracted', 'gpa', 'multipleCae', 'typeOfContract', 'topType',\n",
       "       'renewal', 'contractDuration', 'publicityDuration'],\n",
       "      dtype='object')"
      ]
     },
     "execution_count": 134,
     "metadata": {},
     "output_type": "execute_result"
    }
   ],
   "source": [
    "lots.columns"
   ]
  },
  {
   "cell_type": "markdown",
   "metadata": {},
   "source": [
    "## awardPrice Column"
   ]
  },
  {
   "cell_type": "markdown",
   "metadata": {},
   "source": [
    "value of the lot in the award notice"
   ]
  },
  {
   "cell_type": "code",
   "execution_count": 135,
   "metadata": {},
   "outputs": [],
   "source": [
    "awardPrice = lots['awardPrice']"
   ]
  },
  {
   "cell_type": "code",
   "execution_count": 136,
   "metadata": {},
   "outputs": [
    {
     "name": "stdout",
     "output_type": "stream",
     "text": [
      "<class 'pandas.core.series.Series'>\n",
      "RangeIndex: 1380965 entries, 0 to 1380964\n",
      "Series name: awardPrice\n",
      "Non-Null Count   Dtype  \n",
      "--------------   -----  \n",
      "954642 non-null  float64\n",
      "dtypes: float64(1)\n",
      "memory usage: 10.5 MB\n"
     ]
    }
   ],
   "source": [
    "awardPrice.info()"
   ]
  },
  {
   "cell_type": "code",
   "execution_count": null,
   "metadata": {},
   "outputs": [],
   "source": [
    "## numberTenders Column"
   ]
  },
  {
   "cell_type": "code",
   "execution_count": null,
   "metadata": {},
   "outputs": [],
   "source": [
    "## onBehalf Column"
   ]
  },
  {
   "cell_type": "code",
   "execution_count": null,
   "metadata": {},
   "outputs": [],
   "source": [
    "## jointProcurement Column"
   ]
  },
  {
   "cell_type": "code",
   "execution_count": null,
   "metadata": {},
   "outputs": [],
   "source": [
    "## fraAgreement Column"
   ]
  },
  {
   "cell_type": "code",
   "execution_count": null,
   "metadata": {},
   "outputs": [],
   "source": [
    "## fraEstimated Column"
   ]
  },
  {
   "cell_type": "code",
   "execution_count": null,
   "metadata": {},
   "outputs": [],
   "source": [
    "## lotsNumber Column"
   ]
  },
  {
   "cell_type": "code",
   "execution_count": null,
   "metadata": {},
   "outputs": [],
   "source": [
    "## accelerated Column"
   ]
  },
  {
   "cell_type": "code",
   "execution_count": null,
   "metadata": {},
   "outputs": [],
   "source": [
    "## outOfDirectives Column"
   ]
  },
  {
   "cell_type": "code",
   "execution_count": null,
   "metadata": {},
   "outputs": [],
   "source": [
    "## contractorSme Column"
   ]
  },
  {
   "cell_type": "code",
   "execution_count": null,
   "metadata": {},
   "outputs": [],
   "source": [
    "## numberTendersSme Column"
   ]
  },
  {
   "cell_type": "code",
   "execution_count": null,
   "metadata": {},
   "outputs": [],
   "source": [
    "## subContracted Column"
   ]
  },
  {
   "cell_type": "code",
   "execution_count": null,
   "metadata": {},
   "outputs": [],
   "source": [
    "## subContracted Column"
   ]
  },
  {
   "cell_type": "code",
   "execution_count": null,
   "metadata": {},
   "outputs": [],
   "source": [
    "## gpa Column"
   ]
  },
  {
   "cell_type": "code",
   "execution_count": null,
   "metadata": {},
   "outputs": [],
   "source": [
    "## multipleCae Column"
   ]
  },
  {
   "cell_type": "code",
   "execution_count": null,
   "metadata": {},
   "outputs": [],
   "source": [
    "## typeOfContract Column"
   ]
  },
  {
   "cell_type": "code",
   "execution_count": null,
   "metadata": {},
   "outputs": [],
   "source": [
    "## topType Column"
   ]
  },
  {
   "cell_type": "code",
   "execution_count": null,
   "metadata": {},
   "outputs": [],
   "source": [
    "## renewal Column"
   ]
  },
  {
   "cell_type": "code",
   "execution_count": null,
   "metadata": {},
   "outputs": [],
   "source": [
    "## contractDuration Column"
   ]
  },
  {
   "cell_type": "code",
   "execution_count": null,
   "metadata": {},
   "outputs": [],
   "source": [
    "## publicityDuration Column"
   ]
  }
 ],
 "metadata": {
  "kernelspec": {
   "display_name": "Python 3 (ipykernel)",
   "language": "python",
   "name": "python3"
  },
  "language_info": {
   "codemirror_mode": {
    "name": "ipython",
    "version": 3
   },
   "file_extension": ".py",
   "mimetype": "text/x-python",
   "name": "python",
   "nbconvert_exporter": "python",
   "pygments_lexer": "ipython3",
   "version": "3.11.5"
  }
 },
 "nbformat": 4,
 "nbformat_minor": 4
}
