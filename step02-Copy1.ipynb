{
 "cells": [
  {
   "cell_type": "code",
   "execution_count": 1,
   "id": "c10ebe71",
   "metadata": {},
   "outputs": [],
   "source": [
    "import pandas as pd\n",
    "import warnings\n",
    "warnings.filterwarnings('ignore')"
   ]
  },
  {
   "cell_type": "code",
   "execution_count": 2,
   "id": "e6ab4625",
   "metadata": {},
   "outputs": [],
   "source": [
    "pd.set_option('display.max_colwidth', None)"
   ]
  },
  {
   "cell_type": "code",
   "execution_count": 3,
   "id": "a955fd28",
   "metadata": {},
   "outputs": [],
   "source": [
    "lots = pd.read_csv('data/Lots.csv')"
   ]
  },
  {
   "cell_type": "markdown",
   "id": "c250c974",
   "metadata": {},
   "source": [
    "# Classification des attributs"
   ]
  },
  {
   "cell_type": "code",
   "execution_count": 4,
   "id": "771fbf51",
   "metadata": {},
   "outputs": [],
   "source": [
    "lots_metadata = pd.read_csv('data/Lots_metadata.csv')"
   ]
  },
  {
   "cell_type": "code",
   "execution_count": 5,
   "id": "e139a1ec",
   "metadata": {},
   "outputs": [
    {
     "data": {
      "text/html": [
       "<div>\n",
       "<style scoped>\n",
       "    .dataframe tbody tr th:only-of-type {\n",
       "        vertical-align: middle;\n",
       "    }\n",
       "\n",
       "    .dataframe tbody tr th {\n",
       "        vertical-align: top;\n",
       "    }\n",
       "\n",
       "    .dataframe thead th {\n",
       "        text-align: right;\n",
       "    }\n",
       "</style>\n",
       "<table border=\"1\" class=\"dataframe\">\n",
       "  <thead>\n",
       "    <tr style=\"text-align: right;\">\n",
       "      <th></th>\n",
       "      <th>variable</th>\n",
       "      <th>signification</th>\n",
       "      <th>nature</th>\n",
       "    </tr>\n",
       "  </thead>\n",
       "  <tbody>\n",
       "    <tr>\n",
       "      <th>0</th>\n",
       "      <td>lotId</td>\n",
       "      <td>Clé primaire</td>\n",
       "      <td>Catégorielle</td>\n",
       "    </tr>\n",
       "    <tr>\n",
       "      <th>1</th>\n",
       "      <td>tedCanId</td>\n",
       "      <td>ID TED de l’avis d’attribution du lot</td>\n",
       "      <td>Catégorielle</td>\n",
       "    </tr>\n",
       "    <tr>\n",
       "      <th>2</th>\n",
       "      <td>correctionsNb</td>\n",
       "      <td>Nombre de correctifs publiés pour ce lot</td>\n",
       "      <td>Numérique</td>\n",
       "    </tr>\n",
       "    <tr>\n",
       "      <th>3</th>\n",
       "      <td>cancelled</td>\n",
       "      <td>Booléen indiquant si l’appel d’offres du lot a été annulé</td>\n",
       "      <td>Catégorielle</td>\n",
       "    </tr>\n",
       "    <tr>\n",
       "      <th>4</th>\n",
       "      <td>awardDate</td>\n",
       "      <td>Date à laquelle la décision d’attribution a été prise pour ce lot</td>\n",
       "      <td>Catégorielle</td>\n",
       "    </tr>\n",
       "    <tr>\n",
       "      <th>5</th>\n",
       "      <td>awardEstimatedPrice</td>\n",
       "      <td>Estimation du prix du lot effectuée dans l’appel d’offres</td>\n",
       "      <td>Catégorielle</td>\n",
       "    </tr>\n",
       "    <tr>\n",
       "      <th>6</th>\n",
       "      <td>awardPrice</td>\n",
       "      <td>Prix effectif du lot indiqué dans l’avis d’attribution</td>\n",
       "      <td>Catégorielle</td>\n",
       "    </tr>\n",
       "    <tr>\n",
       "      <th>7</th>\n",
       "      <td>cpv</td>\n",
       "      <td>Code Common Procurement Vocabulary du lot</td>\n",
       "      <td>Catégorielle</td>\n",
       "    </tr>\n",
       "    <tr>\n",
       "      <th>8</th>\n",
       "      <td>numberTenders</td>\n",
       "      <td>Nombre d’offres effectuées pour le lot</td>\n",
       "      <td>Numérique</td>\n",
       "    </tr>\n",
       "    <tr>\n",
       "      <th>9</th>\n",
       "      <td>onBehalf</td>\n",
       "      <td>Booléen indiquant que l’acheteur est un groupement</td>\n",
       "      <td>Catégorielle</td>\n",
       "    </tr>\n",
       "    <tr>\n",
       "      <th>10</th>\n",
       "      <td>jointProcurement</td>\n",
       "      <td>Booléen indiquant s’il s’agit d’un marché conjoint</td>\n",
       "      <td>Catégorielle</td>\n",
       "    </tr>\n",
       "    <tr>\n",
       "      <th>11</th>\n",
       "      <td>fraAgreement</td>\n",
       "      <td>Booléen indiquant si le lot fait partie d’un accord cadre</td>\n",
       "      <td>Catégorielle</td>\n",
       "    </tr>\n",
       "    <tr>\n",
       "      <th>12</th>\n",
       "      <td>fraEstimated</td>\n",
       "      <td>Champ suggérant l’existence d’un accord cadre (le cas échéant)</td>\n",
       "      <td>Catégorielle</td>\n",
       "    </tr>\n",
       "    <tr>\n",
       "      <th>13</th>\n",
       "      <td>lotsNumber</td>\n",
       "      <td>Nombre total de lots dans la notice d’attribution</td>\n",
       "      <td>Numérique</td>\n",
       "    </tr>\n",
       "    <tr>\n",
       "      <th>14</th>\n",
       "      <td>accelerated</td>\n",
       "      <td>Booléen indiquant l’utilisation de la procédure rapide</td>\n",
       "      <td>Catégorielle</td>\n",
       "    </tr>\n",
       "    <tr>\n",
       "      <th>15</th>\n",
       "      <td>outOfDirectives</td>\n",
       "      <td>Booléen indiquant un avis d’attribution sans appel d’offres associé</td>\n",
       "      <td>Catégorielle</td>\n",
       "    </tr>\n",
       "    <tr>\n",
       "      <th>16</th>\n",
       "      <td>contractorSme</td>\n",
       "      <td>Booléen indiquant si le gagnant est une PME</td>\n",
       "      <td>Catégorielle</td>\n",
       "    </tr>\n",
       "    <tr>\n",
       "      <th>17</th>\n",
       "      <td>numberTendersSme</td>\n",
       "      <td>Nombre d’offres issues de PME pour ce lot</td>\n",
       "      <td>Numérique</td>\n",
       "    </tr>\n",
       "    <tr>\n",
       "      <th>18</th>\n",
       "      <td>subContracted</td>\n",
       "      <td>Booléen indiquant si le lot est sous-traité</td>\n",
       "      <td>Catégorielle</td>\n",
       "    </tr>\n",
       "    <tr>\n",
       "      <th>19</th>\n",
       "      <td>gpa</td>\n",
       "      <td>Booléen indiquant un lien avec l’Accord sur les Marchés Publics</td>\n",
       "      <td>Catégorielle</td>\n",
       "    </tr>\n",
       "    <tr>\n",
       "      <th>20</th>\n",
       "      <td>multipleCae</td>\n",
       "      <td>Booléen indiquant si l’avis d’attribution liste plusieurs acheteurs</td>\n",
       "      <td>Catégorielle</td>\n",
       "    </tr>\n",
       "    <tr>\n",
       "      <th>21</th>\n",
       "      <td>typeOfContract</td>\n",
       "      <td>Contrat de fournitures (S), travaux (W), ou services (U)</td>\n",
       "      <td>Catégorielle</td>\n",
       "    </tr>\n",
       "    <tr>\n",
       "      <th>22</th>\n",
       "      <td>topType</td>\n",
       "      <td>Type de procédure d’attribution</td>\n",
       "      <td>Catégorielle</td>\n",
       "    </tr>\n",
       "    <tr>\n",
       "      <th>23</th>\n",
       "      <td>renewal</td>\n",
       "      <td>Possibilité de renouveler le contrat</td>\n",
       "      <td>Catégorielle</td>\n",
       "    </tr>\n",
       "    <tr>\n",
       "      <th>24</th>\n",
       "      <td>contractDuration</td>\n",
       "      <td>Durée du contrat</td>\n",
       "      <td>Catégorielle</td>\n",
       "    </tr>\n",
       "    <tr>\n",
       "      <th>25</th>\n",
       "      <td>publicityDuration</td>\n",
       "      <td>Durée de la période de publicité de l’appel d’offres</td>\n",
       "      <td>Catégorielle</td>\n",
       "    </tr>\n",
       "  </tbody>\n",
       "</table>\n",
       "</div>"
      ],
      "text/plain": [
       "               variable  \\\n",
       "0                 lotId   \n",
       "1              tedCanId   \n",
       "2         correctionsNb   \n",
       "3             cancelled   \n",
       "4             awardDate   \n",
       "5   awardEstimatedPrice   \n",
       "6            awardPrice   \n",
       "7                   cpv   \n",
       "8         numberTenders   \n",
       "9              onBehalf   \n",
       "10     jointProcurement   \n",
       "11         fraAgreement   \n",
       "12         fraEstimated   \n",
       "13           lotsNumber   \n",
       "14          accelerated   \n",
       "15      outOfDirectives   \n",
       "16        contractorSme   \n",
       "17     numberTendersSme   \n",
       "18        subContracted   \n",
       "19                  gpa   \n",
       "20          multipleCae   \n",
       "21       typeOfContract   \n",
       "22              topType   \n",
       "23              renewal   \n",
       "24     contractDuration   \n",
       "25    publicityDuration   \n",
       "\n",
       "                                                          signification  \\\n",
       "0                                                          Clé primaire   \n",
       "1                                 ID TED de l’avis d’attribution du lot   \n",
       "2                              Nombre de correctifs publiés pour ce lot   \n",
       "3             Booléen indiquant si l’appel d’offres du lot a été annulé   \n",
       "4     Date à laquelle la décision d’attribution a été prise pour ce lot   \n",
       "5             Estimation du prix du lot effectuée dans l’appel d’offres   \n",
       "6                Prix effectif du lot indiqué dans l’avis d’attribution   \n",
       "7                             Code Common Procurement Vocabulary du lot   \n",
       "8                                Nombre d’offres effectuées pour le lot   \n",
       "9                    Booléen indiquant que l’acheteur est un groupement   \n",
       "10                   Booléen indiquant s’il s’agit d’un marché conjoint   \n",
       "11            Booléen indiquant si le lot fait partie d’un accord cadre   \n",
       "12       Champ suggérant l’existence d’un accord cadre (le cas échéant)   \n",
       "13                    Nombre total de lots dans la notice d’attribution   \n",
       "14               Booléen indiquant l’utilisation de la procédure rapide   \n",
       "15  Booléen indiquant un avis d’attribution sans appel d’offres associé   \n",
       "16                          Booléen indiquant si le gagnant est une PME   \n",
       "17                            Nombre d’offres issues de PME pour ce lot   \n",
       "18                          Booléen indiquant si le lot est sous-traité   \n",
       "19      Booléen indiquant un lien avec l’Accord sur les Marchés Publics   \n",
       "20  Booléen indiquant si l’avis d’attribution liste plusieurs acheteurs   \n",
       "21             Contrat de fournitures (S), travaux (W), ou services (U)   \n",
       "22                                      Type de procédure d’attribution   \n",
       "23                                 Possibilité de renouveler le contrat   \n",
       "24                                                     Durée du contrat   \n",
       "25                 Durée de la période de publicité de l’appel d’offres   \n",
       "\n",
       "          nature  \n",
       "0   Catégorielle  \n",
       "1   Catégorielle  \n",
       "2      Numérique  \n",
       "3   Catégorielle  \n",
       "4   Catégorielle  \n",
       "5   Catégorielle  \n",
       "6   Catégorielle  \n",
       "7   Catégorielle  \n",
       "8      Numérique  \n",
       "9   Catégorielle  \n",
       "10  Catégorielle  \n",
       "11  Catégorielle  \n",
       "12  Catégorielle  \n",
       "13     Numérique  \n",
       "14  Catégorielle  \n",
       "15  Catégorielle  \n",
       "16  Catégorielle  \n",
       "17     Numérique  \n",
       "18  Catégorielle  \n",
       "19  Catégorielle  \n",
       "20  Catégorielle  \n",
       "21  Catégorielle  \n",
       "22  Catégorielle  \n",
       "23  Catégorielle  \n",
       "24  Catégorielle  \n",
       "25  Catégorielle  "
      ]
     },
     "execution_count": 5,
     "metadata": {},
     "output_type": "execute_result"
    }
   ],
   "source": [
    "lots_metadata"
   ]
  },
  {
   "cell_type": "markdown",
   "id": "88f3104e",
   "metadata": {},
   "source": [
    "## Distribution de la nature"
   ]
  },
  {
   "cell_type": "code",
   "execution_count": 6,
   "id": "b3809fa6",
   "metadata": {},
   "outputs": [],
   "source": [
    "nature = lots_metadata['nature']"
   ]
  },
  {
   "cell_type": "code",
   "execution_count": 7,
   "id": "f0de0ce1",
   "metadata": {},
   "outputs": [],
   "source": [
    "nature_vc = nature.value_counts()"
   ]
  },
  {
   "cell_type": "code",
   "execution_count": 8,
   "id": "5bd3808f",
   "metadata": {},
   "outputs": [
    {
     "data": {
      "text/plain": [
       "Catégorielle    22\n",
       "Numérique        4\n",
       "Name: nature, dtype: int64"
      ]
     },
     "execution_count": 8,
     "metadata": {},
     "output_type": "execute_result"
    }
   ],
   "source": [
    "nature_vc"
   ]
  },
  {
   "cell_type": "code",
   "execution_count": 9,
   "id": "e2a5cece",
   "metadata": {},
   "outputs": [],
   "source": [
    "data = pd.DataFrame({\n",
    "        'label':nature_vc.index.values\n",
    "})\n",
    "data[\"nature\"] = nature_vc.values\n",
    "data[\"proportion\"] = (data[\"nature\"]/ data[\"nature\"].sum())*100"
   ]
  },
  {
   "cell_type": "code",
   "execution_count": 10,
   "id": "68fc0169",
   "metadata": {},
   "outputs": [
    {
     "data": {
      "text/html": [
       "<div>\n",
       "<style scoped>\n",
       "    .dataframe tbody tr th:only-of-type {\n",
       "        vertical-align: middle;\n",
       "    }\n",
       "\n",
       "    .dataframe tbody tr th {\n",
       "        vertical-align: top;\n",
       "    }\n",
       "\n",
       "    .dataframe thead th {\n",
       "        text-align: right;\n",
       "    }\n",
       "</style>\n",
       "<table border=\"1\" class=\"dataframe\">\n",
       "  <thead>\n",
       "    <tr style=\"text-align: right;\">\n",
       "      <th></th>\n",
       "      <th>label</th>\n",
       "      <th>nature</th>\n",
       "      <th>proportion</th>\n",
       "    </tr>\n",
       "  </thead>\n",
       "  <tbody>\n",
       "    <tr>\n",
       "      <th>0</th>\n",
       "      <td>Catégorielle</td>\n",
       "      <td>22</td>\n",
       "      <td>84.615385</td>\n",
       "    </tr>\n",
       "    <tr>\n",
       "      <th>1</th>\n",
       "      <td>Numérique</td>\n",
       "      <td>4</td>\n",
       "      <td>15.384615</td>\n",
       "    </tr>\n",
       "  </tbody>\n",
       "</table>\n",
       "</div>"
      ],
      "text/plain": [
       "          label  nature  proportion\n",
       "0  Catégorielle      22   84.615385\n",
       "1     Numérique       4   15.384615"
      ]
     },
     "execution_count": 10,
     "metadata": {},
     "output_type": "execute_result"
    }
   ],
   "source": [
    "data"
   ]
  },
  {
   "cell_type": "markdown",
   "id": "cdefcd45",
   "metadata": {},
   "source": [
    "Nous pouvons voir que sur **26** variables, nous n'avons que **4 (15.38%)** qui sont numériques et les autres sont catégorielles"
   ]
  },
  {
   "cell_type": "code",
   "execution_count": 11,
   "id": "fd0cc325",
   "metadata": {},
   "outputs": [],
   "source": [
    "import matplotlib.pyplot as plt"
   ]
  },
  {
   "cell_type": "code",
   "execution_count": 12,
   "id": "950875c3",
   "metadata": {},
   "outputs": [],
   "source": [
    "def plot_nature_1(data, logy=True):\n",
    "    # Creating the bar plot\n",
    "    plt.figure(figsize=(8, 6))\n",
    "    \n",
    "    # Utiliser une colormap pour les couleurs des barres\n",
    "    colors = plt.cm.viridis(data[\"proportion\"]/100) \n",
    "\n",
    "    # Ajouter une barre de couleur (légende) pour indiquer les valeurs\n",
    "    cbar = plt.colorbar(plt.cm.ScalarMappable(cmap='viridis'))\n",
    "    cbar.set_label('Couleurs')\n",
    "    \n",
    "    X = data[\"label\"]\n",
    "    y = data[\"proportion\"]\n",
    "    plt.bar(X, y, color=colors)\n",
    "    # Adding titles and labels\n",
    "    plt.title(\"Nature des variables\")\n",
    "    plt.xlabel(\"Nature\")\n",
    "    plt.ylabel(\"Proportion des variables\")\n",
    "    # plt.xticks(rotation=90)\n",
    "    if logy:\n",
    "        plt.yscale('log')\n",
    "    plt.show()"
   ]
  },
  {
   "cell_type": "code",
   "execution_count": 13,
   "id": "bda81bc8",
   "metadata": {},
   "outputs": [
    {
     "data": {
      "image/png": "[encoded data removed]",
      "text/plain": [
       "<Figure size 800x600 with 2 Axes>"
      ]
     },
     "metadata": {},
     "output_type": "display_data"
    }
   ],
   "source": [
    "plot_nature_1(data, logy=False)"
   ]
  },
  {
   "cell_type": "markdown",
   "id": "2be6f39d",
   "metadata": {},
   "source": [
    "# Les corrélations à calculer"
   ]
  },
  {
   "cell_type": "markdown",
   "id": "b4d42308",
   "metadata": {},
   "source": [
    "Nous avons **26 attributs**, pour calculer les correlations, nous commençons d'abord par enlever les identificants ou codes, car leur objectif c'est juste d'identifier les éléments.\n",
    "\n",
    "Dans notre cas nous avons **3 attributs** qui sont des codes: **lotId**, **tedCanId** et **cpv**\n",
    "\n",
    "Donc il nous reste **23 variables** et dans ces **23 attributs**, nous enlevons ceux qui ont assez de valeurs manquantes, c'est-à-dire dont la proportion de valeurs manquantes est **supérieure ou égale à 50%**"
   ]
  },
  {
   "cell_type": "code",
   "execution_count": 84,
   "id": "911a862e",
   "metadata": {},
   "outputs": [],
   "source": [
    "nan_counts_df = lots.isna().sum().reset_index()\n",
    "nan_counts_df.columns = ['variable', 'nan_count']\n",
    "nan_counts_df['proprotion'] = (nan_counts_df['nan_count']/len(lots))*100\n",
    "nan_counts_df['calculer'] = nan_counts_df['proprotion'].apply(lambda x: 'OUI' if x < 50 else 'NON')"
   ]
  },
  {
   "cell_type": "code",
   "execution_count": 85,
   "id": "535b43fe",
   "metadata": {},
   "outputs": [
    {
     "data": {
      "text/html": [
       "<div>\n",
       "<style scoped>\n",
       "    .dataframe tbody tr th:only-of-type {\n",
       "        vertical-align: middle;\n",
       "    }\n",
       "\n",
       "    .dataframe tbody tr th {\n",
       "        vertical-align: top;\n",
       "    }\n",
       "\n",
       "    .dataframe thead th {\n",
       "        text-align: right;\n",
       "    }\n",
       "</style>\n",
       "<table border=\"1\" class=\"dataframe\">\n",
       "  <thead>\n",
       "    <tr style=\"text-align: right;\">\n",
       "      <th></th>\n",
       "      <th>variable</th>\n",
       "      <th>nan_count</th>\n",
       "      <th>proprotion</th>\n",
       "      <th>calculer</th>\n",
       "    </tr>\n",
       "  </thead>\n",
       "  <tbody>\n",
       "    <tr>\n",
       "      <th>0</th>\n",
       "      <td>lotId</td>\n",
       "      <td>0</td>\n",
       "      <td>0.000000</td>\n",
       "      <td>OUI</td>\n",
       "    </tr>\n",
       "    <tr>\n",
       "      <th>1</th>\n",
       "      <td>tedCanId</td>\n",
       "      <td>0</td>\n",
       "      <td>0.000000</td>\n",
       "      <td>OUI</td>\n",
       "    </tr>\n",
       "    <tr>\n",
       "      <th>2</th>\n",
       "      <td>correctionsNb</td>\n",
       "      <td>0</td>\n",
       "      <td>0.000000</td>\n",
       "      <td>OUI</td>\n",
       "    </tr>\n",
       "    <tr>\n",
       "      <th>3</th>\n",
       "      <td>cancelled</td>\n",
       "      <td>0</td>\n",
       "      <td>0.000000</td>\n",
       "      <td>OUI</td>\n",
       "    </tr>\n",
       "    <tr>\n",
       "      <th>4</th>\n",
       "      <td>awardDate</td>\n",
       "      <td>186671</td>\n",
       "      <td>13.517432</td>\n",
       "      <td>OUI</td>\n",
       "    </tr>\n",
       "    <tr>\n",
       "      <th>5</th>\n",
       "      <td>awardEstimatedPrice</td>\n",
       "      <td>1191352</td>\n",
       "      <td>86.269529</td>\n",
       "      <td>NON</td>\n",
       "    </tr>\n",
       "    <tr>\n",
       "      <th>6</th>\n",
       "      <td>awardPrice</td>\n",
       "      <td>426323</td>\n",
       "      <td>30.871383</td>\n",
       "      <td>OUI</td>\n",
       "    </tr>\n",
       "    <tr>\n",
       "      <th>7</th>\n",
       "      <td>cpv</td>\n",
       "      <td>71</td>\n",
       "      <td>0.005141</td>\n",
       "      <td>OUI</td>\n",
       "    </tr>\n",
       "    <tr>\n",
       "      <th>8</th>\n",
       "      <td>numberTenders</td>\n",
       "      <td>424099</td>\n",
       "      <td>30.710337</td>\n",
       "      <td>OUI</td>\n",
       "    </tr>\n",
       "    <tr>\n",
       "      <th>9</th>\n",
       "      <td>onBehalf</td>\n",
       "      <td>282543</td>\n",
       "      <td>20.459823</td>\n",
       "      <td>OUI</td>\n",
       "    </tr>\n",
       "    <tr>\n",
       "      <th>10</th>\n",
       "      <td>jointProcurement</td>\n",
       "      <td>842210</td>\n",
       "      <td>60.987063</td>\n",
       "      <td>NON</td>\n",
       "    </tr>\n",
       "    <tr>\n",
       "      <th>11</th>\n",
       "      <td>fraAgreement</td>\n",
       "      <td>0</td>\n",
       "      <td>0.000000</td>\n",
       "      <td>OUI</td>\n",
       "    </tr>\n",
       "    <tr>\n",
       "      <th>12</th>\n",
       "      <td>fraEstimated</td>\n",
       "      <td>1142255</td>\n",
       "      <td>82.714261</td>\n",
       "      <td>NON</td>\n",
       "    </tr>\n",
       "    <tr>\n",
       "      <th>13</th>\n",
       "      <td>lotsNumber</td>\n",
       "      <td>295428</td>\n",
       "      <td>21.392867</td>\n",
       "      <td>OUI</td>\n",
       "    </tr>\n",
       "    <tr>\n",
       "      <th>14</th>\n",
       "      <td>accelerated</td>\n",
       "      <td>1378410</td>\n",
       "      <td>99.814984</td>\n",
       "      <td>NON</td>\n",
       "    </tr>\n",
       "    <tr>\n",
       "      <th>15</th>\n",
       "      <td>outOfDirectives</td>\n",
       "      <td>0</td>\n",
       "      <td>0.000000</td>\n",
       "      <td>OUI</td>\n",
       "    </tr>\n",
       "    <tr>\n",
       "      <th>16</th>\n",
       "      <td>contractorSme</td>\n",
       "      <td>935433</td>\n",
       "      <td>67.737633</td>\n",
       "      <td>NON</td>\n",
       "    </tr>\n",
       "    <tr>\n",
       "      <th>17</th>\n",
       "      <td>numberTendersSme</td>\n",
       "      <td>1336939</td>\n",
       "      <td>96.811939</td>\n",
       "      <td>NON</td>\n",
       "    </tr>\n",
       "    <tr>\n",
       "      <th>18</th>\n",
       "      <td>subContracted</td>\n",
       "      <td>681245</td>\n",
       "      <td>49.331084</td>\n",
       "      <td>OUI</td>\n",
       "    </tr>\n",
       "    <tr>\n",
       "      <th>19</th>\n",
       "      <td>gpa</td>\n",
       "      <td>295339</td>\n",
       "      <td>21.386422</td>\n",
       "      <td>OUI</td>\n",
       "    </tr>\n",
       "    <tr>\n",
       "      <th>20</th>\n",
       "      <td>multipleCae</td>\n",
       "      <td>839716</td>\n",
       "      <td>60.806465</td>\n",
       "      <td>NON</td>\n",
       "    </tr>\n",
       "    <tr>\n",
       "      <th>21</th>\n",
       "      <td>typeOfContract</td>\n",
       "      <td>0</td>\n",
       "      <td>0.000000</td>\n",
       "      <td>OUI</td>\n",
       "    </tr>\n",
       "    <tr>\n",
       "      <th>22</th>\n",
       "      <td>topType</td>\n",
       "      <td>191</td>\n",
       "      <td>0.013831</td>\n",
       "      <td>OUI</td>\n",
       "    </tr>\n",
       "    <tr>\n",
       "      <th>23</th>\n",
       "      <td>renewal</td>\n",
       "      <td>663837</td>\n",
       "      <td>48.070516</td>\n",
       "      <td>OUI</td>\n",
       "    </tr>\n",
       "    <tr>\n",
       "      <th>24</th>\n",
       "      <td>contractDuration</td>\n",
       "      <td>538197</td>\n",
       "      <td>38.972530</td>\n",
       "      <td>OUI</td>\n",
       "    </tr>\n",
       "    <tr>\n",
       "      <th>25</th>\n",
       "      <td>publicityDuration</td>\n",
       "      <td>345591</td>\n",
       "      <td>25.025326</td>\n",
       "      <td>OUI</td>\n",
       "    </tr>\n",
       "  </tbody>\n",
       "</table>\n",
       "</div>"
      ],
      "text/plain": [
       "               variable  nan_count  proprotion calculer\n",
       "0                 lotId          0    0.000000      OUI\n",
       "1              tedCanId          0    0.000000      OUI\n",
       "2         correctionsNb          0    0.000000      OUI\n",
       "3             cancelled          0    0.000000      OUI\n",
       "4             awardDate     186671   13.517432      OUI\n",
       "5   awardEstimatedPrice    1191352   86.269529      NON\n",
       "6            awardPrice     426323   30.871383      OUI\n",
       "7                   cpv         71    0.005141      OUI\n",
       "8         numberTenders     424099   30.710337      OUI\n",
       "9              onBehalf     282543   20.459823      OUI\n",
       "10     jointProcurement     842210   60.987063      NON\n",
       "11         fraAgreement          0    0.000000      OUI\n",
       "12         fraEstimated    1142255   82.714261      NON\n",
       "13           lotsNumber     295428   21.392867      OUI\n",
       "14          accelerated    1378410   99.814984      NON\n",
       "15      outOfDirectives          0    0.000000      OUI\n",
       "16        contractorSme     935433   67.737633      NON\n",
       "17     numberTendersSme    1336939   96.811939      NON\n",
       "18        subContracted     681245   49.331084      OUI\n",
       "19                  gpa     295339   21.386422      OUI\n",
       "20          multipleCae     839716   60.806465      NON\n",
       "21       typeOfContract          0    0.000000      OUI\n",
       "22              topType        191    0.013831      OUI\n",
       "23              renewal     663837   48.070516      OUI\n",
       "24     contractDuration     538197   38.972530      OUI\n",
       "25    publicityDuration     345591   25.025326      OUI"
      ]
     },
     "execution_count": 85,
     "metadata": {},
     "output_type": "execute_result"
    }
   ],
   "source": [
    "nan_counts_df"
   ]
  },
  {
   "cell_type": "code",
   "execution_count": 103,
   "id": "aadbfdc3",
   "metadata": {},
   "outputs": [],
   "source": [
    "to_calcul_df = nan_counts_df[\n",
    "    (~nan_counts_df['variable'].isin(['lotId', 'tedCanId', 'cpv']))&\n",
    "    (nan_counts_df['calculer'] == 'OUI')\n",
    "].reset_index(drop=True)"
   ]
  },
  {
   "cell_type": "code",
   "execution_count": 104,
   "id": "92bd2827",
   "metadata": {},
   "outputs": [
    {
     "data": {
      "text/html": [
       "<div>\n",
       "<style scoped>\n",
       "    .dataframe tbody tr th:only-of-type {\n",
       "        vertical-align: middle;\n",
       "    }\n",
       "\n",
       "    .dataframe tbody tr th {\n",
       "        vertical-align: top;\n",
       "    }\n",
       "\n",
       "    .dataframe thead th {\n",
       "        text-align: right;\n",
       "    }\n",
       "</style>\n",
       "<table border=\"1\" class=\"dataframe\">\n",
       "  <thead>\n",
       "    <tr style=\"text-align: right;\">\n",
       "      <th></th>\n",
       "      <th>variable</th>\n",
       "      <th>nan_count</th>\n",
       "      <th>proprotion</th>\n",
       "      <th>calculer</th>\n",
       "    </tr>\n",
       "  </thead>\n",
       "  <tbody>\n",
       "    <tr>\n",
       "      <th>0</th>\n",
       "      <td>correctionsNb</td>\n",
       "      <td>0</td>\n",
       "      <td>0.000000</td>\n",
       "      <td>OUI</td>\n",
       "    </tr>\n",
       "    <tr>\n",
       "      <th>1</th>\n",
       "      <td>cancelled</td>\n",
       "      <td>0</td>\n",
       "      <td>0.000000</td>\n",
       "      <td>OUI</td>\n",
       "    </tr>\n",
       "    <tr>\n",
       "      <th>2</th>\n",
       "      <td>awardDate</td>\n",
       "      <td>186671</td>\n",
       "      <td>13.517432</td>\n",
       "      <td>OUI</td>\n",
       "    </tr>\n",
       "    <tr>\n",
       "      <th>3</th>\n",
       "      <td>awardPrice</td>\n",
       "      <td>426323</td>\n",
       "      <td>30.871383</td>\n",
       "      <td>OUI</td>\n",
       "    </tr>\n",
       "    <tr>\n",
       "      <th>4</th>\n",
       "      <td>numberTenders</td>\n",
       "      <td>424099</td>\n",
       "      <td>30.710337</td>\n",
       "      <td>OUI</td>\n",
       "    </tr>\n",
       "    <tr>\n",
       "      <th>5</th>\n",
       "      <td>onBehalf</td>\n",
       "      <td>282543</td>\n",
       "      <td>20.459823</td>\n",
       "      <td>OUI</td>\n",
       "    </tr>\n",
       "    <tr>\n",
       "      <th>6</th>\n",
       "      <td>fraAgreement</td>\n",
       "      <td>0</td>\n",
       "      <td>0.000000</td>\n",
       "      <td>OUI</td>\n",
       "    </tr>\n",
       "    <tr>\n",
       "      <th>7</th>\n",
       "      <td>lotsNumber</td>\n",
       "      <td>295428</td>\n",
       "      <td>21.392867</td>\n",
       "      <td>OUI</td>\n",
       "    </tr>\n",
       "    <tr>\n",
       "      <th>8</th>\n",
       "      <td>outOfDirectives</td>\n",
       "      <td>0</td>\n",
       "      <td>0.000000</td>\n",
       "      <td>OUI</td>\n",
       "    </tr>\n",
       "    <tr>\n",
       "      <th>9</th>\n",
       "      <td>subContracted</td>\n",
       "      <td>681245</td>\n",
       "      <td>49.331084</td>\n",
       "      <td>OUI</td>\n",
       "    </tr>\n",
       "    <tr>\n",
       "      <th>10</th>\n",
       "      <td>gpa</td>\n",
       "      <td>295339</td>\n",
       "      <td>21.386422</td>\n",
       "      <td>OUI</td>\n",
       "    </tr>\n",
       "    <tr>\n",
       "      <th>11</th>\n",
       "      <td>typeOfContract</td>\n",
       "      <td>0</td>\n",
       "      <td>0.000000</td>\n",
       "      <td>OUI</td>\n",
       "    </tr>\n",
       "    <tr>\n",
       "      <th>12</th>\n",
       "      <td>topType</td>\n",
       "      <td>191</td>\n",
       "      <td>0.013831</td>\n",
       "      <td>OUI</td>\n",
       "    </tr>\n",
       "    <tr>\n",
       "      <th>13</th>\n",
       "      <td>renewal</td>\n",
       "      <td>663837</td>\n",
       "      <td>48.070516</td>\n",
       "      <td>OUI</td>\n",
       "    </tr>\n",
       "    <tr>\n",
       "      <th>14</th>\n",
       "      <td>contractDuration</td>\n",
       "      <td>538197</td>\n",
       "      <td>38.972530</td>\n",
       "      <td>OUI</td>\n",
       "    </tr>\n",
       "    <tr>\n",
       "      <th>15</th>\n",
       "      <td>publicityDuration</td>\n",
       "      <td>345591</td>\n",
       "      <td>25.025326</td>\n",
       "      <td>OUI</td>\n",
       "    </tr>\n",
       "  </tbody>\n",
       "</table>\n",
       "</div>"
      ],
      "text/plain": [
       "             variable  nan_count  proprotion calculer\n",
       "0       correctionsNb          0    0.000000      OUI\n",
       "1           cancelled          0    0.000000      OUI\n",
       "2           awardDate     186671   13.517432      OUI\n",
       "3          awardPrice     426323   30.871383      OUI\n",
       "4       numberTenders     424099   30.710337      OUI\n",
       "5            onBehalf     282543   20.459823      OUI\n",
       "6        fraAgreement          0    0.000000      OUI\n",
       "7          lotsNumber     295428   21.392867      OUI\n",
       "8     outOfDirectives          0    0.000000      OUI\n",
       "9       subContracted     681245   49.331084      OUI\n",
       "10                gpa     295339   21.386422      OUI\n",
       "11     typeOfContract          0    0.000000      OUI\n",
       "12            topType        191    0.013831      OUI\n",
       "13            renewal     663837   48.070516      OUI\n",
       "14   contractDuration     538197   38.972530      OUI\n",
       "15  publicityDuration     345591   25.025326      OUI"
      ]
     },
     "execution_count": 104,
     "metadata": {},
     "output_type": "execute_result"
    }
   ],
   "source": [
    "to_calcul_df"
   ]
  },
  {
   "cell_type": "code",
   "execution_count": 95,
   "id": "94108f21",
   "metadata": {},
   "outputs": [],
   "source": [
    "import math"
   ]
  },
  {
   "cell_type": "code",
   "execution_count": 107,
   "id": "7beea214",
   "metadata": {},
   "outputs": [],
   "source": [
    "n_variables = len(to_calcul_df)\n",
    "n_correlations = math.factorial(n_variables) // (math.factorial(2)*math.factorial(n_variables-2))"
   ]
  },
  {
   "cell_type": "code",
   "execution_count": 106,
   "id": "ef8b0104",
   "metadata": {},
   "outputs": [
    {
     "data": {
      "text/plain": [
       "16"
      ]
     },
     "execution_count": 106,
     "metadata": {},
     "output_type": "execute_result"
    }
   ],
   "source": [
    "n_variables"
   ]
  },
  {
   "cell_type": "code",
   "execution_count": 108,
   "id": "71e23480",
   "metadata": {},
   "outputs": [
    {
     "data": {
      "text/plain": [
       "120"
      ]
     },
     "execution_count": 108,
     "metadata": {},
     "output_type": "execute_result"
    }
   ],
   "source": [
    "n_correlations"
   ]
  },
  {
   "cell_type": "markdown",
   "id": "9deeb144",
   "metadata": {},
   "source": [
    "Après calcul nous reste **16 variables** donc nous avons :\n",
    "\n",
    "$$ C_{16}^{2} = \\frac{16!}{2!(16-2)!}$$\n",
    "\n",
    "Ce qui nous fait **120** correlations à calculer"
   ]
  },
  {
   "cell_type": "markdown",
   "id": "53ce2bc3",
   "metadata": {},
   "source": [
    "# Correlation entre cancelled et correctionsNb"
   ]
  },
  {
   "cell_type": "code",
   "execution_count": 14,
   "id": "f7a7d9fa",
   "metadata": {},
   "outputs": [],
   "source": [
    "df = lots[['correctionsNb', 'cancelled']]"
   ]
  },
  {
   "cell_type": "code",
   "execution_count": 15,
   "id": "8f79656e",
   "metadata": {},
   "outputs": [
    {
     "data": {
      "text/html": [
       "<div>\n",
       "<style scoped>\n",
       "    .dataframe tbody tr th:only-of-type {\n",
       "        vertical-align: middle;\n",
       "    }\n",
       "\n",
       "    .dataframe tbody tr th {\n",
       "        vertical-align: top;\n",
       "    }\n",
       "\n",
       "    .dataframe thead th {\n",
       "        text-align: right;\n",
       "    }\n",
       "</style>\n",
       "<table border=\"1\" class=\"dataframe\">\n",
       "  <thead>\n",
       "    <tr style=\"text-align: right;\">\n",
       "      <th></th>\n",
       "      <th>correctionsNb</th>\n",
       "      <th>cancelled</th>\n",
       "    </tr>\n",
       "  </thead>\n",
       "  <tbody>\n",
       "    <tr>\n",
       "      <th>0</th>\n",
       "      <td>0</td>\n",
       "      <td>0</td>\n",
       "    </tr>\n",
       "    <tr>\n",
       "      <th>1</th>\n",
       "      <td>0</td>\n",
       "      <td>0</td>\n",
       "    </tr>\n",
       "    <tr>\n",
       "      <th>2</th>\n",
       "      <td>0</td>\n",
       "      <td>0</td>\n",
       "    </tr>\n",
       "    <tr>\n",
       "      <th>3</th>\n",
       "      <td>0</td>\n",
       "      <td>0</td>\n",
       "    </tr>\n",
       "    <tr>\n",
       "      <th>4</th>\n",
       "      <td>0</td>\n",
       "      <td>0</td>\n",
       "    </tr>\n",
       "    <tr>\n",
       "      <th>...</th>\n",
       "      <td>...</td>\n",
       "      <td>...</td>\n",
       "    </tr>\n",
       "    <tr>\n",
       "      <th>1380960</th>\n",
       "      <td>0</td>\n",
       "      <td>0</td>\n",
       "    </tr>\n",
       "    <tr>\n",
       "      <th>1380961</th>\n",
       "      <td>0</td>\n",
       "      <td>0</td>\n",
       "    </tr>\n",
       "    <tr>\n",
       "      <th>1380962</th>\n",
       "      <td>0</td>\n",
       "      <td>0</td>\n",
       "    </tr>\n",
       "    <tr>\n",
       "      <th>1380963</th>\n",
       "      <td>0</td>\n",
       "      <td>0</td>\n",
       "    </tr>\n",
       "    <tr>\n",
       "      <th>1380964</th>\n",
       "      <td>0</td>\n",
       "      <td>0</td>\n",
       "    </tr>\n",
       "  </tbody>\n",
       "</table>\n",
       "<p>1380965 rows × 2 columns</p>\n",
       "</div>"
      ],
      "text/plain": [
       "         correctionsNb  cancelled\n",
       "0                    0          0\n",
       "1                    0          0\n",
       "2                    0          0\n",
       "3                    0          0\n",
       "4                    0          0\n",
       "...                ...        ...\n",
       "1380960              0          0\n",
       "1380961              0          0\n",
       "1380962              0          0\n",
       "1380963              0          0\n",
       "1380964              0          0\n",
       "\n",
       "[1380965 rows x 2 columns]"
      ]
     },
     "execution_count": 15,
     "metadata": {},
     "output_type": "execute_result"
    }
   ],
   "source": [
    "df"
   ]
  },
  {
   "cell_type": "code",
   "execution_count": 16,
   "id": "960b221b",
   "metadata": {},
   "outputs": [
    {
     "data": {
      "text/plain": [
       "0    1380685\n",
       "1        280\n",
       "Name: cancelled, dtype: int64"
      ]
     },
     "execution_count": 16,
     "metadata": {},
     "output_type": "execute_result"
    }
   ],
   "source": [
    "df['cancelled'].value_counts()"
   ]
  },
  {
   "cell_type": "code",
   "execution_count": 17,
   "id": "a8506983",
   "metadata": {},
   "outputs": [
    {
     "data": {
      "text/plain": [
       "0    1375786\n",
       "1       5089\n",
       "2         90\n",
       "Name: correctionsNb, dtype: int64"
      ]
     },
     "execution_count": 17,
     "metadata": {},
     "output_type": "execute_result"
    }
   ],
   "source": [
    "df['correctionsNb'].value_counts()"
   ]
  },
  {
   "cell_type": "markdown",
   "id": "80b56eca",
   "metadata": {},
   "source": [
    "## Graphe de corrélation"
   ]
  },
  {
   "cell_type": "code",
   "execution_count": 18,
   "id": "ddfd26d3",
   "metadata": {},
   "outputs": [],
   "source": [
    "gb_1 = df.groupby(['cancelled', 'correctionsNb']).size().unstack(fill_value=0)"
   ]
  },
  {
   "cell_type": "code",
   "execution_count": 19,
   "id": "8b0ec76f",
   "metadata": {},
   "outputs": [
    {
     "data": {
      "text/html": [
       "<div>\n",
       "<style scoped>\n",
       "    .dataframe tbody tr th:only-of-type {\n",
       "        vertical-align: middle;\n",
       "    }\n",
       "\n",
       "    .dataframe tbody tr th {\n",
       "        vertical-align: top;\n",
       "    }\n",
       "\n",
       "    .dataframe thead th {\n",
       "        text-align: right;\n",
       "    }\n",
       "</style>\n",
       "<table border=\"1\" class=\"dataframe\">\n",
       "  <thead>\n",
       "    <tr style=\"text-align: right;\">\n",
       "      <th>correctionsNb</th>\n",
       "      <th>0</th>\n",
       "      <th>1</th>\n",
       "      <th>2</th>\n",
       "    </tr>\n",
       "    <tr>\n",
       "      <th>cancelled</th>\n",
       "      <th></th>\n",
       "      <th></th>\n",
       "      <th></th>\n",
       "    </tr>\n",
       "  </thead>\n",
       "  <tbody>\n",
       "    <tr>\n",
       "      <th>0</th>\n",
       "      <td>1375507</td>\n",
       "      <td>5088</td>\n",
       "      <td>90</td>\n",
       "    </tr>\n",
       "    <tr>\n",
       "      <th>1</th>\n",
       "      <td>279</td>\n",
       "      <td>1</td>\n",
       "      <td>0</td>\n",
       "    </tr>\n",
       "  </tbody>\n",
       "</table>\n",
       "</div>"
      ],
      "text/plain": [
       "correctionsNb        0     1   2\n",
       "cancelled                       \n",
       "0              1375507  5088  90\n",
       "1                  279     1   0"
      ]
     },
     "execution_count": 19,
     "metadata": {},
     "output_type": "execute_result"
    }
   ],
   "source": [
    "gb_1"
   ]
  },
  {
   "cell_type": "code",
   "execution_count": 20,
   "id": "ec6ece48",
   "metadata": {},
   "outputs": [],
   "source": [
    "def corr_cancelled_correctionsNb_1(data, logy=True):\n",
    "    data.plot(kind='bar', stacked=False)\n",
    "    # Adding titles and labels\n",
    "    plt.title(\"Correlation entre annulation et nombre de correction\")\n",
    "    plt.xlabel('Annulation')\n",
    "    plt.ylabel('Nombre de correction')\n",
    "    if logy:\n",
    "        plt.yscale('log')\n",
    "    plt.show()"
   ]
  },
  {
   "cell_type": "code",
   "execution_count": 21,
   "id": "cbd00f04",
   "metadata": {},
   "outputs": [
    {
     "data": {
      "image/png": "[encoded data removed]",
      "text/plain": [
       "<Figure size 640x480 with 1 Axes>"
      ]
     },
     "metadata": {},
     "output_type": "display_data"
    }
   ],
   "source": [
    "corr_cancelled_correctionsNb_1(gb_1)"
   ]
  },
  {
   "cell_type": "markdown",
   "id": "3e8ceaf2",
   "metadata": {},
   "source": [
    "Nous pouvons voir que le plus grand nombre de lots sont les lots n'ayant pas été modifié et n'ayant pas été annulé"
   ]
  },
  {
   "cell_type": "markdown",
   "id": "b1b2ff86",
   "metadata": {},
   "source": [
    "## Coéfficient de corrélation"
   ]
  },
  {
   "cell_type": "markdown",
   "id": "92bc5213",
   "metadata": {},
   "source": [
    "La variable **cancelled** étant une variable **catégorielle binaire** et **correctionsNb** étant une variable numérique, nous allons étudier le **coefficient de corrélation bisérial point** pour mésurer la correlation entre ces 2 variables"
   ]
  },
  {
   "cell_type": "code",
   "execution_count": 22,
   "id": "9d212845",
   "metadata": {},
   "outputs": [],
   "source": [
    "from scipy.stats import pointbiserialr"
   ]
  },
  {
   "cell_type": "code",
   "execution_count": 23,
   "id": "b31f14e8",
   "metadata": {},
   "outputs": [],
   "source": [
    "binary_attribute = df['cancelled'].astype('category')\n",
    "numeric_attribute= df['correctionsNb'].astype(int)\n",
    "corr_coeff, p_value = pointbiserialr(binary_attribute, numeric_attribute)"
   ]
  },
  {
   "cell_type": "code",
   "execution_count": 24,
   "id": "cd444357",
   "metadata": {},
   "outputs": [
    {
     "data": {
      "text/plain": [
       "-5.542318591446514e-05"
      ]
     },
     "execution_count": 24,
     "metadata": {},
     "output_type": "execute_result"
    }
   ],
   "source": [
    "corr_coeff"
   ]
  },
  {
   "cell_type": "markdown",
   "id": "1f8e4ce7",
   "metadata": {},
   "source": [
    "Nous pouvons voir que cette valeur valeur est **négative** et **assez proche de 0**, donc nous pouvons dire qu'il n'y a **pas de correlation** entre le nombre de correction apporté à un lot et son annulatiaon"
   ]
  },
  {
   "cell_type": "code",
   "execution_count": 25,
   "id": "6c406684",
   "metadata": {},
   "outputs": [
    {
     "data": {
      "text/plain": [
       "0.9480703249740478"
      ]
     },
     "execution_count": 25,
     "metadata": {},
     "output_type": "execute_result"
    }
   ],
   "source": [
    "p_value"
   ]
  },
  {
   "cell_type": "markdown",
   "id": "5d279307",
   "metadata": {},
   "source": [
    "Le fait que la valeur de **p_value** soit aussi **élévée** nous permet de dire que la corrélation entre le nombre de lots et son annulation est **simplement dû au hasard** ou n'est pas **statistiquement significatif**"
   ]
  },
  {
   "cell_type": "markdown",
   "id": "89e2a9d1",
   "metadata": {},
   "source": [
    "Vu que les 2 variables n'ont pas assez de valeurs unique, nous pouvons créer un tableau de contigence pour ces variables puis calculer le coefficient de corrélation"
   ]
  },
  {
   "cell_type": "code",
   "execution_count": 26,
   "id": "1a3c7b3d",
   "metadata": {},
   "outputs": [],
   "source": [
    "from scipy.stats import chi2_contingency"
   ]
  },
  {
   "cell_type": "code",
   "execution_count": 27,
   "id": "3a2508f7",
   "metadata": {},
   "outputs": [],
   "source": [
    "var1 = df['cancelled'].astype('category')\n",
    "var2 = df['correctionsNb'].astype('category')"
   ]
  },
  {
   "cell_type": "code",
   "execution_count": 28,
   "id": "ed80bd5a",
   "metadata": {},
   "outputs": [],
   "source": [
    "contingency_table = pd.crosstab(var1, var2)"
   ]
  },
  {
   "cell_type": "code",
   "execution_count": 29,
   "id": "913c189c",
   "metadata": {},
   "outputs": [
    {
     "data": {
      "text/html": [
       "<div>\n",
       "<style scoped>\n",
       "    .dataframe tbody tr th:only-of-type {\n",
       "        vertical-align: middle;\n",
       "    }\n",
       "\n",
       "    .dataframe tbody tr th {\n",
       "        vertical-align: top;\n",
       "    }\n",
       "\n",
       "    .dataframe thead th {\n",
       "        text-align: right;\n",
       "    }\n",
       "</style>\n",
       "<table border=\"1\" class=\"dataframe\">\n",
       "  <thead>\n",
       "    <tr style=\"text-align: right;\">\n",
       "      <th>correctionsNb</th>\n",
       "      <th>0</th>\n",
       "      <th>1</th>\n",
       "      <th>2</th>\n",
       "    </tr>\n",
       "    <tr>\n",
       "      <th>cancelled</th>\n",
       "      <th></th>\n",
       "      <th></th>\n",
       "      <th></th>\n",
       "    </tr>\n",
       "  </thead>\n",
       "  <tbody>\n",
       "    <tr>\n",
       "      <th>0</th>\n",
       "      <td>1375507</td>\n",
       "      <td>5088</td>\n",
       "      <td>90</td>\n",
       "    </tr>\n",
       "    <tr>\n",
       "      <th>1</th>\n",
       "      <td>279</td>\n",
       "      <td>1</td>\n",
       "      <td>0</td>\n",
       "    </tr>\n",
       "  </tbody>\n",
       "</table>\n",
       "</div>"
      ],
      "text/plain": [
       "correctionsNb        0     1   2\n",
       "cancelled                       \n",
       "0              1375507  5088  90\n",
       "1                  279     1   0"
      ]
     },
     "execution_count": 29,
     "metadata": {},
     "output_type": "execute_result"
    }
   ],
   "source": [
    "contingency_table"
   ]
  },
  {
   "cell_type": "code",
   "execution_count": 30,
   "id": "552b8cb3",
   "metadata": {},
   "outputs": [],
   "source": [
    "chi2, p, dof, expected = chi2_contingency(contingency_table)\n",
    "n = contingency_table.sum().sum()\n",
    "cramer_v = (chi2 / n)**0.5"
   ]
  },
  {
   "cell_type": "code",
   "execution_count": 31,
   "id": "9b6f0212",
   "metadata": {},
   "outputs": [
    {
     "data": {
      "text/plain": [
       "0.01924284673420908"
      ]
     },
     "execution_count": 31,
     "metadata": {},
     "output_type": "execute_result"
    }
   ],
   "source": [
    "chi2"
   ]
  },
  {
   "cell_type": "markdown",
   "id": "86472370",
   "metadata": {},
   "source": [
    "Cette valeur étant petite celà veut dire ces 2 variables sont **indépendantes**"
   ]
  },
  {
   "cell_type": "code",
   "execution_count": 32,
   "id": "92cc4944",
   "metadata": {},
   "outputs": [
    {
     "data": {
      "text/plain": [
       "0.9904247144376845"
      ]
     },
     "execution_count": 32,
     "metadata": {},
     "output_type": "execute_result"
    }
   ],
   "source": [
    "p"
   ]
  },
  {
   "cell_type": "markdown",
   "id": "619037a4",
   "metadata": {},
   "source": [
    "Une grande pour p implique que les valeurs sont **indépendantes**"
   ]
  },
  {
   "cell_type": "code",
   "execution_count": 33,
   "id": "5be0e6aa",
   "metadata": {},
   "outputs": [
    {
     "data": {
      "text/plain": [
       "0.00011804383884902163"
      ]
     },
     "execution_count": 33,
     "metadata": {},
     "output_type": "execute_result"
    }
   ],
   "source": [
    "cramer_v"
   ]
  },
  {
   "cell_type": "markdown",
   "id": "5f392e7f",
   "metadata": {},
   "source": [
    "Une petite valeur pour **crammer_v** implique les variables ne sont pas associées"
   ]
  },
  {
   "cell_type": "markdown",
   "id": "b0cbb136",
   "metadata": {},
   "source": [
    "# Correlation entre cancelled et numberTenders"
   ]
  },
  {
   "cell_type": "code",
   "execution_count": 34,
   "id": "efdf70e3",
   "metadata": {},
   "outputs": [],
   "source": [
    "df = lots[['numberTenders', 'cancelled']]"
   ]
  },
  {
   "cell_type": "code",
   "execution_count": 35,
   "id": "b98e7dd4",
   "metadata": {},
   "outputs": [
    {
     "data": {
      "text/html": [
       "<div>\n",
       "<style scoped>\n",
       "    .dataframe tbody tr th:only-of-type {\n",
       "        vertical-align: middle;\n",
       "    }\n",
       "\n",
       "    .dataframe tbody tr th {\n",
       "        vertical-align: top;\n",
       "    }\n",
       "\n",
       "    .dataframe thead th {\n",
       "        text-align: right;\n",
       "    }\n",
       "</style>\n",
       "<table border=\"1\" class=\"dataframe\">\n",
       "  <thead>\n",
       "    <tr style=\"text-align: right;\">\n",
       "      <th></th>\n",
       "      <th>numberTenders</th>\n",
       "      <th>cancelled</th>\n",
       "    </tr>\n",
       "  </thead>\n",
       "  <tbody>\n",
       "    <tr>\n",
       "      <th>0</th>\n",
       "      <td>NaN</td>\n",
       "      <td>0</td>\n",
       "    </tr>\n",
       "    <tr>\n",
       "      <th>1</th>\n",
       "      <td>NaN</td>\n",
       "      <td>0</td>\n",
       "    </tr>\n",
       "    <tr>\n",
       "      <th>2</th>\n",
       "      <td>NaN</td>\n",
       "      <td>0</td>\n",
       "    </tr>\n",
       "    <tr>\n",
       "      <th>3</th>\n",
       "      <td>11.0</td>\n",
       "      <td>0</td>\n",
       "    </tr>\n",
       "    <tr>\n",
       "      <th>4</th>\n",
       "      <td>6.0</td>\n",
       "      <td>0</td>\n",
       "    </tr>\n",
       "    <tr>\n",
       "      <th>...</th>\n",
       "      <td>...</td>\n",
       "      <td>...</td>\n",
       "    </tr>\n",
       "    <tr>\n",
       "      <th>1380960</th>\n",
       "      <td>2.0</td>\n",
       "      <td>0</td>\n",
       "    </tr>\n",
       "    <tr>\n",
       "      <th>1380961</th>\n",
       "      <td>2.0</td>\n",
       "      <td>0</td>\n",
       "    </tr>\n",
       "    <tr>\n",
       "      <th>1380962</th>\n",
       "      <td>3.0</td>\n",
       "      <td>0</td>\n",
       "    </tr>\n",
       "    <tr>\n",
       "      <th>1380963</th>\n",
       "      <td>1.0</td>\n",
       "      <td>0</td>\n",
       "    </tr>\n",
       "    <tr>\n",
       "      <th>1380964</th>\n",
       "      <td>1.0</td>\n",
       "      <td>0</td>\n",
       "    </tr>\n",
       "  </tbody>\n",
       "</table>\n",
       "<p>1380965 rows × 2 columns</p>\n",
       "</div>"
      ],
      "text/plain": [
       "         numberTenders  cancelled\n",
       "0                  NaN          0\n",
       "1                  NaN          0\n",
       "2                  NaN          0\n",
       "3                 11.0          0\n",
       "4                  6.0          0\n",
       "...                ...        ...\n",
       "1380960            2.0          0\n",
       "1380961            2.0          0\n",
       "1380962            3.0          0\n",
       "1380963            1.0          0\n",
       "1380964            1.0          0\n",
       "\n",
       "[1380965 rows x 2 columns]"
      ]
     },
     "execution_count": 35,
     "metadata": {},
     "output_type": "execute_result"
    }
   ],
   "source": [
    "df"
   ]
  },
  {
   "cell_type": "code",
   "execution_count": 36,
   "id": "ae68975b",
   "metadata": {},
   "outputs": [],
   "source": [
    "df_new = df.dropna()"
   ]
  },
  {
   "cell_type": "code",
   "execution_count": 37,
   "id": "4b8e95dc",
   "metadata": {},
   "outputs": [],
   "source": [
    "df_new['numberTenders'] = df_new['numberTenders'].astype(int)"
   ]
  },
  {
   "cell_type": "code",
   "execution_count": 38,
   "id": "a17033c8",
   "metadata": {},
   "outputs": [
    {
     "data": {
      "text/html": [
       "<div>\n",
       "<style scoped>\n",
       "    .dataframe tbody tr th:only-of-type {\n",
       "        vertical-align: middle;\n",
       "    }\n",
       "\n",
       "    .dataframe tbody tr th {\n",
       "        vertical-align: top;\n",
       "    }\n",
       "\n",
       "    .dataframe thead th {\n",
       "        text-align: right;\n",
       "    }\n",
       "</style>\n",
       "<table border=\"1\" class=\"dataframe\">\n",
       "  <thead>\n",
       "    <tr style=\"text-align: right;\">\n",
       "      <th></th>\n",
       "      <th>numberTenders</th>\n",
       "      <th>cancelled</th>\n",
       "    </tr>\n",
       "  </thead>\n",
       "  <tbody>\n",
       "    <tr>\n",
       "      <th>3</th>\n",
       "      <td>11</td>\n",
       "      <td>0</td>\n",
       "    </tr>\n",
       "    <tr>\n",
       "      <th>4</th>\n",
       "      <td>6</td>\n",
       "      <td>0</td>\n",
       "    </tr>\n",
       "    <tr>\n",
       "      <th>8</th>\n",
       "      <td>5</td>\n",
       "      <td>0</td>\n",
       "    </tr>\n",
       "    <tr>\n",
       "      <th>9</th>\n",
       "      <td>2</td>\n",
       "      <td>0</td>\n",
       "    </tr>\n",
       "    <tr>\n",
       "      <th>10</th>\n",
       "      <td>4</td>\n",
       "      <td>0</td>\n",
       "    </tr>\n",
       "    <tr>\n",
       "      <th>...</th>\n",
       "      <td>...</td>\n",
       "      <td>...</td>\n",
       "    </tr>\n",
       "    <tr>\n",
       "      <th>1380960</th>\n",
       "      <td>2</td>\n",
       "      <td>0</td>\n",
       "    </tr>\n",
       "    <tr>\n",
       "      <th>1380961</th>\n",
       "      <td>2</td>\n",
       "      <td>0</td>\n",
       "    </tr>\n",
       "    <tr>\n",
       "      <th>1380962</th>\n",
       "      <td>3</td>\n",
       "      <td>0</td>\n",
       "    </tr>\n",
       "    <tr>\n",
       "      <th>1380963</th>\n",
       "      <td>1</td>\n",
       "      <td>0</td>\n",
       "    </tr>\n",
       "    <tr>\n",
       "      <th>1380964</th>\n",
       "      <td>1</td>\n",
       "      <td>0</td>\n",
       "    </tr>\n",
       "  </tbody>\n",
       "</table>\n",
       "<p>956866 rows × 2 columns</p>\n",
       "</div>"
      ],
      "text/plain": [
       "         numberTenders  cancelled\n",
       "3                   11          0\n",
       "4                    6          0\n",
       "8                    5          0\n",
       "9                    2          0\n",
       "10                   4          0\n",
       "...                ...        ...\n",
       "1380960              2          0\n",
       "1380961              2          0\n",
       "1380962              3          0\n",
       "1380963              1          0\n",
       "1380964              1          0\n",
       "\n",
       "[956866 rows x 2 columns]"
      ]
     },
     "execution_count": 38,
     "metadata": {},
     "output_type": "execute_result"
    }
   ],
   "source": [
    "df_new"
   ]
  },
  {
   "cell_type": "markdown",
   "id": "515ace5c",
   "metadata": {},
   "source": [
    "## Graphe de corrélation"
   ]
  },
  {
   "cell_type": "code",
   "execution_count": 39,
   "id": "581f150f",
   "metadata": {},
   "outputs": [],
   "source": [
    "numberTenders = df_new['numberTenders']"
   ]
  },
  {
   "cell_type": "code",
   "execution_count": 40,
   "id": "73458b8e",
   "metadata": {},
   "outputs": [],
   "source": [
    "bins = [numberTenders.min() - 1, 2, 4, 6, numberTenders.max()]\n",
    "df_new['interval'] = pd.cut(numberTenders, bins=bins, precision=0)"
   ]
  },
  {
   "cell_type": "code",
   "execution_count": 41,
   "id": "98461703",
   "metadata": {},
   "outputs": [
    {
     "data": {
      "text/html": [
       "<div>\n",
       "<style scoped>\n",
       "    .dataframe tbody tr th:only-of-type {\n",
       "        vertical-align: middle;\n",
       "    }\n",
       "\n",
       "    .dataframe tbody tr th {\n",
       "        vertical-align: top;\n",
       "    }\n",
       "\n",
       "    .dataframe thead th {\n",
       "        text-align: right;\n",
       "    }\n",
       "</style>\n",
       "<table border=\"1\" class=\"dataframe\">\n",
       "  <thead>\n",
       "    <tr style=\"text-align: right;\">\n",
       "      <th></th>\n",
       "      <th>numberTenders</th>\n",
       "      <th>cancelled</th>\n",
       "      <th>interval</th>\n",
       "    </tr>\n",
       "  </thead>\n",
       "  <tbody>\n",
       "    <tr>\n",
       "      <th>3</th>\n",
       "      <td>11</td>\n",
       "      <td>0</td>\n",
       "      <td>(6, 999]</td>\n",
       "    </tr>\n",
       "    <tr>\n",
       "      <th>4</th>\n",
       "      <td>6</td>\n",
       "      <td>0</td>\n",
       "      <td>(4, 6]</td>\n",
       "    </tr>\n",
       "    <tr>\n",
       "      <th>8</th>\n",
       "      <td>5</td>\n",
       "      <td>0</td>\n",
       "      <td>(4, 6]</td>\n",
       "    </tr>\n",
       "    <tr>\n",
       "      <th>9</th>\n",
       "      <td>2</td>\n",
       "      <td>0</td>\n",
       "      <td>(-1, 2]</td>\n",
       "    </tr>\n",
       "    <tr>\n",
       "      <th>10</th>\n",
       "      <td>4</td>\n",
       "      <td>0</td>\n",
       "      <td>(2, 4]</td>\n",
       "    </tr>\n",
       "    <tr>\n",
       "      <th>...</th>\n",
       "      <td>...</td>\n",
       "      <td>...</td>\n",
       "      <td>...</td>\n",
       "    </tr>\n",
       "    <tr>\n",
       "      <th>1380960</th>\n",
       "      <td>2</td>\n",
       "      <td>0</td>\n",
       "      <td>(-1, 2]</td>\n",
       "    </tr>\n",
       "    <tr>\n",
       "      <th>1380961</th>\n",
       "      <td>2</td>\n",
       "      <td>0</td>\n",
       "      <td>(-1, 2]</td>\n",
       "    </tr>\n",
       "    <tr>\n",
       "      <th>1380962</th>\n",
       "      <td>3</td>\n",
       "      <td>0</td>\n",
       "      <td>(2, 4]</td>\n",
       "    </tr>\n",
       "    <tr>\n",
       "      <th>1380963</th>\n",
       "      <td>1</td>\n",
       "      <td>0</td>\n",
       "      <td>(-1, 2]</td>\n",
       "    </tr>\n",
       "    <tr>\n",
       "      <th>1380964</th>\n",
       "      <td>1</td>\n",
       "      <td>0</td>\n",
       "      <td>(-1, 2]</td>\n",
       "    </tr>\n",
       "  </tbody>\n",
       "</table>\n",
       "<p>956866 rows × 3 columns</p>\n",
       "</div>"
      ],
      "text/plain": [
       "         numberTenders  cancelled  interval\n",
       "3                   11          0  (6, 999]\n",
       "4                    6          0    (4, 6]\n",
       "8                    5          0    (4, 6]\n",
       "9                    2          0   (-1, 2]\n",
       "10                   4          0    (2, 4]\n",
       "...                ...        ...       ...\n",
       "1380960              2          0   (-1, 2]\n",
       "1380961              2          0   (-1, 2]\n",
       "1380962              3          0    (2, 4]\n",
       "1380963              1          0   (-1, 2]\n",
       "1380964              1          0   (-1, 2]\n",
       "\n",
       "[956866 rows x 3 columns]"
      ]
     },
     "execution_count": 41,
     "metadata": {},
     "output_type": "execute_result"
    }
   ],
   "source": [
    "df_new"
   ]
  },
  {
   "cell_type": "code",
   "execution_count": 42,
   "id": "e1b786ae",
   "metadata": {},
   "outputs": [],
   "source": [
    "gb_1 = df_new.groupby(['cancelled', 'interval']).size().unstack(fill_value=0)"
   ]
  },
  {
   "cell_type": "code",
   "execution_count": 43,
   "id": "fc918eea",
   "metadata": {},
   "outputs": [
    {
     "data": {
      "text/html": [
       "<div>\n",
       "<style scoped>\n",
       "    .dataframe tbody tr th:only-of-type {\n",
       "        vertical-align: middle;\n",
       "    }\n",
       "\n",
       "    .dataframe tbody tr th {\n",
       "        vertical-align: top;\n",
       "    }\n",
       "\n",
       "    .dataframe thead th {\n",
       "        text-align: right;\n",
       "    }\n",
       "</style>\n",
       "<table border=\"1\" class=\"dataframe\">\n",
       "  <thead>\n",
       "    <tr style=\"text-align: right;\">\n",
       "      <th>interval</th>\n",
       "      <th>(-1, 2]</th>\n",
       "      <th>(2, 4]</th>\n",
       "      <th>(4, 6]</th>\n",
       "      <th>(6, 999]</th>\n",
       "    </tr>\n",
       "    <tr>\n",
       "      <th>cancelled</th>\n",
       "      <th></th>\n",
       "      <th></th>\n",
       "      <th></th>\n",
       "      <th></th>\n",
       "    </tr>\n",
       "  </thead>\n",
       "  <tbody>\n",
       "    <tr>\n",
       "      <th>0</th>\n",
       "      <td>327838</td>\n",
       "      <td>296240</td>\n",
       "      <td>146472</td>\n",
       "      <td>186138</td>\n",
       "    </tr>\n",
       "    <tr>\n",
       "      <th>1</th>\n",
       "      <td>33</td>\n",
       "      <td>37</td>\n",
       "      <td>35</td>\n",
       "      <td>73</td>\n",
       "    </tr>\n",
       "  </tbody>\n",
       "</table>\n",
       "</div>"
      ],
      "text/plain": [
       "interval   (-1, 2]  (2, 4]  (4, 6]  (6, 999]\n",
       "cancelled                                   \n",
       "0           327838  296240  146472    186138\n",
       "1               33      37      35        73"
      ]
     },
     "execution_count": 43,
     "metadata": {},
     "output_type": "execute_result"
    }
   ],
   "source": [
    "gb_1"
   ]
  },
  {
   "cell_type": "code",
   "execution_count": 44,
   "id": "9f6ea5b2",
   "metadata": {},
   "outputs": [],
   "source": [
    "def corr_cancelled_numberTenders_1(data, logy=True):\n",
    "    data.plot(kind='bar', stacked=False)\n",
    "    # Adding titles and labels\n",
    "    plt.title(\"Correlation entre annulation et le nombre d'offre\")\n",
    "    plt.xlabel('Annulation')\n",
    "    plt.ylabel(\"Nombre d'offre\")\n",
    "    if logy:\n",
    "        plt.yscale('log')\n",
    "    plt.show()"
   ]
  },
  {
   "cell_type": "code",
   "execution_count": 45,
   "id": "8c7a9e4a",
   "metadata": {},
   "outputs": [
    {
     "data": {
      "image/png": "[encoded data removed]",
      "text/plain": [
       "<Figure size 640x480 with 1 Axes>"
      ]
     },
     "metadata": {},
     "output_type": "display_data"
    }
   ],
   "source": [
    "corr_cancelled_numberTenders_1(gb_1)"
   ]
  },
  {
   "cell_type": "markdown",
   "id": "65c49db0",
   "metadata": {},
   "source": [
    "Nous pouvons constater que parmi les offres annulé, la majeur partie sont des offres qui concernent au maximum **2 lots**\n",
    "\n",
    "Pour les offres non annulé, la majeur partie sont des offres qui concernent au minimum **2 lots**"
   ]
  },
  {
   "cell_type": "markdown",
   "id": "3d07bca6",
   "metadata": {},
   "source": [
    "## Coéfficient de corrélation"
   ]
  },
  {
   "cell_type": "code",
   "execution_count": 46,
   "id": "ca73233d",
   "metadata": {},
   "outputs": [],
   "source": [
    "df_new = df.dropna()"
   ]
  },
  {
   "cell_type": "code",
   "execution_count": 47,
   "id": "36ce2eb9",
   "metadata": {},
   "outputs": [
    {
     "data": {
      "text/html": [
       "<div>\n",
       "<style scoped>\n",
       "    .dataframe tbody tr th:only-of-type {\n",
       "        vertical-align: middle;\n",
       "    }\n",
       "\n",
       "    .dataframe tbody tr th {\n",
       "        vertical-align: top;\n",
       "    }\n",
       "\n",
       "    .dataframe thead th {\n",
       "        text-align: right;\n",
       "    }\n",
       "</style>\n",
       "<table border=\"1\" class=\"dataframe\">\n",
       "  <thead>\n",
       "    <tr style=\"text-align: right;\">\n",
       "      <th></th>\n",
       "      <th>numberTenders</th>\n",
       "      <th>cancelled</th>\n",
       "    </tr>\n",
       "  </thead>\n",
       "  <tbody>\n",
       "    <tr>\n",
       "      <th>3</th>\n",
       "      <td>11.0</td>\n",
       "      <td>0</td>\n",
       "    </tr>\n",
       "    <tr>\n",
       "      <th>4</th>\n",
       "      <td>6.0</td>\n",
       "      <td>0</td>\n",
       "    </tr>\n",
       "    <tr>\n",
       "      <th>8</th>\n",
       "      <td>5.0</td>\n",
       "      <td>0</td>\n",
       "    </tr>\n",
       "    <tr>\n",
       "      <th>9</th>\n",
       "      <td>2.0</td>\n",
       "      <td>0</td>\n",
       "    </tr>\n",
       "    <tr>\n",
       "      <th>10</th>\n",
       "      <td>4.0</td>\n",
       "      <td>0</td>\n",
       "    </tr>\n",
       "    <tr>\n",
       "      <th>...</th>\n",
       "      <td>...</td>\n",
       "      <td>...</td>\n",
       "    </tr>\n",
       "    <tr>\n",
       "      <th>1380960</th>\n",
       "      <td>2.0</td>\n",
       "      <td>0</td>\n",
       "    </tr>\n",
       "    <tr>\n",
       "      <th>1380961</th>\n",
       "      <td>2.0</td>\n",
       "      <td>0</td>\n",
       "    </tr>\n",
       "    <tr>\n",
       "      <th>1380962</th>\n",
       "      <td>3.0</td>\n",
       "      <td>0</td>\n",
       "    </tr>\n",
       "    <tr>\n",
       "      <th>1380963</th>\n",
       "      <td>1.0</td>\n",
       "      <td>0</td>\n",
       "    </tr>\n",
       "    <tr>\n",
       "      <th>1380964</th>\n",
       "      <td>1.0</td>\n",
       "      <td>0</td>\n",
       "    </tr>\n",
       "  </tbody>\n",
       "</table>\n",
       "<p>956866 rows × 2 columns</p>\n",
       "</div>"
      ],
      "text/plain": [
       "         numberTenders  cancelled\n",
       "3                 11.0          0\n",
       "4                  6.0          0\n",
       "8                  5.0          0\n",
       "9                  2.0          0\n",
       "10                 4.0          0\n",
       "...                ...        ...\n",
       "1380960            2.0          0\n",
       "1380961            2.0          0\n",
       "1380962            3.0          0\n",
       "1380963            1.0          0\n",
       "1380964            1.0          0\n",
       "\n",
       "[956866 rows x 2 columns]"
      ]
     },
     "execution_count": 47,
     "metadata": {},
     "output_type": "execute_result"
    }
   ],
   "source": [
    "df_new"
   ]
  },
  {
   "cell_type": "code",
   "execution_count": 48,
   "id": "9bcd7025",
   "metadata": {},
   "outputs": [],
   "source": [
    "binary_attribute = df_new['cancelled'].astype('category')\n",
    "numeric_attribute= df_new['numberTenders'].astype(int)\n",
    "corr_coeff, p_value = pointbiserialr(binary_attribute, numeric_attribute)"
   ]
  },
  {
   "cell_type": "code",
   "execution_count": 49,
   "id": "b24679d5",
   "metadata": {},
   "outputs": [
    {
     "data": {
      "text/plain": [
       "0.006012417309949352"
      ]
     },
     "execution_count": 49,
     "metadata": {},
     "output_type": "execute_result"
    }
   ],
   "source": [
    "corr_coeff"
   ]
  },
  {
   "cell_type": "code",
   "execution_count": 50,
   "id": "10f0696f",
   "metadata": {},
   "outputs": [
    {
     "data": {
      "text/plain": [
       "4.068999833246837e-09"
      ]
     },
     "execution_count": 50,
     "metadata": {},
     "output_type": "execute_result"
    }
   ],
   "source": [
    "p_value"
   ]
  },
  {
   "cell_type": "markdown",
   "id": "36bd8f21",
   "metadata": {},
   "source": [
    "# Correlation entre cancelled et lotsNumber\t"
   ]
  },
  {
   "cell_type": "markdown",
   "id": "595ea38b",
   "metadata": {},
   "source": [
    "## Graphe de corrélation"
   ]
  },
  {
   "cell_type": "code",
   "execution_count": 51,
   "id": "354fd123",
   "metadata": {},
   "outputs": [],
   "source": [
    "df = lots[['cancelled', 'lotsNumber']]"
   ]
  },
  {
   "cell_type": "code",
   "execution_count": 52,
   "id": "1d10768c",
   "metadata": {},
   "outputs": [
    {
     "data": {
      "text/html": [
       "<div>\n",
       "<style scoped>\n",
       "    .dataframe tbody tr th:only-of-type {\n",
       "        vertical-align: middle;\n",
       "    }\n",
       "\n",
       "    .dataframe tbody tr th {\n",
       "        vertical-align: top;\n",
       "    }\n",
       "\n",
       "    .dataframe thead th {\n",
       "        text-align: right;\n",
       "    }\n",
       "</style>\n",
       "<table border=\"1\" class=\"dataframe\">\n",
       "  <thead>\n",
       "    <tr style=\"text-align: right;\">\n",
       "      <th></th>\n",
       "      <th>cancelled</th>\n",
       "      <th>lotsNumber</th>\n",
       "    </tr>\n",
       "  </thead>\n",
       "  <tbody>\n",
       "    <tr>\n",
       "      <th>0</th>\n",
       "      <td>0</td>\n",
       "      <td>NaN</td>\n",
       "    </tr>\n",
       "    <tr>\n",
       "      <th>1</th>\n",
       "      <td>0</td>\n",
       "      <td>NaN</td>\n",
       "    </tr>\n",
       "    <tr>\n",
       "      <th>2</th>\n",
       "      <td>0</td>\n",
       "      <td>NaN</td>\n",
       "    </tr>\n",
       "    <tr>\n",
       "      <th>3</th>\n",
       "      <td>0</td>\n",
       "      <td>NaN</td>\n",
       "    </tr>\n",
       "    <tr>\n",
       "      <th>4</th>\n",
       "      <td>0</td>\n",
       "      <td>NaN</td>\n",
       "    </tr>\n",
       "    <tr>\n",
       "      <th>...</th>\n",
       "      <td>...</td>\n",
       "      <td>...</td>\n",
       "    </tr>\n",
       "    <tr>\n",
       "      <th>1380960</th>\n",
       "      <td>0</td>\n",
       "      <td>NaN</td>\n",
       "    </tr>\n",
       "    <tr>\n",
       "      <th>1380961</th>\n",
       "      <td>0</td>\n",
       "      <td>NaN</td>\n",
       "    </tr>\n",
       "    <tr>\n",
       "      <th>1380962</th>\n",
       "      <td>0</td>\n",
       "      <td>NaN</td>\n",
       "    </tr>\n",
       "    <tr>\n",
       "      <th>1380963</th>\n",
       "      <td>0</td>\n",
       "      <td>NaN</td>\n",
       "    </tr>\n",
       "    <tr>\n",
       "      <th>1380964</th>\n",
       "      <td>0</td>\n",
       "      <td>NaN</td>\n",
       "    </tr>\n",
       "  </tbody>\n",
       "</table>\n",
       "<p>1380965 rows × 2 columns</p>\n",
       "</div>"
      ],
      "text/plain": [
       "         cancelled lotsNumber\n",
       "0                0        NaN\n",
       "1                0        NaN\n",
       "2                0        NaN\n",
       "3                0        NaN\n",
       "4                0        NaN\n",
       "...            ...        ...\n",
       "1380960          0        NaN\n",
       "1380961          0        NaN\n",
       "1380962          0        NaN\n",
       "1380963          0        NaN\n",
       "1380964          0        NaN\n",
       "\n",
       "[1380965 rows x 2 columns]"
      ]
     },
     "execution_count": 52,
     "metadata": {},
     "output_type": "execute_result"
    }
   ],
   "source": [
    "df"
   ]
  },
  {
   "cell_type": "code",
   "execution_count": 53,
   "id": "5793d411",
   "metadata": {},
   "outputs": [],
   "source": [
    "df_new = df.dropna()"
   ]
  },
  {
   "cell_type": "code",
   "execution_count": 54,
   "id": "73045455",
   "metadata": {},
   "outputs": [
    {
     "data": {
      "text/html": [
       "<div>\n",
       "<style scoped>\n",
       "    .dataframe tbody tr th:only-of-type {\n",
       "        vertical-align: middle;\n",
       "    }\n",
       "\n",
       "    .dataframe tbody tr th {\n",
       "        vertical-align: top;\n",
       "    }\n",
       "\n",
       "    .dataframe thead th {\n",
       "        text-align: right;\n",
       "    }\n",
       "</style>\n",
       "<table border=\"1\" class=\"dataframe\">\n",
       "  <thead>\n",
       "    <tr style=\"text-align: right;\">\n",
       "      <th></th>\n",
       "      <th>cancelled</th>\n",
       "      <th>lotsNumber</th>\n",
       "    </tr>\n",
       "  </thead>\n",
       "  <tbody>\n",
       "    <tr>\n",
       "      <th>284</th>\n",
       "      <td>0</td>\n",
       "      <td>1</td>\n",
       "    </tr>\n",
       "    <tr>\n",
       "      <th>300</th>\n",
       "      <td>0</td>\n",
       "      <td>1</td>\n",
       "    </tr>\n",
       "    <tr>\n",
       "      <th>319</th>\n",
       "      <td>0</td>\n",
       "      <td>1</td>\n",
       "    </tr>\n",
       "    <tr>\n",
       "      <th>320</th>\n",
       "      <td>0</td>\n",
       "      <td>2</td>\n",
       "    </tr>\n",
       "    <tr>\n",
       "      <th>321</th>\n",
       "      <td>0</td>\n",
       "      <td>3</td>\n",
       "    </tr>\n",
       "    <tr>\n",
       "      <th>...</th>\n",
       "      <td>...</td>\n",
       "      <td>...</td>\n",
       "    </tr>\n",
       "    <tr>\n",
       "      <th>1380952</th>\n",
       "      <td>0</td>\n",
       "      <td>3</td>\n",
       "    </tr>\n",
       "    <tr>\n",
       "      <th>1380953</th>\n",
       "      <td>0</td>\n",
       "      <td>4</td>\n",
       "    </tr>\n",
       "    <tr>\n",
       "      <th>1380954</th>\n",
       "      <td>0</td>\n",
       "      <td>5</td>\n",
       "    </tr>\n",
       "    <tr>\n",
       "      <th>1380955</th>\n",
       "      <td>0</td>\n",
       "      <td>6</td>\n",
       "    </tr>\n",
       "    <tr>\n",
       "      <th>1380956</th>\n",
       "      <td>0</td>\n",
       "      <td>7</td>\n",
       "    </tr>\n",
       "  </tbody>\n",
       "</table>\n",
       "<p>1085537 rows × 2 columns</p>\n",
       "</div>"
      ],
      "text/plain": [
       "         cancelled lotsNumber\n",
       "284              0          1\n",
       "300              0          1\n",
       "319              0          1\n",
       "320              0          2\n",
       "321              0          3\n",
       "...            ...        ...\n",
       "1380952          0          3\n",
       "1380953          0          4\n",
       "1380954          0          5\n",
       "1380955          0          6\n",
       "1380956          0          7\n",
       "\n",
       "[1085537 rows x 2 columns]"
      ]
     },
     "execution_count": 54,
     "metadata": {},
     "output_type": "execute_result"
    }
   ],
   "source": [
    "df_new"
   ]
  },
  {
   "cell_type": "code",
   "execution_count": null,
   "id": "1df05be2",
   "metadata": {},
   "outputs": [],
   "source": []
  },
  {
   "cell_type": "markdown",
   "id": "8368b5de",
   "metadata": {},
   "source": [
    "## Coefficient de corrélation"
   ]
  },
  {
   "cell_type": "markdown",
   "id": "2f4dbe02",
   "metadata": {},
   "source": [
    "# Corrélation entre correctionsNb et cancelled\t"
   ]
  },
  {
   "cell_type": "code",
   "execution_count": null,
   "id": "def61d30",
   "metadata": {},
   "outputs": [],
   "source": [
    "plot_categorial_numerical(\n",
    "    data=df,\n",
    "    title=\"Correlation entre correctionsNb et publicityDuration\",\n",
    "    xlabel='correctionsNb',\n",
    "    ylabel='publicityDuration',\n",
    "    logy=True\n",
    ")"
   ]
  },
  {
   "cell_type": "code",
   "execution_count": null,
   "id": "62ec30da",
   "metadata": {},
   "outputs": [],
   "source": [
    "df = lots[['awardDate', 'gpa']]\n",
    "df = process_date(df)\n",
    "gb_1 = df.groupby(['month','gpa']).size().unstack(fill_value=0)\n",
    "plot_categorial_categorical(\n",
    "    data=gb_1,\n",
    "    title=\"Correlation entre awardDate et gpa\",\n",
    "    xlabel=\"month\",\n",
    "    ylabel=\"gpa\",\n",
    "    logy=True\n",
    ")"
   ]
  },
  {
   "cell_type": "code",
   "execution_count": null,
   "id": "d4ec98ab",
   "metadata": {},
   "outputs": [],
   "source": [
    "plot_numerical_numerical(\n",
    "    data=df,\n",
    "    title='',\n",
    "    xlabel='',\n",
    "    ylabel='',\n",
    "    logy=True\n",
    ")"
   ]
  }
 ],
 "metadata": {
  "kernelspec": {
   "display_name": "Python 3 (ipykernel)",
   "language": "python",
   "name": "python3"
  },
  "language_info": {
   "codemirror_mode": {
    "name": "ipython",
    "version": 3
   },
   "file_extension": ".py",
   "mimetype": "text/x-python",
   "name": "python",
   "nbconvert_exporter": "python",
   "pygments_lexer": "ipython3",
   "version": "3.7.0"
  }
 },
 "nbformat": 4,
 "nbformat_minor": 5
}
